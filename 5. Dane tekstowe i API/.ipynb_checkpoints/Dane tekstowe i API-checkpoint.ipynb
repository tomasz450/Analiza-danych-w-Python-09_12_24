{
 "cells": [
  {
   "cell_type": "markdown",
   "id": "1621539a",
   "metadata": {},
   "source": [
    "### 6.Dane tekstowe i API\n",
    "- Proste operacje tekstowe\n",
    "- Łączenie z API i pobieranie danych\n",
    "- Pozyskiwanie ze stron (requests)\n",
    "- Parsowanie stron internetowych (BeautifulSoup)\n",
    "- Przetwarzanie i zapisywanie\n"
   ]
  },
  {
   "cell_type": "markdown",
   "id": "ff2f0d55-c94f-4142-97f2-949ffaa1f434",
   "metadata": {},
   "source": [
    "#### Proste operacje tekstowe"
   ]
  },
  {
   "cell_type": "code",
   "execution_count": 1,
   "id": "3fc02e25-9b28-4147-a92f-fe70b11ea18d",
   "metadata": {},
   "outputs": [],
   "source": [
    "text = 'Python'"
   ]
  },
  {
   "cell_type": "code",
   "execution_count": 2,
   "id": "a976368e-7bc4-4bf5-8a4f-080b7c51e567",
   "metadata": {},
   "outputs": [
    {
     "name": "stdout",
     "output_type": "stream",
     "text": [
      "['__add__', '__class__', '__contains__', '__delattr__', '__dir__', '__doc__', '__eq__', '__format__', '__ge__', '__getattribute__', '__getitem__', '__getnewargs__', '__gt__', '__hash__', '__init__', '__init_subclass__', '__iter__', '__le__', '__len__', '__lt__', '__mod__', '__mul__', '__ne__', '__new__', '__reduce__', '__reduce_ex__', '__repr__', '__rmod__', '__rmul__', '__setattr__', '__sizeof__', '__str__', '__subclasshook__', 'capitalize', 'casefold', 'center', 'count', 'encode', 'endswith', 'expandtabs', 'find', 'format', 'format_map', 'index', 'isalnum', 'isalpha', 'isascii', 'isdecimal', 'isdigit', 'isidentifier', 'islower', 'isnumeric', 'isprintable', 'isspace', 'istitle', 'isupper', 'join', 'ljust', 'lower', 'lstrip', 'maketrans', 'partition', 'removeprefix', 'removesuffix', 'replace', 'rfind', 'rindex', 'rjust', 'rpartition', 'rsplit', 'rstrip', 'split', 'splitlines', 'startswith', 'strip', 'swapcase', 'title', 'translate', 'upper', 'zfill']\n"
     ]
    }
   ],
   "source": [
    "print(dir(text))"
   ]
  },
  {
   "cell_type": "code",
   "execution_count": 3,
   "id": "e9f13ee8-ce77-4eba-95b1-d857afb7b264",
   "metadata": {},
   "outputs": [
    {
     "name": "stdout",
     "output_type": "stream",
     "text": [
      "Python\n"
     ]
    }
   ],
   "source": [
    "napis=\"python\"\n",
    "print(napis.title())"
   ]
  },
  {
   "cell_type": "code",
   "execution_count": 4,
   "id": "411a607a-a9a8-4b54-8289-ae01ad535692",
   "metadata": {},
   "outputs": [
    {
     "data": {
      "text/plain": [
       "'Python'"
      ]
     },
     "execution_count": 4,
     "metadata": {},
     "output_type": "execute_result"
    }
   ],
   "source": [
    "text = 'Python '\n",
    "text.strip() # usuwa białe znaki"
   ]
  },
  {
   "cell_type": "code",
   "execution_count": 5,
   "id": "ad76ba66-3afd-46e9-b19d-5b0fe654816e",
   "metadata": {},
   "outputs": [
    {
     "data": {
      "text/plain": [
       "'PYTHON '"
      ]
     },
     "execution_count": 5,
     "metadata": {},
     "output_type": "execute_result"
    }
   ],
   "source": [
    "text.upper()"
   ]
  },
  {
   "cell_type": "code",
   "execution_count": 9,
   "id": "b5b56972-5a65-439c-828f-a9fe0caee306",
   "metadata": {},
   "outputs": [
    {
     "data": {
      "text/plain": [
       "'python '"
      ]
     },
     "execution_count": 9,
     "metadata": {},
     "output_type": "execute_result"
    }
   ],
   "source": [
    "text.lower()"
   ]
  },
  {
   "cell_type": "code",
   "execution_count": 10,
   "id": "9e908487-847f-47a7-a801-7d27ce4c5c26",
   "metadata": {},
   "outputs": [
    {
     "data": {
      "text/plain": [
       "True"
      ]
     },
     "execution_count": 10,
     "metadata": {},
     "output_type": "execute_result"
    }
   ],
   "source": [
    "text.lower().strip() == 'python'"
   ]
  },
  {
   "cell_type": "code",
   "execution_count": 11,
   "id": "482b36cd-9d28-4d12-8334-521f45e0e50e",
   "metadata": {},
   "outputs": [
    {
     "name": "stdout",
     "output_type": "stream",
     "text": [
      "1.3\n"
     ]
    }
   ],
   "source": [
    "napis=\"1,3\"\n",
    "print(napis.replace(\",\",\".\"))"
   ]
  },
  {
   "cell_type": "code",
   "execution_count": 12,
   "id": "7788ed14-1277-45a3-8eb7-a2d21fe95581",
   "metadata": {},
   "outputs": [
    {
     "name": "stdout",
     "output_type": "stream",
     "text": [
      "6\n"
     ]
    }
   ],
   "source": [
    "napis=\"python\"\n",
    "print(len(napis))"
   ]
  },
  {
   "cell_type": "code",
   "execution_count": 13,
   "id": "bc119dc1-6786-487f-9103-99686e190bf3",
   "metadata": {},
   "outputs": [
    {
     "name": "stdout",
     "output_type": "stream",
     "text": [
      "1\n"
     ]
    }
   ],
   "source": [
    "napis=\"Python\"\n",
    "print(napis.count('P'))"
   ]
  },
  {
   "cell_type": "code",
   "execution_count": 14,
   "id": "2d80da38-2253-4134-b8e6-4792c27574a1",
   "metadata": {},
   "outputs": [
    {
     "name": "stdout",
     "output_type": "stream",
     "text": [
      "['123', '785', '45', '5']\n"
     ]
    }
   ],
   "source": [
    "number_string = '123,785,45,5'\n",
    "numbers = number_string.split(',')\n",
    "print(numbers)"
   ]
  },
  {
   "cell_type": "code",
   "execution_count": 15,
   "id": "f0fdbdd7-2fa4-48f7-a656-811ecacd12cd",
   "metadata": {},
   "outputs": [
    {
     "data": {
      "text/plain": [
       "'744444444'"
      ]
     },
     "execution_count": 15,
     "metadata": {},
     "output_type": "execute_result"
    }
   ],
   "source": [
    "telefon = '744-444-444'\n",
    "telefon.replace('-', '')"
   ]
  },
  {
   "cell_type": "code",
   "execution_count": 16,
   "id": "d34e38e8-9c28-4052-923f-17c1de3769a6",
   "metadata": {},
   "outputs": [
    {
     "data": {
      "text/plain": [
       "'744444444'"
      ]
     },
     "execution_count": 16,
     "metadata": {},
     "output_type": "execute_result"
    }
   ],
   "source": [
    "telefon = '744-444-444'\n",
    "telefon = telefon.split('-')\n",
    "telefon = ''.join(telefon)\n",
    "telefon"
   ]
  },
  {
   "cell_type": "code",
   "execution_count": 22,
   "id": "1c6ba320-763a-4800-86a8-8ac963353c89",
   "metadata": {},
   "outputs": [
    {
     "name": "stdout",
     "output_type": "stream",
     "text": [
      "sport#python#free#time\n"
     ]
    }
   ],
   "source": [
    "words = ['sport', 'python', 'free', 'time']\n",
    "joined_words = '#'.join(words)\n",
    "print(joined_words)"
   ]
  },
  {
   "cell_type": "code",
   "execution_count": 23,
   "id": "12e483c9-af2e-4cda-abe5-bd9e4b4363aa",
   "metadata": {},
   "outputs": [
    {
     "name": "stdout",
     "output_type": "stream",
     "text": [
      "['PROG', 'PY']\n"
     ]
    }
   ],
   "source": [
    "napis=\"prog.py\"\n",
    "print(napis.upper().split(\".\"))"
   ]
  },
  {
   "cell_type": "code",
   "execution_count": 24,
   "id": "133b4aee-ac2e-4962-9f19-22f57f8abe89",
   "metadata": {},
   "outputs": [
    {
     "name": "stdout",
     "output_type": "stream",
     "text": [
      "P\n",
      "y\n",
      "t\n",
      "h\n",
      "o\n",
      "n\n"
     ]
    }
   ],
   "source": [
    "nazwa=\"Python\"\n",
    "for n in nazwa:\n",
    "    print(n)"
   ]
  },
  {
   "cell_type": "markdown",
   "id": "8a0952c4-55ca-4f7b-9b7f-39307a26d3e0",
   "metadata": {},
   "source": [
    "#### o cięciu łańcuchów tekstowych słów kilka"
   ]
  },
  {
   "cell_type": "code",
   "execution_count": 25,
   "id": "a7914d2c-ca54-4c73-b71b-c274e9d1ceb8",
   "metadata": {},
   "outputs": [],
   "source": [
    "lancuch=\"123456789\""
   ]
  },
  {
   "cell_type": "code",
   "execution_count": 26,
   "id": "c57e3f0c-5eb3-42b3-8789-72e2226ad6b3",
   "metadata": {},
   "outputs": [
    {
     "data": {
      "text/plain": [
       "'1'"
      ]
     },
     "execution_count": 26,
     "metadata": {},
     "output_type": "execute_result"
    }
   ],
   "source": [
    "lancuch[0]"
   ]
  },
  {
   "cell_type": "code",
   "execution_count": 27,
   "id": "35f0a9a2-d991-4ec6-bb15-7736ecda0062",
   "metadata": {},
   "outputs": [
    {
     "name": "stdout",
     "output_type": "stream",
     "text": [
      "13579\n"
     ]
    }
   ],
   "source": [
    "print(lancuch[::2])"
   ]
  },
  {
   "cell_type": "code",
   "execution_count": null,
   "id": "12c55511-740c-48ee-aa1f-5a95354e46b2",
   "metadata": {},
   "outputs": [],
   "source": []
  }
 ],
 "metadata": {
  "kernelspec": {
   "display_name": "Python 3 (ipykernel)",
   "language": "python",
   "name": "python3"
  },
  "language_info": {
   "codemirror_mode": {
    "name": "ipython",
    "version": 3
   },
   "file_extension": ".py",
   "mimetype": "text/x-python",
   "name": "python",
   "nbconvert_exporter": "python",
   "pygments_lexer": "ipython3",
   "version": "3.9.20"
  }
 },
 "nbformat": 4,
 "nbformat_minor": 5
}
