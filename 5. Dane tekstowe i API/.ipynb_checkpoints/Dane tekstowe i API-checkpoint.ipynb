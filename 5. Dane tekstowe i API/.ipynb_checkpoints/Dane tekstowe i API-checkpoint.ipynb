{
 "cells": [
  {
   "cell_type": "markdown",
   "id": "1621539a",
   "metadata": {},
   "source": [
    "### 6.Dane tekstowe i API\n",
    "- Proste operacje tekstowe\n",
    "- Łączenie z API i pobieranie danych\n",
    "- Pozyskiwanie ze stron (requests)\n",
    "- Parsowanie stron internetowych (BeautifulSoup)\n",
    "- Przetwarzanie i zapisywanie\n"
   ]
  },
  {
   "cell_type": "markdown",
   "id": "ff2f0d55-c94f-4142-97f2-949ffaa1f434",
   "metadata": {},
   "source": [
    "#### Proste operacje tekstowe"
   ]
  },
  {
   "cell_type": "code",
   "execution_count": 1,
   "id": "3fc02e25-9b28-4147-a92f-fe70b11ea18d",
   "metadata": {},
   "outputs": [],
   "source": [
    "text = 'Python'"
   ]
  },
  {
   "cell_type": "code",
   "execution_count": 2,
   "id": "a976368e-7bc4-4bf5-8a4f-080b7c51e567",
   "metadata": {},
   "outputs": [
    {
     "name": "stdout",
     "output_type": "stream",
     "text": [
      "['__add__', '__class__', '__contains__', '__delattr__', '__dir__', '__doc__', '__eq__', '__format__', '__ge__', '__getattribute__', '__getitem__', '__getnewargs__', '__gt__', '__hash__', '__init__', '__init_subclass__', '__iter__', '__le__', '__len__', '__lt__', '__mod__', '__mul__', '__ne__', '__new__', '__reduce__', '__reduce_ex__', '__repr__', '__rmod__', '__rmul__', '__setattr__', '__sizeof__', '__str__', '__subclasshook__', 'capitalize', 'casefold', 'center', 'count', 'encode', 'endswith', 'expandtabs', 'find', 'format', 'format_map', 'index', 'isalnum', 'isalpha', 'isascii', 'isdecimal', 'isdigit', 'isidentifier', 'islower', 'isnumeric', 'isprintable', 'isspace', 'istitle', 'isupper', 'join', 'ljust', 'lower', 'lstrip', 'maketrans', 'partition', 'removeprefix', 'removesuffix', 'replace', 'rfind', 'rindex', 'rjust', 'rpartition', 'rsplit', 'rstrip', 'split', 'splitlines', 'startswith', 'strip', 'swapcase', 'title', 'translate', 'upper', 'zfill']\n"
     ]
    }
   ],
   "source": [
    "print(dir(text))"
   ]
  },
  {
   "cell_type": "code",
   "execution_count": 3,
   "id": "e9f13ee8-ce77-4eba-95b1-d857afb7b264",
   "metadata": {},
   "outputs": [
    {
     "name": "stdout",
     "output_type": "stream",
     "text": [
      "Python\n"
     ]
    }
   ],
   "source": [
    "napis=\"python\"\n",
    "print(napis.title())"
   ]
  },
  {
   "cell_type": "code",
   "execution_count": 4,
   "id": "411a607a-a9a8-4b54-8289-ae01ad535692",
   "metadata": {},
   "outputs": [
    {
     "data": {
      "text/plain": [
       "'Python'"
      ]
     },
     "execution_count": 4,
     "metadata": {},
     "output_type": "execute_result"
    }
   ],
   "source": [
    "text = 'Python '\n",
    "text.strip() # usuwa białe znaki"
   ]
  },
  {
   "cell_type": "code",
   "execution_count": 5,
   "id": "ad76ba66-3afd-46e9-b19d-5b0fe654816e",
   "metadata": {},
   "outputs": [
    {
     "data": {
      "text/plain": [
       "'PYTHON '"
      ]
     },
     "execution_count": 5,
     "metadata": {},
     "output_type": "execute_result"
    }
   ],
   "source": [
    "text.upper()"
   ]
  },
  {
   "cell_type": "code",
   "execution_count": 9,
   "id": "b5b56972-5a65-439c-828f-a9fe0caee306",
   "metadata": {},
   "outputs": [
    {
     "data": {
      "text/plain": [
       "'python '"
      ]
     },
     "execution_count": 9,
     "metadata": {},
     "output_type": "execute_result"
    }
   ],
   "source": [
    "text.lower()"
   ]
  },
  {
   "cell_type": "code",
   "execution_count": 10,
   "id": "9e908487-847f-47a7-a801-7d27ce4c5c26",
   "metadata": {},
   "outputs": [
    {
     "data": {
      "text/plain": [
       "True"
      ]
     },
     "execution_count": 10,
     "metadata": {},
     "output_type": "execute_result"
    }
   ],
   "source": [
    "text.lower().strip() == 'python'"
   ]
  },
  {
   "cell_type": "code",
   "execution_count": 11,
   "id": "482b36cd-9d28-4d12-8334-521f45e0e50e",
   "metadata": {},
   "outputs": [
    {
     "name": "stdout",
     "output_type": "stream",
     "text": [
      "1.3\n"
     ]
    }
   ],
   "source": [
    "napis=\"1,3\"\n",
    "print(napis.replace(\",\",\".\"))"
   ]
  },
  {
   "cell_type": "code",
   "execution_count": 12,
   "id": "7788ed14-1277-45a3-8eb7-a2d21fe95581",
   "metadata": {},
   "outputs": [
    {
     "name": "stdout",
     "output_type": "stream",
     "text": [
      "6\n"
     ]
    }
   ],
   "source": [
    "napis=\"python\"\n",
    "print(len(napis))"
   ]
  },
  {
   "cell_type": "code",
   "execution_count": 13,
   "id": "bc119dc1-6786-487f-9103-99686e190bf3",
   "metadata": {},
   "outputs": [
    {
     "name": "stdout",
     "output_type": "stream",
     "text": [
      "1\n"
     ]
    }
   ],
   "source": [
    "napis=\"Python\"\n",
    "print(napis.count('P'))"
   ]
  },
  {
   "cell_type": "code",
   "execution_count": 14,
   "id": "2d80da38-2253-4134-b8e6-4792c27574a1",
   "metadata": {},
   "outputs": [
    {
     "name": "stdout",
     "output_type": "stream",
     "text": [
      "['123', '785', '45', '5']\n"
     ]
    }
   ],
   "source": [
    "number_string = '123,785,45,5'\n",
    "numbers = number_string.split(',')\n",
    "print(numbers)"
   ]
  },
  {
   "cell_type": "code",
   "execution_count": 15,
   "id": "f0fdbdd7-2fa4-48f7-a656-811ecacd12cd",
   "metadata": {},
   "outputs": [
    {
     "data": {
      "text/plain": [
       "'744444444'"
      ]
     },
     "execution_count": 15,
     "metadata": {},
     "output_type": "execute_result"
    }
   ],
   "source": [
    "telefon = '744-444-444'\n",
    "telefon.replace('-', '')"
   ]
  },
  {
   "cell_type": "code",
   "execution_count": 16,
   "id": "d34e38e8-9c28-4052-923f-17c1de3769a6",
   "metadata": {},
   "outputs": [
    {
     "data": {
      "text/plain": [
       "'744444444'"
      ]
     },
     "execution_count": 16,
     "metadata": {},
     "output_type": "execute_result"
    }
   ],
   "source": [
    "telefon = '744-444-444'\n",
    "telefon = telefon.split('-')\n",
    "telefon = ''.join(telefon)\n",
    "telefon"
   ]
  },
  {
   "cell_type": "code",
   "execution_count": 22,
   "id": "1c6ba320-763a-4800-86a8-8ac963353c89",
   "metadata": {},
   "outputs": [
    {
     "name": "stdout",
     "output_type": "stream",
     "text": [
      "sport#python#free#time\n"
     ]
    }
   ],
   "source": [
    "words = ['sport', 'python', 'free', 'time']\n",
    "joined_words = '#'.join(words)\n",
    "print(joined_words)"
   ]
  },
  {
   "cell_type": "code",
   "execution_count": 23,
   "id": "12e483c9-af2e-4cda-abe5-bd9e4b4363aa",
   "metadata": {},
   "outputs": [
    {
     "name": "stdout",
     "output_type": "stream",
     "text": [
      "['PROG', 'PY']\n"
     ]
    }
   ],
   "source": [
    "napis=\"prog.py\"\n",
    "print(napis.upper().split(\".\"))"
   ]
  },
  {
   "cell_type": "code",
   "execution_count": 24,
   "id": "133b4aee-ac2e-4962-9f19-22f57f8abe89",
   "metadata": {},
   "outputs": [
    {
     "name": "stdout",
     "output_type": "stream",
     "text": [
      "P\n",
      "y\n",
      "t\n",
      "h\n",
      "o\n",
      "n\n"
     ]
    }
   ],
   "source": [
    "nazwa=\"Python\"\n",
    "for n in nazwa:\n",
    "    print(n)"
   ]
  },
  {
   "cell_type": "code",
   "execution_count": 29,
   "id": "12c55511-740c-48ee-aa1f-5a95354e46b2",
   "metadata": {},
   "outputs": [
    {
     "data": {
      "text/plain": [
       "'Python'"
      ]
     },
     "execution_count": 29,
     "metadata": {},
     "output_type": "execute_result"
    }
   ],
   "source": [
    "text = '  Python    '\n",
    "text.strip() # usuwa białe znaki"
   ]
  },
  {
   "cell_type": "code",
   "execution_count": null,
   "id": "fbd22a7e-e8b2-4565-b6a2-8bde5e36b6a1",
   "metadata": {},
   "outputs": [],
   "source": []
  },
  {
   "cell_type": "code",
   "execution_count": 43,
   "id": "b19293ed-e74e-4e86-9c4e-1ae16ea21237",
   "metadata": {},
   "outputs": [
    {
     "name": "stdout",
     "output_type": "stream",
     "text": [
      "\\Python\\tabela\n"
     ]
    }
   ],
   "source": [
    "print('\\Python\\\\tabela')"
   ]
  },
  {
   "cell_type": "code",
   "execution_count": 38,
   "id": "10385434-58db-49c1-86ad-c83b44b2f879",
   "metadata": {},
   "outputs": [
    {
     "name": "stdout",
     "output_type": "stream",
     "text": [
      "Python\n"
     ]
    }
   ],
   "source": [
    "napis=\"Python\\t\"\n",
    "print(napis.replace(\"\\t\",\"\"))"
   ]
  },
  {
   "cell_type": "markdown",
   "id": "78250d89-22e8-4008-b411-08b511e654c4",
   "metadata": {},
   "source": [
    "### na Series"
   ]
  },
  {
   "cell_type": "code",
   "execution_count": 45,
   "id": "82fadf62-dae9-400d-9995-856a24ba8d5c",
   "metadata": {},
   "outputs": [],
   "source": [
    "import pandas as pd"
   ]
  },
  {
   "cell_type": "code",
   "execution_count": 46,
   "id": "b65d820f-7f3f-470b-bf58-e2c186983310",
   "metadata": {},
   "outputs": [
    {
     "data": {
      "text/plain": [
       "a     3.00\n",
       "a     1.00\n",
       "c     2.71\n",
       "d   -10.00\n",
       "dtype: float64"
      ]
     },
     "execution_count": 46,
     "metadata": {},
     "output_type": "execute_result"
    }
   ],
   "source": [
    "s = pd.Series([3, 1, 2.71, -10], index=['a', 'a', 'c', 'd'])\n",
    "s"
   ]
  },
  {
   "cell_type": "code",
   "execution_count": 55,
   "id": "19a0fed0-8686-4c1c-8e47-b335278ab9b7",
   "metadata": {},
   "outputs": [
    {
     "data": {
      "text/plain": [
       "a      3,0\n",
       "a      1,0\n",
       "c     2,71\n",
       "d    -10,0\n",
       "dtype: object"
      ]
     },
     "execution_count": 55,
     "metadata": {},
     "output_type": "execute_result"
    }
   ],
   "source": [
    "s.apply(lambda x: str(x).replace('.', ','))"
   ]
  },
  {
   "cell_type": "markdown",
   "id": "8a0952c4-55ca-4f7b-9b7f-39307a26d3e0",
   "metadata": {},
   "source": [
    "#### o cięciu łańcuchów tekstowych słów kilka"
   ]
  },
  {
   "cell_type": "code",
   "execution_count": 25,
   "id": "a7914d2c-ca54-4c73-b71b-c274e9d1ceb8",
   "metadata": {},
   "outputs": [],
   "source": [
    "lancuch=\"123456789\""
   ]
  },
  {
   "cell_type": "code",
   "execution_count": 26,
   "id": "c57e3f0c-5eb3-42b3-8789-72e2226ad6b3",
   "metadata": {},
   "outputs": [
    {
     "data": {
      "text/plain": [
       "'1'"
      ]
     },
     "execution_count": 26,
     "metadata": {},
     "output_type": "execute_result"
    }
   ],
   "source": [
    "lancuch[0]"
   ]
  },
  {
   "cell_type": "code",
   "execution_count": 27,
   "id": "35f0a9a2-d991-4ec6-bb15-7736ecda0062",
   "metadata": {},
   "outputs": [
    {
     "name": "stdout",
     "output_type": "stream",
     "text": [
      "13579\n"
     ]
    }
   ],
   "source": [
    "print(lancuch[::2])"
   ]
  },
  {
   "cell_type": "markdown",
   "id": "a93e496f-c82f-4c40-8df7-19d02bad441f",
   "metadata": {},
   "source": [
    "### Łączenie z API i pobieranie danych\n",
    "\n",
    "Łączenie się z API (Application Programming Interface) i pobieranie danych to element analizy danych, który pozwala na dostęp do dynamicznych i często aktualizowanych źródeł informacji. API umożliwiają programistom komunikację z różnymi usługami internetowymi, takimi jak serwisy pogodowe, platformy społecznościowe czy bazy danych finansowych.\n",
    "\n",
    "#### Podstawy łączenia się z API\n",
    "\n",
    "API zazwyczaj działają na zasadzie wysyłania żądań HTTP i otrzymywania odpowiedzi, zazwyczaj w formacie JSON lub XML. W Pythonie najpopularniejszą biblioteką do wysyłania żądań HTTP jest `requests`.\n",
    "\n",
    "\n",
    "\n",
    "### Podsumowanie\n",
    "\n",
    "Łączenie się z API i pobieranie danych jest fundamentalnym aspektem analizy danych, pozwalającym na dostęp do dynamicznych i aktualizowanych źródeł informacji. Korzystanie z biblioteki `requests` w Pythonie umożliwia łatwe wysyłanie zapytań HTTP GET i POST, zarówno do publicznych API, jak i tych wymagających autoryzacji. Dzięki temu można pobierać, przetwarzać i analizować dane z różnorodnych źródeł, co jest kluczowe dla nowoczesnych aplikacji analitycznych i naukowych."
   ]
  },
  {
   "cell_type": "markdown",
   "id": "f4266d4b-3763-40ec-a573-5b8524e57bf1",
   "metadata": {},
   "source": [
    "### https://api.nbp.pl/"
   ]
  },
  {
   "cell_type": "code",
   "execution_count": 57,
   "id": "4e01957f-009a-420b-bb71-0f83d1343c75",
   "metadata": {},
   "outputs": [],
   "source": [
    "import pandas as pd"
   ]
  },
  {
   "cell_type": "code",
   "execution_count": 77,
   "id": "792239ab-95fc-4059-afa6-f2cfcb35ff41",
   "metadata": {},
   "outputs": [
    {
     "data": {
      "text/html": [
       "<div>\n",
       "<style scoped>\n",
       "    .dataframe tbody tr th:only-of-type {\n",
       "        vertical-align: middle;\n",
       "    }\n",
       "\n",
       "    .dataframe tbody tr th {\n",
       "        vertical-align: top;\n",
       "    }\n",
       "\n",
       "    .dataframe thead th {\n",
       "        text-align: right;\n",
       "    }\n",
       "</style>\n",
       "<table border=\"1\" class=\"dataframe\">\n",
       "  <thead>\n",
       "    <tr style=\"text-align: right;\">\n",
       "      <th></th>\n",
       "      <th>table</th>\n",
       "      <th>currency</th>\n",
       "      <th>code</th>\n",
       "      <th>rates</th>\n",
       "    </tr>\n",
       "  </thead>\n",
       "  <tbody>\n",
       "    <tr>\n",
       "      <th>0</th>\n",
       "      <td>A</td>\n",
       "      <td>dolar amerykański</td>\n",
       "      <td>USD</td>\n",
       "      <td>{'no': '239/A/NBP/2024', 'effectiveDate': '202...</td>\n",
       "    </tr>\n",
       "  </tbody>\n",
       "</table>\n",
       "</div>"
      ],
      "text/plain": [
       "  table           currency code  \\\n",
       "0     A  dolar amerykański  USD   \n",
       "\n",
       "                                               rates  \n",
       "0  {'no': '239/A/NBP/2024', 'effectiveDate': '202...  "
      ]
     },
     "execution_count": 77,
     "metadata": {},
     "output_type": "execute_result"
    }
   ],
   "source": [
    "a = pd.read_json('http://api.nbp.pl/api/exchangerates/rates/a/USD/')\n",
    "a"
   ]
  },
  {
   "cell_type": "code",
   "execution_count": 78,
   "id": "a65f5985-be58-4d90-ae4c-649fc084eef6",
   "metadata": {},
   "outputs": [
    {
     "data": {
      "text/plain": [
       "4.0518"
      ]
     },
     "execution_count": 78,
     "metadata": {},
     "output_type": "execute_result"
    }
   ],
   "source": [
    "cena_dolara_aktualna = pd.DataFrame(a['rates']).values[0][0]['mid']\n",
    "cena_dolara_aktualna"
   ]
  },
  {
   "cell_type": "code",
   "execution_count": 71,
   "id": "452d088e-3e19-4d38-af6c-85cee885c65c",
   "metadata": {},
   "outputs": [
    {
     "data": {
      "text/html": [
       "<div>\n",
       "<style scoped>\n",
       "    .dataframe tbody tr th:only-of-type {\n",
       "        vertical-align: middle;\n",
       "    }\n",
       "\n",
       "    .dataframe tbody tr th {\n",
       "        vertical-align: top;\n",
       "    }\n",
       "\n",
       "    .dataframe thead th {\n",
       "        text-align: right;\n",
       "    }\n",
       "</style>\n",
       "<table border=\"1\" class=\"dataframe\">\n",
       "  <thead>\n",
       "    <tr style=\"text-align: right;\">\n",
       "      <th></th>\n",
       "      <th>data</th>\n",
       "      <th>cena</th>\n",
       "    </tr>\n",
       "  </thead>\n",
       "  <tbody>\n",
       "    <tr>\n",
       "      <th>0</th>\n",
       "      <td>2024-12-11</td>\n",
       "      <td>350.36</td>\n",
       "    </tr>\n",
       "  </tbody>\n",
       "</table>\n",
       "</div>"
      ],
      "text/plain": [
       "         data    cena\n",
       "0  2024-12-11  350.36"
      ]
     },
     "execution_count": 71,
     "metadata": {},
     "output_type": "execute_result"
    }
   ],
   "source": [
    "pd.read_json('http://api.nbp.pl/api/cenyzlota/')"
   ]
  },
  {
   "cell_type": "code",
   "execution_count": 70,
   "id": "63505a3f-b8ac-4e9e-81fd-d19a93af0d5f",
   "metadata": {},
   "outputs": [
    {
     "data": {
      "text/plain": [
       "0    350.36\n",
       "Name: cena, dtype: float64"
      ]
     },
     "execution_count": 70,
     "metadata": {},
     "output_type": "execute_result"
    }
   ],
   "source": [
    "cena_złota_dzis = pd.read_json('http://api.nbp.pl/api/cenyzlota/')\n",
    "cena_złota_dzis.cena"
   ]
  },
  {
   "cell_type": "code",
   "execution_count": null,
   "id": "ed393868-c5a4-4d3c-96df-c1516e7c641c",
   "metadata": {},
   "outputs": [],
   "source": []
  },
  {
   "cell_type": "code",
   "execution_count": 82,
   "id": "1f75cef2-f916-41a4-b4d5-eb7997a602dd",
   "metadata": {},
   "outputs": [],
   "source": [
    "waluta = 'USD'\n",
    "start = '2024-01-01'\n",
    "end = '2024-03-31'"
   ]
  },
  {
   "cell_type": "code",
   "execution_count": 83,
   "id": "047a73d4-9a73-4b47-a7a5-a364d017097b",
   "metadata": {},
   "outputs": [
    {
     "data": {
      "text/html": [
       "<div>\n",
       "<style scoped>\n",
       "    .dataframe tbody tr th:only-of-type {\n",
       "        vertical-align: middle;\n",
       "    }\n",
       "\n",
       "    .dataframe tbody tr th {\n",
       "        vertical-align: top;\n",
       "    }\n",
       "\n",
       "    .dataframe thead th {\n",
       "        text-align: right;\n",
       "    }\n",
       "</style>\n",
       "<table border=\"1\" class=\"dataframe\">\n",
       "  <thead>\n",
       "    <tr style=\"text-align: right;\">\n",
       "      <th></th>\n",
       "      <th>table</th>\n",
       "      <th>currency</th>\n",
       "      <th>code</th>\n",
       "      <th>rates</th>\n",
       "    </tr>\n",
       "  </thead>\n",
       "  <tbody>\n",
       "    <tr>\n",
       "      <th>0</th>\n",
       "      <td>A</td>\n",
       "      <td>dolar amerykański</td>\n",
       "      <td>USD</td>\n",
       "      <td>{'no': '001/A/NBP/2024', 'effectiveDate': '202...</td>\n",
       "    </tr>\n",
       "    <tr>\n",
       "      <th>1</th>\n",
       "      <td>A</td>\n",
       "      <td>dolar amerykański</td>\n",
       "      <td>USD</td>\n",
       "      <td>{'no': '002/A/NBP/2024', 'effectiveDate': '202...</td>\n",
       "    </tr>\n",
       "    <tr>\n",
       "      <th>2</th>\n",
       "      <td>A</td>\n",
       "      <td>dolar amerykański</td>\n",
       "      <td>USD</td>\n",
       "      <td>{'no': '003/A/NBP/2024', 'effectiveDate': '202...</td>\n",
       "    </tr>\n",
       "    <tr>\n",
       "      <th>3</th>\n",
       "      <td>A</td>\n",
       "      <td>dolar amerykański</td>\n",
       "      <td>USD</td>\n",
       "      <td>{'no': '004/A/NBP/2024', 'effectiveDate': '202...</td>\n",
       "    </tr>\n",
       "    <tr>\n",
       "      <th>4</th>\n",
       "      <td>A</td>\n",
       "      <td>dolar amerykański</td>\n",
       "      <td>USD</td>\n",
       "      <td>{'no': '005/A/NBP/2024', 'effectiveDate': '202...</td>\n",
       "    </tr>\n",
       "    <tr>\n",
       "      <th>...</th>\n",
       "      <td>...</td>\n",
       "      <td>...</td>\n",
       "      <td>...</td>\n",
       "      <td>...</td>\n",
       "    </tr>\n",
       "    <tr>\n",
       "      <th>59</th>\n",
       "      <td>A</td>\n",
       "      <td>dolar amerykański</td>\n",
       "      <td>USD</td>\n",
       "      <td>{'no': '060/A/NBP/2024', 'effectiveDate': '202...</td>\n",
       "    </tr>\n",
       "    <tr>\n",
       "      <th>60</th>\n",
       "      <td>A</td>\n",
       "      <td>dolar amerykański</td>\n",
       "      <td>USD</td>\n",
       "      <td>{'no': '061/A/NBP/2024', 'effectiveDate': '202...</td>\n",
       "    </tr>\n",
       "    <tr>\n",
       "      <th>61</th>\n",
       "      <td>A</td>\n",
       "      <td>dolar amerykański</td>\n",
       "      <td>USD</td>\n",
       "      <td>{'no': '062/A/NBP/2024', 'effectiveDate': '202...</td>\n",
       "    </tr>\n",
       "    <tr>\n",
       "      <th>62</th>\n",
       "      <td>A</td>\n",
       "      <td>dolar amerykański</td>\n",
       "      <td>USD</td>\n",
       "      <td>{'no': '063/A/NBP/2024', 'effectiveDate': '202...</td>\n",
       "    </tr>\n",
       "    <tr>\n",
       "      <th>63</th>\n",
       "      <td>A</td>\n",
       "      <td>dolar amerykański</td>\n",
       "      <td>USD</td>\n",
       "      <td>{'no': '064/A/NBP/2024', 'effectiveDate': '202...</td>\n",
       "    </tr>\n",
       "  </tbody>\n",
       "</table>\n",
       "<p>64 rows × 4 columns</p>\n",
       "</div>"
      ],
      "text/plain": [
       "   table           currency code  \\\n",
       "0      A  dolar amerykański  USD   \n",
       "1      A  dolar amerykański  USD   \n",
       "2      A  dolar amerykański  USD   \n",
       "3      A  dolar amerykański  USD   \n",
       "4      A  dolar amerykański  USD   \n",
       "..   ...                ...  ...   \n",
       "59     A  dolar amerykański  USD   \n",
       "60     A  dolar amerykański  USD   \n",
       "61     A  dolar amerykański  USD   \n",
       "62     A  dolar amerykański  USD   \n",
       "63     A  dolar amerykański  USD   \n",
       "\n",
       "                                                rates  \n",
       "0   {'no': '001/A/NBP/2024', 'effectiveDate': '202...  \n",
       "1   {'no': '002/A/NBP/2024', 'effectiveDate': '202...  \n",
       "2   {'no': '003/A/NBP/2024', 'effectiveDate': '202...  \n",
       "3   {'no': '004/A/NBP/2024', 'effectiveDate': '202...  \n",
       "4   {'no': '005/A/NBP/2024', 'effectiveDate': '202...  \n",
       "..                                                ...  \n",
       "59  {'no': '060/A/NBP/2024', 'effectiveDate': '202...  \n",
       "60  {'no': '061/A/NBP/2024', 'effectiveDate': '202...  \n",
       "61  {'no': '062/A/NBP/2024', 'effectiveDate': '202...  \n",
       "62  {'no': '063/A/NBP/2024', 'effectiveDate': '202...  \n",
       "63  {'no': '064/A/NBP/2024', 'effectiveDate': '202...  \n",
       "\n",
       "[64 rows x 4 columns]"
      ]
     },
     "execution_count": 83,
     "metadata": {},
     "output_type": "execute_result"
    }
   ],
   "source": [
    "query = 'http://api.nbp.pl/api/exchangerates/rates/a/' + waluta +'/' + start + '/' + end + '/'\n",
    "zapytanie = pd.read_json(query)\n",
    "zapytanie"
   ]
  },
  {
   "cell_type": "code",
   "execution_count": 84,
   "id": "ed1ff134-1429-4cb4-845e-193bef8c0c3f",
   "metadata": {},
   "outputs": [
    {
     "data": {
      "text/plain": [
       "array([{'no': '001/A/NBP/2024', 'effectiveDate': '2024-01-02', 'mid': 3.9432},\n",
       "       {'no': '002/A/NBP/2024', 'effectiveDate': '2024-01-03', 'mid': 3.9909},\n",
       "       {'no': '003/A/NBP/2024', 'effectiveDate': '2024-01-04', 'mid': 3.9684},\n",
       "       {'no': '004/A/NBP/2024', 'effectiveDate': '2024-01-05', 'mid': 3.9850000000000003},\n",
       "       {'no': '005/A/NBP/2024', 'effectiveDate': '2024-01-08', 'mid': 3.9812000000000003},\n",
       "       {'no': '006/A/NBP/2024', 'effectiveDate': '2024-01-09', 'mid': 3.9612},\n",
       "       {'no': '007/A/NBP/2024', 'effectiveDate': '2024-01-10', 'mid': 3.9656000000000002},\n",
       "       {'no': '008/A/NBP/2024', 'effectiveDate': '2024-01-11', 'mid': 3.968},\n",
       "       {'no': '009/A/NBP/2024', 'effectiveDate': '2024-01-12', 'mid': 3.9746},\n",
       "       {'no': '010/A/NBP/2024', 'effectiveDate': '2024-01-15', 'mid': 3.9963},\n",
       "       {'no': '011/A/NBP/2024', 'effectiveDate': '2024-01-16', 'mid': 4.0358},\n",
       "       {'no': '012/A/NBP/2024', 'effectiveDate': '2024-01-17', 'mid': 4.0434},\n",
       "       {'no': '013/A/NBP/2024', 'effectiveDate': '2024-01-18', 'mid': 4.0437},\n",
       "       {'no': '014/A/NBP/2024', 'effectiveDate': '2024-01-19', 'mid': 4.0289},\n",
       "       {'no': '015/A/NBP/2024', 'effectiveDate': '2024-01-22', 'mid': 3.9972000000000003},\n",
       "       {'no': '016/A/NBP/2024', 'effectiveDate': '2024-01-23', 'mid': 4.0133},\n",
       "       {'no': '017/A/NBP/2024', 'effectiveDate': '2024-01-24', 'mid': 4.0131},\n",
       "       {'no': '018/A/NBP/2024', 'effectiveDate': '2024-01-25', 'mid': 4.0189},\n",
       "       {'no': '019/A/NBP/2024', 'effectiveDate': '2024-01-26', 'mid': 4.0393},\n",
       "       {'no': '020/A/NBP/2024', 'effectiveDate': '2024-01-29', 'mid': 4.0326},\n",
       "       {'no': '021/A/NBP/2024', 'effectiveDate': '2024-01-30', 'mid': 4.0301},\n",
       "       {'no': '022/A/NBP/2024', 'effectiveDate': '2024-01-31', 'mid': 4.0135},\n",
       "       {'no': '023/A/NBP/2024', 'effectiveDate': '2024-02-01', 'mid': 4.0047},\n",
       "       {'no': '024/A/NBP/2024', 'effectiveDate': '2024-02-02', 'mid': 3.9641},\n",
       "       {'no': '025/A/NBP/2024', 'effectiveDate': '2024-02-05', 'mid': 4.0244},\n",
       "       {'no': '026/A/NBP/2024', 'effectiveDate': '2024-02-06', 'mid': 4.0484},\n",
       "       {'no': '027/A/NBP/2024', 'effectiveDate': '2024-02-07', 'mid': 4.0362},\n",
       "       {'no': '028/A/NBP/2024', 'effectiveDate': '2024-02-08', 'mid': 4.0292},\n",
       "       {'no': '029/A/NBP/2024', 'effectiveDate': '2024-02-09', 'mid': 4.0096},\n",
       "       {'no': '030/A/NBP/2024', 'effectiveDate': '2024-02-12', 'mid': 4.0189},\n",
       "       {'no': '031/A/NBP/2024', 'effectiveDate': '2024-02-13', 'mid': 4.0136},\n",
       "       {'no': '032/A/NBP/2024', 'effectiveDate': '2024-02-14', 'mid': 4.0593},\n",
       "       {'no': '033/A/NBP/2024', 'effectiveDate': '2024-02-15', 'mid': 4.0495},\n",
       "       {'no': '034/A/NBP/2024', 'effectiveDate': '2024-02-16', 'mid': 4.0325},\n",
       "       {'no': '035/A/NBP/2024', 'effectiveDate': '2024-02-19', 'mid': 4.0269},\n",
       "       {'no': '036/A/NBP/2024', 'effectiveDate': '2024-02-20', 'mid': 3.9994},\n",
       "       {'no': '037/A/NBP/2024', 'effectiveDate': '2024-02-21', 'mid': 3.9966},\n",
       "       {'no': '038/A/NBP/2024', 'effectiveDate': '2024-02-22', 'mid': 3.9804},\n",
       "       {'no': '039/A/NBP/2024', 'effectiveDate': '2024-02-23', 'mid': 4.005},\n",
       "       {'no': '040/A/NBP/2024', 'effectiveDate': '2024-02-26', 'mid': 3.9776},\n",
       "       {'no': '041/A/NBP/2024', 'effectiveDate': '2024-02-27', 'mid': 3.9682},\n",
       "       {'no': '042/A/NBP/2024', 'effectiveDate': '2024-02-28', 'mid': 3.9922},\n",
       "       {'no': '043/A/NBP/2024', 'effectiveDate': '2024-02-29', 'mid': 3.9803},\n",
       "       {'no': '044/A/NBP/2024', 'effectiveDate': '2024-03-01', 'mid': 3.9922},\n",
       "       {'no': '045/A/NBP/2024', 'effectiveDate': '2024-03-04', 'mid': 3.982},\n",
       "       {'no': '046/A/NBP/2024', 'effectiveDate': '2024-03-05', 'mid': 3.9838},\n",
       "       {'no': '047/A/NBP/2024', 'effectiveDate': '2024-03-06', 'mid': 3.963},\n",
       "       {'no': '048/A/NBP/2024', 'effectiveDate': '2024-03-07', 'mid': 3.9485},\n",
       "       {'no': '049/A/NBP/2024', 'effectiveDate': '2024-03-08', 'mid': 3.9392},\n",
       "       {'no': '050/A/NBP/2024', 'effectiveDate': '2024-03-11', 'mid': 3.9262},\n",
       "       {'no': '051/A/NBP/2024', 'effectiveDate': '2024-03-12', 'mid': 3.9162},\n",
       "       {'no': '052/A/NBP/2024', 'effectiveDate': '2024-03-13', 'mid': 3.9269},\n",
       "       {'no': '053/A/NBP/2024', 'effectiveDate': '2024-03-14', 'mid': 3.9183},\n",
       "       {'no': '054/A/NBP/2024', 'effectiveDate': '2024-03-15', 'mid': 3.9392},\n",
       "       {'no': '055/A/NBP/2024', 'effectiveDate': '2024-03-18', 'mid': 3.9528},\n",
       "       {'no': '056/A/NBP/2024', 'effectiveDate': '2024-03-19', 'mid': 3.9866},\n",
       "       {'no': '057/A/NBP/2024', 'effectiveDate': '2024-03-20', 'mid': 3.9895},\n",
       "       {'no': '058/A/NBP/2024', 'effectiveDate': '2024-03-21', 'mid': 3.9431000000000003},\n",
       "       {'no': '059/A/NBP/2024', 'effectiveDate': '2024-03-22', 'mid': 3.9928},\n",
       "       {'no': '060/A/NBP/2024', 'effectiveDate': '2024-03-25', 'mid': 3.9833},\n",
       "       {'no': '061/A/NBP/2024', 'effectiveDate': '2024-03-26', 'mid': 3.9704},\n",
       "       {'no': '062/A/NBP/2024', 'effectiveDate': '2024-03-27', 'mid': 3.9857},\n",
       "       {'no': '063/A/NBP/2024', 'effectiveDate': '2024-03-28', 'mid': 4.0081},\n",
       "       {'no': '064/A/NBP/2024', 'effectiveDate': '2024-03-29', 'mid': 3.9886}],\n",
       "      dtype=object)"
      ]
     },
     "execution_count": 84,
     "metadata": {},
     "output_type": "execute_result"
    }
   ],
   "source": [
    "k = zapytanie['rates'].values\n",
    "k"
   ]
  },
  {
   "cell_type": "code",
   "execution_count": 85,
   "id": "b445e10e-cee9-4bc3-b640-fe336c42b772",
   "metadata": {},
   "outputs": [],
   "source": [
    "l = []\n",
    "data = []\n",
    "for i, zap1 in enumerate(zapytanie['rates']):\n",
    "    l.append(zap1['mid'])\n",
    "    data.append(zap1['effectiveDate'])\n",
    "\n"
   ]
  },
  {
   "cell_type": "code",
   "execution_count": 87,
   "id": "183fffaf-dc2e-4ac7-8920-73a3d9d3b92f",
   "metadata": {},
   "outputs": [
    {
     "data": {
      "text/html": [
       "<div>\n",
       "<style scoped>\n",
       "    .dataframe tbody tr th:only-of-type {\n",
       "        vertical-align: middle;\n",
       "    }\n",
       "\n",
       "    .dataframe tbody tr th {\n",
       "        vertical-align: top;\n",
       "    }\n",
       "\n",
       "    .dataframe thead th {\n",
       "        text-align: right;\n",
       "    }\n",
       "</style>\n",
       "<table border=\"1\" class=\"dataframe\">\n",
       "  <thead>\n",
       "    <tr style=\"text-align: right;\">\n",
       "      <th></th>\n",
       "      <th>data</th>\n",
       "      <th>cena</th>\n",
       "    </tr>\n",
       "  </thead>\n",
       "  <tbody>\n",
       "    <tr>\n",
       "      <th>0</th>\n",
       "      <td>2024-01-02</td>\n",
       "      <td>3.9432</td>\n",
       "    </tr>\n",
       "    <tr>\n",
       "      <th>1</th>\n",
       "      <td>2024-01-03</td>\n",
       "      <td>3.9909</td>\n",
       "    </tr>\n",
       "    <tr>\n",
       "      <th>2</th>\n",
       "      <td>2024-01-04</td>\n",
       "      <td>3.9684</td>\n",
       "    </tr>\n",
       "    <tr>\n",
       "      <th>3</th>\n",
       "      <td>2024-01-05</td>\n",
       "      <td>3.9850</td>\n",
       "    </tr>\n",
       "    <tr>\n",
       "      <th>4</th>\n",
       "      <td>2024-01-08</td>\n",
       "      <td>3.9812</td>\n",
       "    </tr>\n",
       "    <tr>\n",
       "      <th>...</th>\n",
       "      <td>...</td>\n",
       "      <td>...</td>\n",
       "    </tr>\n",
       "    <tr>\n",
       "      <th>59</th>\n",
       "      <td>2024-03-25</td>\n",
       "      <td>3.9833</td>\n",
       "    </tr>\n",
       "    <tr>\n",
       "      <th>60</th>\n",
       "      <td>2024-03-26</td>\n",
       "      <td>3.9704</td>\n",
       "    </tr>\n",
       "    <tr>\n",
       "      <th>61</th>\n",
       "      <td>2024-03-27</td>\n",
       "      <td>3.9857</td>\n",
       "    </tr>\n",
       "    <tr>\n",
       "      <th>62</th>\n",
       "      <td>2024-03-28</td>\n",
       "      <td>4.0081</td>\n",
       "    </tr>\n",
       "    <tr>\n",
       "      <th>63</th>\n",
       "      <td>2024-03-29</td>\n",
       "      <td>3.9886</td>\n",
       "    </tr>\n",
       "  </tbody>\n",
       "</table>\n",
       "<p>64 rows × 2 columns</p>\n",
       "</div>"
      ],
      "text/plain": [
       "          data    cena\n",
       "0   2024-01-02  3.9432\n",
       "1   2024-01-03  3.9909\n",
       "2   2024-01-04  3.9684\n",
       "3   2024-01-05  3.9850\n",
       "4   2024-01-08  3.9812\n",
       "..         ...     ...\n",
       "59  2024-03-25  3.9833\n",
       "60  2024-03-26  3.9704\n",
       "61  2024-03-27  3.9857\n",
       "62  2024-03-28  4.0081\n",
       "63  2024-03-29  3.9886\n",
       "\n",
       "[64 rows x 2 columns]"
      ]
     },
     "execution_count": 87,
     "metadata": {},
     "output_type": "execute_result"
    }
   ],
   "source": [
    "test = pd.DataFrame(l, data).reset_index()\n",
    "test.columns = ['data', 'cena']\n",
    "test"
   ]
  },
  {
   "cell_type": "code",
   "execution_count": 88,
   "id": "05a07968-3532-44be-a4f3-d18b2a8924d1",
   "metadata": {},
   "outputs": [
    {
     "data": {
      "image/png": "[encoded data removed]",
      "text/plain": [
       "<Figure size 640x480 with 1 Axes>"
      ]
     },
     "metadata": {},
     "output_type": "display_data"
    }
   ],
   "source": [
    "test.set_index('data').plot();"
   ]
  },
  {
   "cell_type": "markdown",
   "id": "0cf95500-1d3b-4450-b533-b33c5dd793ad",
   "metadata": {},
   "source": [
    "### requests"
   ]
  },
  {
   "cell_type": "code",
   "execution_count": 1,
   "id": "464e9689-4cec-4dbc-b132-c38a71ce2c15",
   "metadata": {},
   "outputs": [
    {
     "name": "stdout",
     "output_type": "stream",
     "text": [
      "Requirement already satisfied: requests in c:\\users\\tomas\\appdata\\local\\programs\\anaconda3\\lib\\site-packages (2.32.3)\n",
      "Requirement already satisfied: charset-normalizer<4,>=2 in c:\\users\\tomas\\appdata\\local\\programs\\anaconda3\\lib\\site-packages (from requests) (3.3.2)\n",
      "Requirement already satisfied: idna<4,>=2.5 in c:\\users\\tomas\\appdata\\local\\programs\\anaconda3\\lib\\site-packages (from requests) (3.7)\n",
      "Requirement already satisfied: urllib3<3,>=1.21.1 in c:\\users\\tomas\\appdata\\local\\programs\\anaconda3\\lib\\site-packages (from requests) (1.26.19)\n",
      "Requirement already satisfied: certifi>=2017.4.17 in c:\\users\\tomas\\appdata\\local\\programs\\anaconda3\\lib\\site-packages (from requests) (2024.8.30)\n",
      "Note: you may need to restart the kernel to use updated packages.\n"
     ]
    }
   ],
   "source": [
    "%pip install requests"
   ]
  },
  {
   "cell_type": "code",
   "execution_count": 1,
   "id": "175be691-d950-41b0-ae85-49ab8949775d",
   "metadata": {},
   "outputs": [],
   "source": [
    "import requests"
   ]
  },
  {
   "cell_type": "code",
   "execution_count": 2,
   "id": "5e30317f-759b-4eb0-bc81-74401a31df94",
   "metadata": {},
   "outputs": [
    {
     "name": "stdout",
     "output_type": "stream",
     "text": [
      "Aktualny kurs dolar amerykański (USD) = 4.0628\n",
      "Aktualny kurs euro (EUR) = 4.2661\n",
      "Aktualny kurs frank szwajcarski (CHF) = 4.5944\n",
      "Aktualny kurs rupia indonezyjska (IDR) = 0.00025528\n"
     ]
    }
   ],
   "source": [
    "BASE_URL = \"https://api.nbp.pl/api/exchangerates/tables/a/?format=json\"\n",
    "OBSLUGIWANE_WALUTY = (\"EUR\", \"CHF\", \"USD\", \"IDR\")\n",
    "\n",
    "\n",
    "res = requests.get(BASE_URL)\n",
    "\n",
    "if res.status_code != 200:\n",
    "    print(f\"Problem z usługą {BASE_URL}\")\n",
    "    exit()\n",
    "\n",
    "cala_odpowiedz = res.json()\n",
    "tabela_kursow = cala_odpowiedz[0][\"rates\"]\n",
    "\n",
    "for el in tabela_kursow:\n",
    "    if el[\"code\"] in OBSLUGIWANE_WALUTY:\n",
    "        print(f'Aktualny kurs {el[\"currency\"]} ({el[\"code\"]}) = {el[\"mid\"]}')"
   ]
  },
  {
   "cell_type": "code",
   "execution_count": null,
   "id": "5b3702e7-1047-4253-9c1d-7aaa95b5ae17",
   "metadata": {},
   "outputs": [],
   "source": []
  }
 ],
 "metadata": {
  "kernelspec": {
   "display_name": "Python 3 (ipykernel)",
   "language": "python",
   "name": "python3"
  },
  "language_info": {
   "codemirror_mode": {
    "name": "ipython",
    "version": 3
   },
   "file_extension": ".py",
   "mimetype": "text/x-python",
   "name": "python",
   "nbconvert_exporter": "python",
   "pygments_lexer": "ipython3",
   "version": "3.9.20"
  }
 },
 "nbformat": 4,
 "nbformat_minor": 5
}
