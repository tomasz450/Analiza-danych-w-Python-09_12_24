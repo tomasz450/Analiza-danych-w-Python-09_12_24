{
 "cells": [
  {
   "cell_type": "markdown",
   "id": "1621539a",
   "metadata": {},
   "source": [
    "### 6.Dane tekstowe i API\n",
    "- Proste operacje tekstowe\n",
    "- Łączenie z API i pobieranie danych\n",
    "- Pozyskiwanie ze stron (requests)\n",
    "- Parsowanie stron internetowych (BeautifulSoup)\n",
    "- Przetwarzanie i zapisywanie\n"
   ]
  },
  {
   "cell_type": "markdown",
   "id": "ff2f0d55-c94f-4142-97f2-949ffaa1f434",
   "metadata": {},
   "source": [
    "#### Proste operacje tekstowe"
   ]
  },
  {
   "cell_type": "code",
   "execution_count": 1,
   "id": "3fc02e25-9b28-4147-a92f-fe70b11ea18d",
   "metadata": {},
   "outputs": [],
   "source": [
    "text = 'Python'"
   ]
  },
  {
   "cell_type": "code",
   "execution_count": null,
   "id": "a976368e-7bc4-4bf5-8a4f-080b7c51e567",
   "metadata": {},
   "outputs": [],
   "source": []
  }
 ],
 "metadata": {
  "kernelspec": {
   "display_name": "Python 3 (ipykernel)",
   "language": "python",
   "name": "python3"
  },
  "language_info": {
   "codemirror_mode": {
    "name": "ipython",
    "version": 3
   },
   "file_extension": ".py",
   "mimetype": "text/x-python",
   "name": "python",
   "nbconvert_exporter": "python",
   "pygments_lexer": "ipython3",
   "version": "3.9.20"
  }
 },
 "nbformat": 4,
 "nbformat_minor": 5
}
