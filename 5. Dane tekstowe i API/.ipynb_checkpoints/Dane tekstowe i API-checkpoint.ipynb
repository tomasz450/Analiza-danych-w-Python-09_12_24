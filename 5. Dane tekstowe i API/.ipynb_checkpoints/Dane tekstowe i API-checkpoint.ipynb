{
 "cells": [
  {
   "cell_type": "markdown",
   "id": "1621539a",
   "metadata": {},
   "source": [
    "### 6.Dane tekstowe i API\n",
    "- Proste operacje tekstowe\n",
    "- Łączenie z API i pobieranie danych\n",
    "- Pozyskiwanie ze stron (requests)\n",
    "- Parsowanie stron internetowych (BeautifulSoup)\n",
    "- Przetwarzanie i zapisywanie\n"
   ]
  },
  {
   "cell_type": "markdown",
   "id": "ff2f0d55-c94f-4142-97f2-949ffaa1f434",
   "metadata": {},
   "source": [
    "#### Proste operacje tekstowe"
   ]
  },
  {
   "cell_type": "code",
   "execution_count": 1,
   "id": "3fc02e25-9b28-4147-a92f-fe70b11ea18d",
   "metadata": {},
   "outputs": [],
   "source": [
    "text = 'Python'"
   ]
  },
  {
   "cell_type": "code",
   "execution_count": 2,
   "id": "a976368e-7bc4-4bf5-8a4f-080b7c51e567",
   "metadata": {},
   "outputs": [
    {
     "name": "stdout",
     "output_type": "stream",
     "text": [
      "['__add__', '__class__', '__contains__', '__delattr__', '__dir__', '__doc__', '__eq__', '__format__', '__ge__', '__getattribute__', '__getitem__', '__getnewargs__', '__gt__', '__hash__', '__init__', '__init_subclass__', '__iter__', '__le__', '__len__', '__lt__', '__mod__', '__mul__', '__ne__', '__new__', '__reduce__', '__reduce_ex__', '__repr__', '__rmod__', '__rmul__', '__setattr__', '__sizeof__', '__str__', '__subclasshook__', 'capitalize', 'casefold', 'center', 'count', 'encode', 'endswith', 'expandtabs', 'find', 'format', 'format_map', 'index', 'isalnum', 'isalpha', 'isascii', 'isdecimal', 'isdigit', 'isidentifier', 'islower', 'isnumeric', 'isprintable', 'isspace', 'istitle', 'isupper', 'join', 'ljust', 'lower', 'lstrip', 'maketrans', 'partition', 'removeprefix', 'removesuffix', 'replace', 'rfind', 'rindex', 'rjust', 'rpartition', 'rsplit', 'rstrip', 'split', 'splitlines', 'startswith', 'strip', 'swapcase', 'title', 'translate', 'upper', 'zfill']\n"
     ]
    }
   ],
   "source": [
    "print(dir(text))"
   ]
  },
  {
   "cell_type": "code",
   "execution_count": 3,
   "id": "e9f13ee8-ce77-4eba-95b1-d857afb7b264",
   "metadata": {},
   "outputs": [
    {
     "name": "stdout",
     "output_type": "stream",
     "text": [
      "Python\n"
     ]
    }
   ],
   "source": [
    "napis=\"python\"\n",
    "print(napis.title())"
   ]
  },
  {
   "cell_type": "code",
   "execution_count": 4,
   "id": "411a607a-a9a8-4b54-8289-ae01ad535692",
   "metadata": {},
   "outputs": [
    {
     "data": {
      "text/plain": [
       "'Python'"
      ]
     },
     "execution_count": 4,
     "metadata": {},
     "output_type": "execute_result"
    }
   ],
   "source": [
    "text = 'Python '\n",
    "text.strip() # usuwa białe znaki"
   ]
  },
  {
   "cell_type": "code",
   "execution_count": 5,
   "id": "ad76ba66-3afd-46e9-b19d-5b0fe654816e",
   "metadata": {},
   "outputs": [
    {
     "data": {
      "text/plain": [
       "'PYTHON '"
      ]
     },
     "execution_count": 5,
     "metadata": {},
     "output_type": "execute_result"
    }
   ],
   "source": [
    "text.upper()"
   ]
  },
  {
   "cell_type": "code",
   "execution_count": 9,
   "id": "b5b56972-5a65-439c-828f-a9fe0caee306",
   "metadata": {},
   "outputs": [
    {
     "data": {
      "text/plain": [
       "'python '"
      ]
     },
     "execution_count": 9,
     "metadata": {},
     "output_type": "execute_result"
    }
   ],
   "source": [
    "text.lower()"
   ]
  },
  {
   "cell_type": "code",
   "execution_count": 10,
   "id": "9e908487-847f-47a7-a801-7d27ce4c5c26",
   "metadata": {},
   "outputs": [
    {
     "data": {
      "text/plain": [
       "True"
      ]
     },
     "execution_count": 10,
     "metadata": {},
     "output_type": "execute_result"
    }
   ],
   "source": [
    "text.lower().strip() == 'python'"
   ]
  },
  {
   "cell_type": "code",
   "execution_count": 11,
   "id": "482b36cd-9d28-4d12-8334-521f45e0e50e",
   "metadata": {},
   "outputs": [
    {
     "name": "stdout",
     "output_type": "stream",
     "text": [
      "1.3\n"
     ]
    }
   ],
   "source": [
    "napis=\"1,3\"\n",
    "print(napis.replace(\",\",\".\"))"
   ]
  },
  {
   "cell_type": "code",
   "execution_count": 12,
   "id": "7788ed14-1277-45a3-8eb7-a2d21fe95581",
   "metadata": {},
   "outputs": [
    {
     "name": "stdout",
     "output_type": "stream",
     "text": [
      "6\n"
     ]
    }
   ],
   "source": [
    "napis=\"python\"\n",
    "print(len(napis))"
   ]
  },
  {
   "cell_type": "code",
   "execution_count": 13,
   "id": "bc119dc1-6786-487f-9103-99686e190bf3",
   "metadata": {},
   "outputs": [
    {
     "name": "stdout",
     "output_type": "stream",
     "text": [
      "1\n"
     ]
    }
   ],
   "source": [
    "napis=\"Python\"\n",
    "print(napis.count('P'))"
   ]
  },
  {
   "cell_type": "code",
   "execution_count": 14,
   "id": "2d80da38-2253-4134-b8e6-4792c27574a1",
   "metadata": {},
   "outputs": [
    {
     "name": "stdout",
     "output_type": "stream",
     "text": [
      "['123', '785', '45', '5']\n"
     ]
    }
   ],
   "source": [
    "number_string = '123,785,45,5'\n",
    "numbers = number_string.split(',')\n",
    "print(numbers)"
   ]
  },
  {
   "cell_type": "code",
   "execution_count": 15,
   "id": "f0fdbdd7-2fa4-48f7-a656-811ecacd12cd",
   "metadata": {},
   "outputs": [
    {
     "data": {
      "text/plain": [
       "'744444444'"
      ]
     },
     "execution_count": 15,
     "metadata": {},
     "output_type": "execute_result"
    }
   ],
   "source": [
    "telefon = '744-444-444'\n",
    "telefon.replace('-', '')"
   ]
  },
  {
   "cell_type": "code",
   "execution_count": 16,
   "id": "d34e38e8-9c28-4052-923f-17c1de3769a6",
   "metadata": {},
   "outputs": [
    {
     "data": {
      "text/plain": [
       "'744444444'"
      ]
     },
     "execution_count": 16,
     "metadata": {},
     "output_type": "execute_result"
    }
   ],
   "source": [
    "telefon = '744-444-444'\n",
    "telefon = telefon.split('-')\n",
    "telefon = ''.join(telefon)\n",
    "telefon"
   ]
  },
  {
   "cell_type": "code",
   "execution_count": 22,
   "id": "1c6ba320-763a-4800-86a8-8ac963353c89",
   "metadata": {},
   "outputs": [
    {
     "name": "stdout",
     "output_type": "stream",
     "text": [
      "sport#python#free#time\n"
     ]
    }
   ],
   "source": [
    "words = ['sport', 'python', 'free', 'time']\n",
    "joined_words = '#'.join(words)\n",
    "print(joined_words)"
   ]
  },
  {
   "cell_type": "code",
   "execution_count": 23,
   "id": "12e483c9-af2e-4cda-abe5-bd9e4b4363aa",
   "metadata": {},
   "outputs": [
    {
     "name": "stdout",
     "output_type": "stream",
     "text": [
      "['PROG', 'PY']\n"
     ]
    }
   ],
   "source": [
    "napis=\"prog.py\"\n",
    "print(napis.upper().split(\".\"))"
   ]
  },
  {
   "cell_type": "code",
   "execution_count": 24,
   "id": "133b4aee-ac2e-4962-9f19-22f57f8abe89",
   "metadata": {},
   "outputs": [
    {
     "name": "stdout",
     "output_type": "stream",
     "text": [
      "P\n",
      "y\n",
      "t\n",
      "h\n",
      "o\n",
      "n\n"
     ]
    }
   ],
   "source": [
    "nazwa=\"Python\"\n",
    "for n in nazwa:\n",
    "    print(n)"
   ]
  },
  {
   "cell_type": "code",
   "execution_count": 29,
   "id": "12c55511-740c-48ee-aa1f-5a95354e46b2",
   "metadata": {},
   "outputs": [
    {
     "data": {
      "text/plain": [
       "'Python'"
      ]
     },
     "execution_count": 29,
     "metadata": {},
     "output_type": "execute_result"
    }
   ],
   "source": [
    "text = '  Python    '\n",
    "text.strip() # usuwa białe znaki"
   ]
  },
  {
   "cell_type": "code",
   "execution_count": null,
   "id": "fbd22a7e-e8b2-4565-b6a2-8bde5e36b6a1",
   "metadata": {},
   "outputs": [],
   "source": []
  },
  {
   "cell_type": "code",
   "execution_count": 43,
   "id": "b19293ed-e74e-4e86-9c4e-1ae16ea21237",
   "metadata": {},
   "outputs": [
    {
     "name": "stdout",
     "output_type": "stream",
     "text": [
      "\\Python\\tabela\n"
     ]
    }
   ],
   "source": [
    "print('\\Python\\\\tabela')"
   ]
  },
  {
   "cell_type": "code",
   "execution_count": 38,
   "id": "10385434-58db-49c1-86ad-c83b44b2f879",
   "metadata": {},
   "outputs": [
    {
     "name": "stdout",
     "output_type": "stream",
     "text": [
      "Python\n"
     ]
    }
   ],
   "source": [
    "napis=\"Python\\t\"\n",
    "print(napis.replace(\"\\t\",\"\"))"
   ]
  },
  {
   "cell_type": "markdown",
   "id": "78250d89-22e8-4008-b411-08b511e654c4",
   "metadata": {},
   "source": [
    "### na Series"
   ]
  },
  {
   "cell_type": "code",
   "execution_count": 45,
   "id": "82fadf62-dae9-400d-9995-856a24ba8d5c",
   "metadata": {},
   "outputs": [],
   "source": [
    "import pandas as pd"
   ]
  },
  {
   "cell_type": "code",
   "execution_count": 46,
   "id": "b65d820f-7f3f-470b-bf58-e2c186983310",
   "metadata": {},
   "outputs": [
    {
     "data": {
      "text/plain": [
       "a     3.00\n",
       "a     1.00\n",
       "c     2.71\n",
       "d   -10.00\n",
       "dtype: float64"
      ]
     },
     "execution_count": 46,
     "metadata": {},
     "output_type": "execute_result"
    }
   ],
   "source": [
    "s = pd.Series([3, 1, 2.71, -10], index=['a', 'a', 'c', 'd'])\n",
    "s"
   ]
  },
  {
   "cell_type": "code",
   "execution_count": 55,
   "id": "19a0fed0-8686-4c1c-8e47-b335278ab9b7",
   "metadata": {},
   "outputs": [
    {
     "data": {
      "text/plain": [
       "a      3,0\n",
       "a      1,0\n",
       "c     2,71\n",
       "d    -10,0\n",
       "dtype: object"
      ]
     },
     "execution_count": 55,
     "metadata": {},
     "output_type": "execute_result"
    }
   ],
   "source": [
    "s.apply(lambda x: str(x).replace('.', ','))"
   ]
  },
  {
   "cell_type": "markdown",
   "id": "8a0952c4-55ca-4f7b-9b7f-39307a26d3e0",
   "metadata": {},
   "source": [
    "#### o cięciu łańcuchów tekstowych słów kilka"
   ]
  },
  {
   "cell_type": "code",
   "execution_count": 25,
   "id": "a7914d2c-ca54-4c73-b71b-c274e9d1ceb8",
   "metadata": {},
   "outputs": [],
   "source": [
    "lancuch=\"123456789\""
   ]
  },
  {
   "cell_type": "code",
   "execution_count": 26,
   "id": "c57e3f0c-5eb3-42b3-8789-72e2226ad6b3",
   "metadata": {},
   "outputs": [
    {
     "data": {
      "text/plain": [
       "'1'"
      ]
     },
     "execution_count": 26,
     "metadata": {},
     "output_type": "execute_result"
    }
   ],
   "source": [
    "lancuch[0]"
   ]
  },
  {
   "cell_type": "code",
   "execution_count": 27,
   "id": "35f0a9a2-d991-4ec6-bb15-7736ecda0062",
   "metadata": {},
   "outputs": [
    {
     "name": "stdout",
     "output_type": "stream",
     "text": [
      "13579\n"
     ]
    }
   ],
   "source": [
    "print(lancuch[::2])"
   ]
  },
  {
   "cell_type": "markdown",
   "id": "a93e496f-c82f-4c40-8df7-19d02bad441f",
   "metadata": {},
   "source": [
    "### Łączenie z API i pobieranie danych\n",
    "\n",
    "Łączenie się z API (Application Programming Interface) i pobieranie danych to element analizy danych, który pozwala na dostęp do dynamicznych i często aktualizowanych źródeł informacji. API umożliwiają programistom komunikację z różnymi usługami internetowymi, takimi jak serwisy pogodowe, platformy społecznościowe czy bazy danych finansowych.\n",
    "\n",
    "#### Podstawy łączenia się z API\n",
    "\n",
    "API zazwyczaj działają na zasadzie wysyłania żądań HTTP i otrzymywania odpowiedzi, zazwyczaj w formacie JSON lub XML. W Pythonie najpopularniejszą biblioteką do wysyłania żądań HTTP jest `requests`.\n",
    "\n",
    "\n",
    "\n",
    "### Podsumowanie\n",
    "\n",
    "Łączenie się z API i pobieranie danych jest fundamentalnym aspektem analizy danych, pozwalającym na dostęp do dynamicznych i aktualizowanych źródeł informacji. Korzystanie z biblioteki `requests` w Pythonie umożliwia łatwe wysyłanie zapytań HTTP GET i POST, zarówno do publicznych API, jak i tych wymagających autoryzacji. Dzięki temu można pobierać, przetwarzać i analizować dane z różnorodnych źródeł, co jest kluczowe dla nowoczesnych aplikacji analitycznych i naukowych."
   ]
  },
  {
   "cell_type": "markdown",
   "id": "f4266d4b-3763-40ec-a573-5b8524e57bf1",
   "metadata": {},
   "source": [
    "### https://api.nbp.pl/"
   ]
  },
  {
   "cell_type": "code",
   "execution_count": 57,
   "id": "4e01957f-009a-420b-bb71-0f83d1343c75",
   "metadata": {},
   "outputs": [],
   "source": [
    "import pandas as pd"
   ]
  },
  {
   "cell_type": "code",
   "execution_count": 58,
   "id": "792239ab-95fc-4059-afa6-f2cfcb35ff41",
   "metadata": {},
   "outputs": [
    {
     "data": {
      "text/html": [
       "<div>\n",
       "<style scoped>\n",
       "    .dataframe tbody tr th:only-of-type {\n",
       "        vertical-align: middle;\n",
       "    }\n",
       "\n",
       "    .dataframe tbody tr th {\n",
       "        vertical-align: top;\n",
       "    }\n",
       "\n",
       "    .dataframe thead th {\n",
       "        text-align: right;\n",
       "    }\n",
       "</style>\n",
       "<table border=\"1\" class=\"dataframe\">\n",
       "  <thead>\n",
       "    <tr style=\"text-align: right;\">\n",
       "      <th></th>\n",
       "      <th>table</th>\n",
       "      <th>currency</th>\n",
       "      <th>code</th>\n",
       "      <th>rates</th>\n",
       "    </tr>\n",
       "  </thead>\n",
       "  <tbody>\n",
       "    <tr>\n",
       "      <th>0</th>\n",
       "      <td>A</td>\n",
       "      <td>dolar amerykański</td>\n",
       "      <td>USD</td>\n",
       "      <td>{'no': '239/A/NBP/2024', 'effectiveDate': '202...</td>\n",
       "    </tr>\n",
       "  </tbody>\n",
       "</table>\n",
       "</div>"
      ],
      "text/plain": [
       "  table           currency code  \\\n",
       "0     A  dolar amerykański  USD   \n",
       "\n",
       "                                               rates  \n",
       "0  {'no': '239/A/NBP/2024', 'effectiveDate': '202...  "
      ]
     },
     "execution_count": 58,
     "metadata": {},
     "output_type": "execute_result"
    }
   ],
   "source": [
    "a = pd.read_json('http://api.nbp.pl/api/exchangerates/rates/a/USD/')\n",
    "a"
   ]
  },
  {
   "cell_type": "code",
   "execution_count": 69,
   "id": "a65f5985-be58-4d90-ae4c-649fc084eef6",
   "metadata": {},
   "outputs": [
    {
     "data": {
      "text/plain": [
       "4.0518"
      ]
     },
     "execution_count": 69,
     "metadata": {},
     "output_type": "execute_result"
    }
   ],
   "source": [
    "cena_dolara_aktualna = pd.DataFrame(a['rates']).values[0][0]['mid']\n",
    "cena_dolara_aktualna"
   ]
  }
 ],
 "metadata": {
  "kernelspec": {
   "display_name": "Python 3 (ipykernel)",
   "language": "python",
   "name": "python3"
  },
  "language_info": {
   "codemirror_mode": {
    "name": "ipython",
    "version": 3
   },
   "file_extension": ".py",
   "mimetype": "text/x-python",
   "name": "python",
   "nbconvert_exporter": "python",
   "pygments_lexer": "ipython3",
   "version": "3.9.20"
  }
 },
 "nbformat": 4,
 "nbformat_minor": 5
}
