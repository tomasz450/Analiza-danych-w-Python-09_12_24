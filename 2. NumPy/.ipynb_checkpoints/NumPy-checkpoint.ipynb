{
 "cells": [
  {
   "cell_type": "markdown",
   "id": "b2849e6c",
   "metadata": {},
   "source": [
    "### NumPy - biblioteka do obliczeń numerycznych\n",
    "\n",
    "- Podstawy obliczeń numerycznych\n",
    "- Porównanie szybkości z czystym Pythonem\n",
    "- Kluczowe różnice pomiędzy tablicami Numpy i listami pythonowymi\n",
    "- Typowe operacje na wektorach i macierzach\n",
    "- Algebra liniowa"
   ]
  },
  {
   "cell_type": "markdown",
   "id": "458d511d",
   "metadata": {},
   "source": [
    "**NumPy**, czyli **Numerical Python**, to biblioteka programistyczna w języku Python, która dostarcza wsparcie dla efektywnych operacji numerycznych, zwłaszcza na dużych tablicach i macierzach danych. Jest jednym z podstawowych narzędzi w dziedzinie naukowych obliczeń i analizy danych w języku Python.\n",
    "\n",
    "Główne cechy i funkcje biblioteki NumPy:\n",
    "\n",
    "1. Tablice wielowymiarowe: NumPy wprowadza nowy typ danych, znany jako **\"array\" (tablica)**, który pozwala na przechowywanie i operowanie danymi wielowymiarowymi. Tablice w NumPy są bardziej wydajne niż standardowe listy w Pythonie i pozwalają na efektywne wykonywanie operacji matematycznych i statystycznych na danych.\n",
    "\n",
    "2. Efektywne operacje numeryczne: NumPy dostarcza wiele wbudowanych funkcji i operacji, takich jak **dodawanie, mnożenie, podnoszenie do potęgi, funkcje trygonometryczne itp.**, które działają efektywnie na dużych zbiorach danych.\n",
    "\n",
    "3. Indeksowanie i wycinanie: NumPy oferuje zaawansowane możliwości indeksowania i wycinania danych z tablic, co pozwala na dostęp do konkretnych elementów lub podtablic z dużą precyzją.\n",
    "\n",
    "4. Losowanie liczb: Biblioteka umożliwia generowanie losowych liczb o różnych rozkładach, co jest przydatne w symulacjach i analizach statystycznych.\n",
    "\n",
    "5. Integracja z innymi bibliotekami: NumPy jest często używany w połączeniu z innymi bibliotekami do naukowych obliczeń i analizy danych, takimi jak SciPy, pandas, matplotlib i scikit-learn.\n",
    "\n",
    "6. Obsługa danych brakujących: NumPy ma wbudowane funkcje do pracy z danymi brakującymi, co jest istotne w analizie danych."
   ]
  },
  {
   "cell_type": "markdown",
   "id": "c76a9258",
   "metadata": {},
   "source": [
    "## NumPy\n",
    "\n",
    "Dokumentacja: [https://NumPy.org/doc/](https://NumPy.org/doc/)\n",
    "\n",
    "Biblioteka do przetwarzania numerycznego dużych wielowymiarowych tablic liczbowych. \n",
    "\n",
    "Typowy import:"
   ]
  },
  {
   "cell_type": "markdown",
   "id": "7359daf2",
   "metadata": {},
   "source": [
    "- Strona biblioteki: https://numpy.org/\n",
    "- Dokumentacja: https://numpy.org/doc/\n",
    "-  ---\n",
    "\n",
    "- Aby zainstalować bibliotekę NumPy, użyj polecenia poniżej:\n",
    "\n",
    "```python\n",
    "pip install numpy\n",
    "```"
   ]
  },
  {
   "cell_type": "code",
   "execution_count": null,
   "id": "1e3d7a57",
   "metadata": {},
   "outputs": [],
   "source": [
    "# !pip install numpy"
   ]
  },
  {
   "cell_type": "code",
   "execution_count": 4,
   "id": "e0ec9b8a",
   "metadata": {},
   "outputs": [
    {
     "name": "stdout",
     "output_type": "stream",
     "text": [
      "Requirement already satisfied: numpy in c:\\users\\tomas\\appdata\\local\\programs\\anaconda3\\lib\\site-packages (1.24.4)\n"
     ]
    }
   ],
   "source": [
    "!pip install numpy #to instaluje biblioteki"
   ]
  },
  {
   "cell_type": "code",
   "execution_count": 5,
   "id": "f0899d92",
   "metadata": {},
   "outputs": [
    {
     "data": {
      "text/plain": [
       "'1.24.4'"
      ]
     },
     "execution_count": 5,
     "metadata": {},
     "output_type": "execute_result"
    }
   ],
   "source": [
    "import numpy as np\n",
    "np.__version__"
   ]
  },
  {
   "cell_type": "markdown",
   "id": "67502caf",
   "metadata": {},
   "source": [
    "## `np.ndarray`\n",
    "\n",
    "\n",
    "* Reprezentuje jedno lub wielowymiarową tablicę wartości. Jest to podstawowa klasa definiowana przez bibliotekę.\n",
    "* Wszystkie wartości w tablicy musza być tego samego typu, czyli `np.ndarray` jest tablicą jednorodną (homogeniczną) .\n",
    "* Każda wartość zajmuje tę samą określoną przez typ porcję pamięci."
   ]
  },
  {
   "cell_type": "code",
   "execution_count": 9,
   "id": "274ee02a",
   "metadata": {},
   "outputs": [
    {
     "data": {
      "text/plain": [
       "array([1, 2, 3])"
      ]
     },
     "execution_count": 9,
     "metadata": {},
     "output_type": "execute_result"
    }
   ],
   "source": [
    "a = np.array([1,2,3])\n",
    "a"
   ]
  },
  {
   "cell_type": "code",
   "execution_count": 10,
   "id": "5553743d",
   "metadata": {},
   "outputs": [
    {
     "data": {
      "text/plain": [
       "numpy.ndarray"
      ]
     },
     "execution_count": 10,
     "metadata": {},
     "output_type": "execute_result"
    }
   ],
   "source": [
    "type(a)"
   ]
  },
  {
   "cell_type": "markdown",
   "id": "f910e536",
   "metadata": {},
   "source": [
    "## `dtype`\n",
    "\n",
    "Wspólny typ dla wszystkich wartości w tablicy:"
   ]
  },
  {
   "cell_type": "code",
   "execution_count": 11,
   "id": "87f9824b",
   "metadata": {},
   "outputs": [
    {
     "data": {
      "text/plain": [
       "dtype('int32')"
      ]
     },
     "execution_count": 11,
     "metadata": {},
     "output_type": "execute_result"
    }
   ],
   "source": [
    "a.dtype"
   ]
  },
  {
   "cell_type": "code",
   "execution_count": 12,
   "id": "80eea30d",
   "metadata": {},
   "outputs": [
    {
     "data": {
      "text/plain": [
       "dtype('float64')"
      ]
     },
     "execution_count": 12,
     "metadata": {},
     "output_type": "execute_result"
    }
   ],
   "source": [
    "a = np.array([1.5, 2, 3.14])\n",
    "a.dtype"
   ]
  },
  {
   "cell_type": "markdown",
   "id": "4bf1908c",
   "metadata": {},
   "source": [
    "Automatyczne rozszerzanie typu:"
   ]
  },
  {
   "cell_type": "code",
   "execution_count": 13,
   "id": "05b53512",
   "metadata": {},
   "outputs": [
    {
     "data": {
      "text/plain": [
       "array([1. , 2. , 3. , 4.5])"
      ]
     },
     "execution_count": 13,
     "metadata": {},
     "output_type": "execute_result"
    }
   ],
   "source": [
    "a = np.array([1, 2, 3, 4.5])\n",
    "a"
   ]
  },
  {
   "cell_type": "code",
   "execution_count": 14,
   "id": "672d6ea0",
   "metadata": {},
   "outputs": [
    {
     "data": {
      "text/plain": [
       "dtype('float64')"
      ]
     },
     "execution_count": 14,
     "metadata": {},
     "output_type": "execute_result"
    }
   ],
   "source": [
    "a.dtype"
   ]
  },
  {
   "cell_type": "markdown",
   "id": "5d760a58",
   "metadata": {},
   "source": [
    "Zadawanie konkretnego typu:"
   ]
  },
  {
   "cell_type": "code",
   "execution_count": 15,
   "id": "d06fec62",
   "metadata": {},
   "outputs": [
    {
     "data": {
      "text/plain": [
       "array([1., 2., 3.])"
      ]
     },
     "execution_count": 15,
     "metadata": {},
     "output_type": "execute_result"
    }
   ],
   "source": [
    "a = np.array([1, 2, 3], dtype='float64')\n",
    "a"
   ]
  },
  {
   "cell_type": "code",
   "execution_count": 16,
   "id": "5c57716f",
   "metadata": {},
   "outputs": [
    {
     "data": {
      "text/plain": [
       "dtype('float64')"
      ]
     },
     "execution_count": 16,
     "metadata": {},
     "output_type": "execute_result"
    }
   ],
   "source": [
    "a.dtype"
   ]
  },
  {
   "cell_type": "markdown",
   "id": "60b2dcc4",
   "metadata": {},
   "source": [
    "zwężadanie typu"
   ]
  },
  {
   "cell_type": "code",
   "execution_count": 17,
   "id": "3c316f59",
   "metadata": {},
   "outputs": [
    {
     "data": {
      "text/plain": [
       "array([1, 2, 3])"
      ]
     },
     "execution_count": 17,
     "metadata": {},
     "output_type": "execute_result"
    }
   ],
   "source": [
    "a = np.array([1.6, 2.1, 3], dtype='int32')\n",
    "a"
   ]
  },
  {
   "cell_type": "markdown",
   "id": "4ad8f42d",
   "metadata": {},
   "source": [
    "## NumPy: typy wbudowane\n",
    "\n",
    "Data type |Description\n",
    "---|---\n",
    "bool_ |Boolean (True or False) stored as a byte\n",
    "int_ |Default integer type (same as C long; normally either int64 or int32)\n",
    "intc |Identical to C int (normally int32 or int64)\n",
    "intp |Integer used for indexing (same as C ssize_t; normally either int32 or int64)\n",
    "int8 |Byte (-128 to 127)\n",
    "int16 |Integer (-32768 to 32767)\n",
    "int32 |Integer (-2147483648 to 2147483647)\n",
    "int64 |Integer (-9223372036854775808 to 9223372036854775807)\n",
    "uint8 |Unsigned integer (0 to 255)\n",
    "uint16 |Unsigned integer (0 to 65535)\n",
    "uint32 |Unsigned integer (0 to 4294967295)\n",
    "uint64 |Unsigned integer (0 to 18446744073709551615)\n",
    "float_ |Shorthand for float64.\n",
    "float16 |Half precision float: sign bit, 5 bits exponent, 10 bits mantissa\n",
    "float32 |Single precision float: sign bit, 8 bits exponent, 23 bits mantissa\n",
    "float64 |Double precision float: sign bit, 11 bits exponent, 52 bits mantissa\n",
    "complex_ |Shorthand for complex128.\n",
    "complex64 |Complex number, represented by two 32-bit floats\n",
    "complex128 |Complex number, represented by two 64-bit floats"
   ]
  },
  {
   "cell_type": "markdown",
   "id": "b5826d0d",
   "metadata": {},
   "source": [
    "## Dygresja: pamięć zajmowana przez tablicę\n",
    "### `np.nbytes`\n",
    "\n",
    "Liczba bajtów zajęta przez jedną wartość danego typu:"
   ]
  },
  {
   "cell_type": "code",
   "execution_count": 18,
   "id": "c8d76f8e",
   "metadata": {},
   "outputs": [
    {
     "data": {
      "text/plain": [
       "{numpy.bool_: 1,\n",
       " numpy.int8: 1,\n",
       " numpy.uint8: 1,\n",
       " numpy.int16: 2,\n",
       " numpy.uint16: 2,\n",
       " numpy.intc: 4,\n",
       " numpy.uintc: 4,\n",
       " numpy.int64: 8,\n",
       " numpy.uint64: 8,\n",
       " numpy.int32: 4,\n",
       " numpy.uint32: 4,\n",
       " numpy.float16: 2,\n",
       " numpy.float32: 4,\n",
       " numpy.float64: 8,\n",
       " numpy.longdouble: 8,\n",
       " numpy.complex64: 8,\n",
       " numpy.complex128: 16,\n",
       " numpy.clongdouble: 16,\n",
       " numpy.object_: 8,\n",
       " numpy.bytes_: 0,\n",
       " numpy.str_: 0,\n",
       " numpy.void: 0,\n",
       " numpy.datetime64: 8,\n",
       " numpy.timedelta64: 8}"
      ]
     },
     "execution_count": 18,
     "metadata": {},
     "output_type": "execute_result"
    }
   ],
   "source": [
    "np.nbytes"
   ]
  },
  {
   "cell_type": "code",
   "execution_count": 19,
   "id": "81685550",
   "metadata": {},
   "outputs": [
    {
     "data": {
      "text/plain": [
       "array([[1, 2, 3]])"
      ]
     },
     "execution_count": 19,
     "metadata": {},
     "output_type": "execute_result"
    }
   ],
   "source": [
    "a = np.array([[1, 2, 3]])\n",
    "a"
   ]
  },
  {
   "cell_type": "code",
   "execution_count": 20,
   "id": "05e6d0bd",
   "metadata": {},
   "outputs": [
    {
     "data": {
      "text/plain": [
       "dtype('int32')"
      ]
     },
     "execution_count": 20,
     "metadata": {},
     "output_type": "execute_result"
    }
   ],
   "source": [
    "a.dtype"
   ]
  },
  {
   "cell_type": "markdown",
   "id": "4e11cf2b",
   "metadata": {},
   "source": [
    "`a.itemsize` -- wspólny rozmiar w bajtach pojedynczej wartości w tablicy `a`:"
   ]
  },
  {
   "cell_type": "code",
   "execution_count": 21,
   "id": "68dbda9c",
   "metadata": {},
   "outputs": [
    {
     "data": {
      "text/plain": [
       "4"
      ]
     },
     "execution_count": 21,
     "metadata": {},
     "output_type": "execute_result"
    }
   ],
   "source": [
    "a.itemsize"
   ]
  },
  {
   "cell_type": "code",
   "execution_count": 22,
   "id": "93c8dd94",
   "metadata": {},
   "outputs": [
    {
     "data": {
      "text/plain": [
       "array([[ 1. ,  2. ],\n",
       "       [-1.5,  3. ]])"
      ]
     },
     "execution_count": 22,
     "metadata": {},
     "output_type": "execute_result"
    }
   ],
   "source": [
    "a = np.array([[1, 2], [-1.5, 3]])\n",
    "a"
   ]
  },
  {
   "cell_type": "code",
   "execution_count": 23,
   "id": "000f22ef",
   "metadata": {},
   "outputs": [
    {
     "data": {
      "text/plain": [
       "dtype('float64')"
      ]
     },
     "execution_count": 23,
     "metadata": {},
     "output_type": "execute_result"
    }
   ],
   "source": [
    "a.dtype"
   ]
  },
  {
   "cell_type": "code",
   "execution_count": 24,
   "id": "23a9cfd0",
   "metadata": {},
   "outputs": [
    {
     "data": {
      "text/plain": [
       "8"
      ]
     },
     "execution_count": 24,
     "metadata": {},
     "output_type": "execute_result"
    }
   ],
   "source": [
    "a.itemsize"
   ]
  },
  {
   "cell_type": "markdown",
   "id": "6c9eff10",
   "metadata": {},
   "source": [
    "### `.astype()`\n",
    "\n",
    "Metoda konwertująca typ, zwraca kopię tablicy:"
   ]
  },
  {
   "cell_type": "code",
   "execution_count": 27,
   "id": "35e096ac",
   "metadata": {},
   "outputs": [
    {
     "data": {
      "text/plain": [
       "array([[ 1,  2],\n",
       "       [-1,  3]], dtype=int16)"
      ]
     },
     "execution_count": 27,
     "metadata": {},
     "output_type": "execute_result"
    }
   ],
   "source": [
    "b = a.astype('int16')\n",
    "b"
   ]
  },
  {
   "cell_type": "code",
   "execution_count": 28,
   "id": "a56443ae",
   "metadata": {},
   "outputs": [
    {
     "data": {
      "text/plain": [
       "2"
      ]
     },
     "execution_count": 28,
     "metadata": {},
     "output_type": "execute_result"
    }
   ],
   "source": [
    "b.itemsize"
   ]
  },
  {
   "cell_type": "code",
   "execution_count": 29,
   "id": "a59948fc",
   "metadata": {},
   "outputs": [
    {
     "data": {
      "text/plain": [
       "8"
      ]
     },
     "execution_count": 29,
     "metadata": {},
     "output_type": "execute_result"
    }
   ],
   "source": [
    "b.nbytes"
   ]
  },
  {
   "cell_type": "markdown",
   "id": "e9c46e54",
   "metadata": {},
   "source": [
    " - `itemsize` zwraca rozmiar (w bajtach) jednego elementu tablicy NumPy.\n",
    " - `nbytes` zwraca całkowitą ilość pamięci (w bajtach), jaką zajmuje tablica NumPy.\n",
    " - Funkcja `sys.getsizeof()` zwraca rozmiar (w bajtach) obiektu w Pythonie, obejmujący wewnętrzne struktury pamięci obiektu. Jest używana do sprawdzenia, ile pamięci zajmuje obiekt Pythonowy, wliczając narzut związany z zarządzaniem pamięcią przez Python."
   ]
  },
  {
   "cell_type": "markdown",
   "id": "4eaafaa2",
   "metadata": {},
   "source": [
    "### `sys.getsizeof()`\n",
    "\n",
    "Zwraca wielkość obiektu w bajtach:"
   ]
  },
  {
   "cell_type": "code",
   "execution_count": 30,
   "id": "2b6f50c7",
   "metadata": {},
   "outputs": [
    {
     "name": "stdout",
     "output_type": "stream",
     "text": [
      "4\n"
     ]
    }
   ],
   "source": [
    "a = np.array([1, 2, 3, 4, 5], dtype=np.int32)\n",
    "print(a.itemsize)  # Wyjście: 4 (każdy element zajmuje 4 bajty)"
   ]
  },
  {
   "cell_type": "code",
   "execution_count": 31,
   "id": "515a41ba",
   "metadata": {},
   "outputs": [
    {
     "data": {
      "text/plain": [
       "array([1, 2, 3, 4, 5])"
      ]
     },
     "execution_count": 31,
     "metadata": {},
     "output_type": "execute_result"
    }
   ],
   "source": [
    "a"
   ]
  },
  {
   "cell_type": "code",
   "execution_count": 32,
   "id": "7df389ed",
   "metadata": {},
   "outputs": [
    {
     "name": "stdout",
     "output_type": "stream",
     "text": [
      "20\n"
     ]
    }
   ],
   "source": [
    "print(a.nbytes)  # Wyjście: 20 (5 elementów * 4 bajty na element)"
   ]
  },
  {
   "cell_type": "code",
   "execution_count": 33,
   "id": "0f3c8d76",
   "metadata": {},
   "outputs": [],
   "source": [
    "import sys"
   ]
  },
  {
   "cell_type": "code",
   "execution_count": 34,
   "id": "baccfcc3",
   "metadata": {},
   "outputs": [
    {
     "data": {
      "text/plain": [
       "132"
      ]
     },
     "execution_count": 34,
     "metadata": {},
     "output_type": "execute_result"
    }
   ],
   "source": [
    "sys.getsizeof(a)"
   ]
  },
  {
   "cell_type": "code",
   "execution_count": 35,
   "id": "dec66dc9",
   "metadata": {},
   "outputs": [
    {
     "data": {
      "text/plain": [
       "24"
      ]
     },
     "execution_count": 35,
     "metadata": {},
     "output_type": "execute_result"
    }
   ],
   "source": [
    "sys.getsizeof(0)"
   ]
  },
  {
   "cell_type": "code",
   "execution_count": 36,
   "id": "ed827800",
   "metadata": {},
   "outputs": [
    {
     "data": {
      "text/plain": [
       "40"
      ]
     },
     "execution_count": 36,
     "metadata": {},
     "output_type": "execute_result"
    }
   ],
   "source": [
    "sys.getsizeof(2**100)"
   ]
  },
  {
   "cell_type": "code",
   "execution_count": 37,
   "id": "bb33f5bf",
   "metadata": {},
   "outputs": [
    {
     "data": {
      "text/plain": [
       "1267650600228229401496703205376"
      ]
     },
     "execution_count": 37,
     "metadata": {},
     "output_type": "execute_result"
    }
   ],
   "source": [
    "2**100"
   ]
  },
  {
   "cell_type": "code",
   "execution_count": 38,
   "id": "72d81f7d",
   "metadata": {},
   "outputs": [
    {
     "name": "stdout",
     "output_type": "stream",
     "text": [
      "Tablica                  Mem wartości   Mem obiektu\n",
      "array([], dtype=float64) 0              112       \n",
      "array([0])               4              116       \n",
      "array([0, 1])            8              120       \n",
      "array([0, 1, 2])         12             124       \n",
      "array([0, 1, 2, 3])      16             128       \n",
      "array([0, 1, 2, 3, 4])   20             132       \n"
     ]
    }
   ],
   "source": [
    "print('{:<25}{:<15}{:<10}'.format('Tablica', 'Mem wartości', 'Mem obiektu'))\n",
    "\n",
    "for k in range(6):\n",
    "    a = np.array(range(k))\n",
    "    print('{!r:<25}{:<15}{:<10}'.format(a, a.nbytes, sys.getsizeof(a)))"
   ]
  },
  {
   "cell_type": "code",
   "execution_count": 39,
   "id": "bf52fe3e",
   "metadata": {},
   "outputs": [
    {
     "data": {
      "text/plain": [
       "132"
      ]
     },
     "execution_count": 39,
     "metadata": {},
     "output_type": "execute_result"
    }
   ],
   "source": [
    "sys.getsizeof(a)"
   ]
  },
  {
   "cell_type": "markdown",
   "id": "6bad5349",
   "metadata": {},
   "source": [
    "### dla listy python"
   ]
  },
  {
   "cell_type": "code",
   "execution_count": 49,
   "id": "f55fd9b1",
   "metadata": {},
   "outputs": [],
   "source": [
    "l = []\n",
    "\n",
    "for i in range(2*1000):\n",
    "    l.append(i)"
   ]
  },
  {
   "cell_type": "code",
   "execution_count": 50,
   "id": "cc103793",
   "metadata": {},
   "outputs": [],
   "source": [
    "l = [i for i in range(2*1000)]"
   ]
  },
  {
   "cell_type": "code",
   "execution_count": 51,
   "id": "29e3e1e2",
   "metadata": {},
   "outputs": [
    {
     "data": {
      "text/plain": [
       "16184"
      ]
     },
     "execution_count": 51,
     "metadata": {},
     "output_type": "execute_result"
    }
   ],
   "source": [
    "sys.getsizeof(l)"
   ]
  },
  {
   "cell_type": "code",
   "execution_count": 52,
   "id": "2f98b07a",
   "metadata": {},
   "outputs": [
    {
     "data": {
      "text/plain": [
       "72180"
      ]
     },
     "execution_count": 52,
     "metadata": {},
     "output_type": "execute_result"
    }
   ],
   "source": [
    "sys.getsizeof(l) + sum(sys.getsizeof(item) for item in l)"
   ]
  },
  {
   "cell_type": "code",
   "execution_count": 53,
   "id": "3f9e2756",
   "metadata": {},
   "outputs": [],
   "source": [
    "a = np.array(range(2*1000))"
   ]
  },
  {
   "cell_type": "code",
   "execution_count": 54,
   "id": "b6ff7853",
   "metadata": {},
   "outputs": [
    {
     "data": {
      "text/plain": [
       "4"
      ]
     },
     "execution_count": 54,
     "metadata": {},
     "output_type": "execute_result"
    }
   ],
   "source": [
    "a.itemsize"
   ]
  },
  {
   "cell_type": "code",
   "execution_count": 55,
   "id": "71d30d08",
   "metadata": {},
   "outputs": [
    {
     "data": {
      "text/plain": [
       "8000"
      ]
     },
     "execution_count": 55,
     "metadata": {},
     "output_type": "execute_result"
    }
   ],
   "source": [
    "a.nbytes"
   ]
  },
  {
   "cell_type": "code",
   "execution_count": 56,
   "id": "ae580a36",
   "metadata": {},
   "outputs": [
    {
     "data": {
      "text/plain": [
       "8112"
      ]
     },
     "execution_count": 56,
     "metadata": {},
     "output_type": "execute_result"
    }
   ],
   "source": [
    "sys.getsizeof(a)"
   ]
  },
  {
   "cell_type": "markdown",
   "id": "b17b9414",
   "metadata": {},
   "source": [
    "### Poprawne porównanie rozmiarów\n",
    "\n",
    "Aby porównać rozmiar zajmowanej pamięci przez listę i tablicę NumPy, powinniśmy użyć odpowiednich metod:\n",
    "- **Dla listy**: `sys.getsizeof(python_list) + sum(sys.getsizeof(item) for item in python_list)`\n",
    "- **Dla tablicy NumPy**: `sys.getsizeof(numpy_array)` dla samego obiektu oraz `numpy_array.nbytes` dla danych.\n",
    "\n",
    "### Wyniki i wyjaśnienie\n",
    "\n",
    "- **Lista Pythona**:\n",
    "  - `sys.getsizeof(python_list)`: rozmiar samej listy (narzut pamięciowy struktury listy).\n",
    "  - `sum(sys.getsizeof(item) for item in python_list)`: rozmiar wszystkich elementów (każdy element jest oddzielnym obiektem Pythona).\n",
    "\n",
    "- **Tablica NumPy**:\n",
    "  - `sys.getsizeof(numpy_array)`: narzut obiektu tablicy NumPy.\n",
    "  - `numpy_array.nbytes`: całkowity rozmiar danych przechowywanych w tablicy.\n",
    "\n",
    "Tablica NumPy będzie zazwyczaj bardziej efektywna pamięciowo niż lista Pythona ze względu na brak dodatkowego narzutu związanego z zarządzaniem indywidualnymi obiektami elementów.\n",
    "\n",
    "W Pythonie lista jest strukturą danych, która przechowuje referencje do obiektów, a nie same obiekty. Dlatego całkowita pamięć zajmowana przez listę obejmuje zarówno narzut związany z samą listą, jak i pamięć zajmowaną przez poszczególne elementy, do których lista odwołuje się przez referencje."
   ]
  },
  {
   "cell_type": "markdown",
   "id": "65d3aab2",
   "metadata": {},
   "source": [
    "### Morał\n",
    "\n",
    "Nawet proste wbudowane typy w Pythonie są złożonymi obiektami zawierającymi liczne dodatkowe dane. Dlatego zwykła lista obiektów ma duży rozmiar i skomplikowaną strukturę.\n",
    "\n",
    "Tablica NumPy odpowiada tablicy w języku C. Ma prostą strukturę, zajmuje jednorodny obszar pamięci, a wartości nie zawierają żadnych dodatkowych metadanych."
   ]
  },
  {
   "cell_type": "code",
   "execution_count": null,
   "id": "fb199085",
   "metadata": {},
   "outputs": [],
   "source": []
  },
  {
   "cell_type": "code",
   "execution_count": null,
   "id": "2ca8ece0",
   "metadata": {},
   "outputs": [],
   "source": []
  }
 ],
 "metadata": {
  "kernelspec": {
   "display_name": "Python 3 (ipykernel)",
   "language": "python",
   "name": "python3"
  },
  "language_info": {
   "codemirror_mode": {
    "name": "ipython",
    "version": 3
   },
   "file_extension": ".py",
   "mimetype": "text/x-python",
   "name": "python",
   "nbconvert_exporter": "python",
   "pygments_lexer": "ipython3",
   "version": "3.9.13"
  }
 },
 "nbformat": 4,
 "nbformat_minor": 5
}
