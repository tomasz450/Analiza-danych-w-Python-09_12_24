{
 "cells": [
  {
   "cell_type": "markdown",
   "id": "b2849e6c",
   "metadata": {},
   "source": [
    "### NumPy - biblioteka do obliczeń numerycznych\n",
    "\n",
    "- Podstawy obliczeń numerycznych\n",
    "- Porównanie szybkości z czystym Pythonem\n",
    "- Kluczowe różnice pomiędzy tablicami Numpy i listami pythonowymi\n",
    "- Typowe operacje na wektorach i macierzach\n",
    "- Algebra liniowa"
   ]
  },
  {
   "cell_type": "markdown",
   "id": "458d511d",
   "metadata": {},
   "source": [
    "**NumPy**, czyli **Numerical Python**, to biblioteka programistyczna w języku Python, która dostarcza wsparcie dla efektywnych operacji numerycznych, zwłaszcza na dużych tablicach i macierzach danych. Jest jednym z podstawowych narzędzi w dziedzinie naukowych obliczeń i analizy danych w języku Python.\n",
    "\n",
    "Główne cechy i funkcje biblioteki NumPy:\n",
    "\n",
    "1. Tablice wielowymiarowe: NumPy wprowadza nowy typ danych, znany jako **\"array\" (tablica)**, który pozwala na przechowywanie i operowanie danymi wielowymiarowymi. Tablice w NumPy są bardziej wydajne niż standardowe listy w Pythonie i pozwalają na efektywne wykonywanie operacji matematycznych i statystycznych na danych.\n",
    "\n",
    "2. Efektywne operacje numeryczne: NumPy dostarcza wiele wbudowanych funkcji i operacji, takich jak **dodawanie, mnożenie, podnoszenie do potęgi, funkcje trygonometryczne itp.**, które działają efektywnie na dużych zbiorach danych.\n",
    "\n",
    "3. Indeksowanie i wycinanie: NumPy oferuje zaawansowane możliwości indeksowania i wycinania danych z tablic, co pozwala na dostęp do konkretnych elementów lub podtablic z dużą precyzją.\n",
    "\n",
    "4. Losowanie liczb: Biblioteka umożliwia generowanie losowych liczb o różnych rozkładach, co jest przydatne w symulacjach i analizach statystycznych.\n",
    "\n",
    "5. Integracja z innymi bibliotekami: NumPy jest często używany w połączeniu z innymi bibliotekami do naukowych obliczeń i analizy danych, takimi jak SciPy, pandas, matplotlib i scikit-learn.\n",
    "\n",
    "6. Obsługa danych brakujących: NumPy ma wbudowane funkcje do pracy z danymi brakującymi, co jest istotne w analizie danych."
   ]
  },
  {
   "cell_type": "markdown",
   "id": "c76a9258",
   "metadata": {},
   "source": [
    "## NumPy\n",
    "\n",
    "Dokumentacja: [https://NumPy.org/doc/](https://NumPy.org/doc/)\n",
    "\n",
    "Biblioteka do przetwarzania numerycznego dużych wielowymiarowych tablic liczbowych. \n",
    "\n",
    "Typowy import:"
   ]
  },
  {
   "cell_type": "markdown",
   "id": "7359daf2",
   "metadata": {},
   "source": [
    "- Strona biblioteki: https://numpy.org/\n",
    "- Dokumentacja: https://numpy.org/doc/\n",
    "-  ---\n",
    "\n",
    "- Aby zainstalować bibliotekę NumPy, użyj polecenia poniżej:\n",
    "\n",
    "```python\n",
    "pip install numpy\n",
    "```"
   ]
  },
  {
   "cell_type": "code",
   "execution_count": null,
   "id": "1e3d7a57",
   "metadata": {},
   "outputs": [],
   "source": [
    "# !pip install numpy"
   ]
  },
  {
   "cell_type": "code",
   "execution_count": 4,
   "id": "2a0ef650",
   "metadata": {},
   "outputs": [
    {
     "name": "stdout",
     "output_type": "stream",
     "text": [
      "Requirement already satisfied: numpy in c:\\users\\tomas\\appdata\\local\\programs\\anaconda3\\lib\\site-packages (1.24.4)\n"
     ]
    }
   ],
   "source": [
    "!pip install numpy #to instaluje biblioteki"
   ]
  },
  {
   "cell_type": "code",
   "execution_count": 5,
   "id": "f0899d92",
   "metadata": {},
   "outputs": [
    {
     "data": {
      "text/plain": [
       "'1.24.4'"
      ]
     },
     "execution_count": 5,
     "metadata": {},
     "output_type": "execute_result"
    }
   ],
   "source": [
    "import numpy as np\n",
    "np.__version__"
   ]
  },
  {
   "cell_type": "markdown",
   "id": "7ae9d1cc",
   "metadata": {},
   "source": [
    "## `np.ndarray`\n",
    "\n",
    "\n",
    "* Reprezentuje jedno lub wielowymiarową tablicę wartości. Jest to podstawowa klasa definiowana przez bibliotekę.\n",
    "* Wszystkie wartości w tablicy musza być tego samego typu, czyli `np.ndarray` jest tablicą jednorodną (homogeniczną) .\n",
    "* Każda wartość zajmuje tę samą określoną przez typ porcję pamięci."
   ]
  },
  {
   "cell_type": "code",
   "execution_count": 9,
   "id": "0871bfeb",
   "metadata": {},
   "outputs": [
    {
     "data": {
      "text/plain": [
       "array([1, 2, 3])"
      ]
     },
     "execution_count": 9,
     "metadata": {},
     "output_type": "execute_result"
    }
   ],
   "source": [
    "a = np.array([1,2,3])\n",
    "a"
   ]
  },
  {
   "cell_type": "code",
   "execution_count": 10,
   "id": "d7f3fdf2",
   "metadata": {},
   "outputs": [
    {
     "data": {
      "text/plain": [
       "numpy.ndarray"
      ]
     },
     "execution_count": 10,
     "metadata": {},
     "output_type": "execute_result"
    }
   ],
   "source": [
    "type(a)"
   ]
  },
  {
   "cell_type": "markdown",
   "id": "40593fe4",
   "metadata": {},
   "source": [
    "## `dtype`\n",
    "\n",
    "Wspólny typ dla wszystkich wartości w tablicy:"
   ]
  },
  {
   "cell_type": "code",
   "execution_count": 11,
   "id": "28af7096",
   "metadata": {},
   "outputs": [
    {
     "data": {
      "text/plain": [
       "dtype('int32')"
      ]
     },
     "execution_count": 11,
     "metadata": {},
     "output_type": "execute_result"
    }
   ],
   "source": [
    "a.dtype"
   ]
  },
  {
   "cell_type": "code",
   "execution_count": 12,
   "id": "6b336483",
   "metadata": {},
   "outputs": [
    {
     "data": {
      "text/plain": [
       "dtype('float64')"
      ]
     },
     "execution_count": 12,
     "metadata": {},
     "output_type": "execute_result"
    }
   ],
   "source": [
    "a = np.array([1.5, 2, 3.14])\n",
    "a.dtype"
   ]
  },
  {
   "cell_type": "markdown",
   "id": "067889d9",
   "metadata": {},
   "source": [
    "Automatyczne rozszerzanie typu:"
   ]
  },
  {
   "cell_type": "code",
   "execution_count": 13,
   "id": "f2cf3528",
   "metadata": {},
   "outputs": [
    {
     "data": {
      "text/plain": [
       "array([1. , 2. , 3. , 4.5])"
      ]
     },
     "execution_count": 13,
     "metadata": {},
     "output_type": "execute_result"
    }
   ],
   "source": [
    "a = np.array([1, 2, 3, 4.5])\n",
    "a"
   ]
  },
  {
   "cell_type": "code",
   "execution_count": 14,
   "id": "a76f402a",
   "metadata": {},
   "outputs": [
    {
     "data": {
      "text/plain": [
       "dtype('float64')"
      ]
     },
     "execution_count": 14,
     "metadata": {},
     "output_type": "execute_result"
    }
   ],
   "source": [
    "a.dtype"
   ]
  },
  {
   "cell_type": "markdown",
   "id": "624511cf",
   "metadata": {},
   "source": [
    "Zadawanie konkretnego typu:"
   ]
  },
  {
   "cell_type": "code",
   "execution_count": 15,
   "id": "eb010b4a",
   "metadata": {},
   "outputs": [
    {
     "data": {
      "text/plain": [
       "array([1., 2., 3.])"
      ]
     },
     "execution_count": 15,
     "metadata": {},
     "output_type": "execute_result"
    }
   ],
   "source": [
    "a = np.array([1, 2, 3], dtype='float64')\n",
    "a"
   ]
  },
  {
   "cell_type": "code",
   "execution_count": 16,
   "id": "3179ffc1",
   "metadata": {},
   "outputs": [
    {
     "data": {
      "text/plain": [
       "dtype('float64')"
      ]
     },
     "execution_count": 16,
     "metadata": {},
     "output_type": "execute_result"
    }
   ],
   "source": [
    "a.dtype"
   ]
  },
  {
   "cell_type": "markdown",
   "id": "e474b50e",
   "metadata": {},
   "source": [
    "zwężadanie typu"
   ]
  },
  {
   "cell_type": "code",
   "execution_count": 17,
   "id": "3393cad0",
   "metadata": {},
   "outputs": [
    {
     "data": {
      "text/plain": [
       "array([1, 2, 3])"
      ]
     },
     "execution_count": 17,
     "metadata": {},
     "output_type": "execute_result"
    }
   ],
   "source": [
    "a = np.array([1.6, 2.1, 3], dtype='int32')\n",
    "a"
   ]
  },
  {
   "cell_type": "markdown",
   "id": "c573ce58",
   "metadata": {},
   "source": [
    "## NumPy: typy wbudowane\n",
    "\n",
    "Data type |Description\n",
    "---|---\n",
    "bool_ |Boolean (True or False) stored as a byte\n",
    "int_ |Default integer type (same as C long; normally either int64 or int32)\n",
    "intc |Identical to C int (normally int32 or int64)\n",
    "intp |Integer used for indexing (same as C ssize_t; normally either int32 or int64)\n",
    "int8 |Byte (-128 to 127)\n",
    "int16 |Integer (-32768 to 32767)\n",
    "int32 |Integer (-2147483648 to 2147483647)\n",
    "int64 |Integer (-9223372036854775808 to 9223372036854775807)\n",
    "uint8 |Unsigned integer (0 to 255)\n",
    "uint16 |Unsigned integer (0 to 65535)\n",
    "uint32 |Unsigned integer (0 to 4294967295)\n",
    "uint64 |Unsigned integer (0 to 18446744073709551615)\n",
    "float_ |Shorthand for float64.\n",
    "float16 |Half precision float: sign bit, 5 bits exponent, 10 bits mantissa\n",
    "float32 |Single precision float: sign bit, 8 bits exponent, 23 bits mantissa\n",
    "float64 |Double precision float: sign bit, 11 bits exponent, 52 bits mantissa\n",
    "complex_ |Shorthand for complex128.\n",
    "complex64 |Complex number, represented by two 32-bit floats\n",
    "complex128 |Complex number, represented by two 64-bit floats"
   ]
  },
  {
   "cell_type": "markdown",
   "id": "75db7c65",
   "metadata": {},
   "source": [
    "## Dygresja: pamięć zajmowana przez tablicę\n",
    "### `np.nbytes`\n",
    "\n",
    "Liczba bajtów zajęta przez jedną wartość danego typu:"
   ]
  },
  {
   "cell_type": "code",
   "execution_count": 18,
   "id": "1c5a9f35",
   "metadata": {},
   "outputs": [
    {
     "data": {
      "text/plain": [
       "{numpy.bool_: 1,\n",
       " numpy.int8: 1,\n",
       " numpy.uint8: 1,\n",
       " numpy.int16: 2,\n",
       " numpy.uint16: 2,\n",
       " numpy.intc: 4,\n",
       " numpy.uintc: 4,\n",
       " numpy.int64: 8,\n",
       " numpy.uint64: 8,\n",
       " numpy.int32: 4,\n",
       " numpy.uint32: 4,\n",
       " numpy.float16: 2,\n",
       " numpy.float32: 4,\n",
       " numpy.float64: 8,\n",
       " numpy.longdouble: 8,\n",
       " numpy.complex64: 8,\n",
       " numpy.complex128: 16,\n",
       " numpy.clongdouble: 16,\n",
       " numpy.object_: 8,\n",
       " numpy.bytes_: 0,\n",
       " numpy.str_: 0,\n",
       " numpy.void: 0,\n",
       " numpy.datetime64: 8,\n",
       " numpy.timedelta64: 8}"
      ]
     },
     "execution_count": 18,
     "metadata": {},
     "output_type": "execute_result"
    }
   ],
   "source": [
    "np.nbytes"
   ]
  },
  {
   "cell_type": "code",
   "execution_count": 19,
   "id": "583ff96b",
   "metadata": {},
   "outputs": [
    {
     "data": {
      "text/plain": [
       "array([[1, 2, 3]])"
      ]
     },
     "execution_count": 19,
     "metadata": {},
     "output_type": "execute_result"
    }
   ],
   "source": [
    "a = np.array([[1, 2, 3]])\n",
    "a"
   ]
  },
  {
   "cell_type": "code",
   "execution_count": 20,
   "id": "48f5d5b9",
   "metadata": {},
   "outputs": [
    {
     "data": {
      "text/plain": [
       "dtype('int32')"
      ]
     },
     "execution_count": 20,
     "metadata": {},
     "output_type": "execute_result"
    }
   ],
   "source": [
    "a.dtype"
   ]
  },
  {
   "cell_type": "markdown",
   "id": "2714efad",
   "metadata": {},
   "source": [
    "`a.itemsize` -- wspólny rozmiar w bajtach pojedynczej wartości w tablicy `a`:"
   ]
  },
  {
   "cell_type": "code",
   "execution_count": 21,
   "id": "d5eea385",
   "metadata": {},
   "outputs": [
    {
     "data": {
      "text/plain": [
       "4"
      ]
     },
     "execution_count": 21,
     "metadata": {},
     "output_type": "execute_result"
    }
   ],
   "source": [
    "a.itemsize"
   ]
  },
  {
   "cell_type": "code",
   "execution_count": 22,
   "id": "aee3e0d1",
   "metadata": {},
   "outputs": [
    {
     "data": {
      "text/plain": [
       "array([[ 1. ,  2. ],\n",
       "       [-1.5,  3. ]])"
      ]
     },
     "execution_count": 22,
     "metadata": {},
     "output_type": "execute_result"
    }
   ],
   "source": [
    "a = np.array([[1, 2], [-1.5, 3]])\n",
    "a"
   ]
  },
  {
   "cell_type": "code",
   "execution_count": 23,
   "id": "9c8be591",
   "metadata": {},
   "outputs": [
    {
     "data": {
      "text/plain": [
       "dtype('float64')"
      ]
     },
     "execution_count": 23,
     "metadata": {},
     "output_type": "execute_result"
    }
   ],
   "source": [
    "a.dtype"
   ]
  },
  {
   "cell_type": "code",
   "execution_count": 24,
   "id": "defdedf6",
   "metadata": {},
   "outputs": [
    {
     "data": {
      "text/plain": [
       "8"
      ]
     },
     "execution_count": 24,
     "metadata": {},
     "output_type": "execute_result"
    }
   ],
   "source": [
    "a.itemsize"
   ]
  },
  {
   "cell_type": "markdown",
   "id": "16125f20",
   "metadata": {},
   "source": [
    "### `.astype()`\n",
    "\n",
    "Metoda konwertująca typ, zwraca kopię tablicy:"
   ]
  },
  {
   "cell_type": "code",
   "execution_count": 27,
   "id": "06b79d9a",
   "metadata": {},
   "outputs": [
    {
     "data": {
      "text/plain": [
       "array([[ 1,  2],\n",
       "       [-1,  3]], dtype=int16)"
      ]
     },
     "execution_count": 27,
     "metadata": {},
     "output_type": "execute_result"
    }
   ],
   "source": [
    "b = a.astype('int16')\n",
    "b"
   ]
  },
  {
   "cell_type": "code",
   "execution_count": 28,
   "id": "4e6a3338",
   "metadata": {},
   "outputs": [
    {
     "data": {
      "text/plain": [
       "2"
      ]
     },
     "execution_count": 28,
     "metadata": {},
     "output_type": "execute_result"
    }
   ],
   "source": [
    "b.itemsize"
   ]
  },
  {
   "cell_type": "code",
   "execution_count": 29,
   "id": "669ee31d",
   "metadata": {},
   "outputs": [
    {
     "data": {
      "text/plain": [
       "8"
      ]
     },
     "execution_count": 29,
     "metadata": {},
     "output_type": "execute_result"
    }
   ],
   "source": [
    "b.nbytes"
   ]
  },
  {
   "cell_type": "markdown",
   "id": "d95125ca",
   "metadata": {},
   "source": [
    " - `itemsize` zwraca rozmiar (w bajtach) jednego elementu tablicy NumPy.\n",
    " - `nbytes` zwraca całkowitą ilość pamięci (w bajtach), jaką zajmuje tablica NumPy.\n",
    " - Funkcja `sys.getsizeof()` zwraca rozmiar (w bajtach) obiektu w Pythonie, obejmujący wewnętrzne struktury pamięci obiektu. Jest używana do sprawdzenia, ile pamięci zajmuje obiekt Pythonowy, wliczając narzut związany z zarządzaniem pamięcią przez Python."
   ]
  },
  {
   "cell_type": "markdown",
   "id": "85533fb5",
   "metadata": {},
   "source": [
    "### `sys.getsizeof()`\n",
    "\n",
    "Zwraca wielkość obiektu w bajtach:"
   ]
  },
  {
   "cell_type": "code",
   "execution_count": 30,
   "id": "3f49cdbb",
   "metadata": {},
   "outputs": [
    {
     "name": "stdout",
     "output_type": "stream",
     "text": [
      "4\n"
     ]
    }
   ],
   "source": [
    "a = np.array([1, 2, 3, 4, 5], dtype=np.int32)\n",
    "print(a.itemsize)  # Wyjście: 4 (każdy element zajmuje 4 bajty)"
   ]
  },
  {
   "cell_type": "code",
   "execution_count": 31,
   "id": "012ed86f",
   "metadata": {},
   "outputs": [
    {
     "data": {
      "text/plain": [
       "array([1, 2, 3, 4, 5])"
      ]
     },
     "execution_count": 31,
     "metadata": {},
     "output_type": "execute_result"
    }
   ],
   "source": [
    "a"
   ]
  },
  {
   "cell_type": "code",
   "execution_count": 32,
   "id": "9a981d87",
   "metadata": {},
   "outputs": [
    {
     "name": "stdout",
     "output_type": "stream",
     "text": [
      "20\n"
     ]
    }
   ],
   "source": [
    "print(a.nbytes)  # Wyjście: 20 (5 elementów * 4 bajty na element)"
   ]
  },
  {
   "cell_type": "code",
   "execution_count": 33,
   "id": "4742d7e5",
   "metadata": {},
   "outputs": [],
   "source": [
    "import sys"
   ]
  },
  {
   "cell_type": "code",
   "execution_count": 34,
   "id": "b9f05fde",
   "metadata": {},
   "outputs": [
    {
     "data": {
      "text/plain": [
       "132"
      ]
     },
     "execution_count": 34,
     "metadata": {},
     "output_type": "execute_result"
    }
   ],
   "source": [
    "sys.getsizeof(a)"
   ]
  },
  {
   "cell_type": "code",
   "execution_count": 35,
   "id": "dfa1394b",
   "metadata": {},
   "outputs": [
    {
     "data": {
      "text/plain": [
       "24"
      ]
     },
     "execution_count": 35,
     "metadata": {},
     "output_type": "execute_result"
    }
   ],
   "source": [
    "sys.getsizeof(0)"
   ]
  },
  {
   "cell_type": "code",
   "execution_count": 36,
   "id": "3fc9f059",
   "metadata": {},
   "outputs": [
    {
     "data": {
      "text/plain": [
       "40"
      ]
     },
     "execution_count": 36,
     "metadata": {},
     "output_type": "execute_result"
    }
   ],
   "source": [
    "sys.getsizeof(2**100)"
   ]
  },
  {
   "cell_type": "code",
   "execution_count": 37,
   "id": "a172572c",
   "metadata": {},
   "outputs": [
    {
     "data": {
      "text/plain": [
       "1267650600228229401496703205376"
      ]
     },
     "execution_count": 37,
     "metadata": {},
     "output_type": "execute_result"
    }
   ],
   "source": [
    "2**100"
   ]
  },
  {
   "cell_type": "code",
   "execution_count": 38,
   "id": "5d47b318",
   "metadata": {},
   "outputs": [
    {
     "name": "stdout",
     "output_type": "stream",
     "text": [
      "Tablica                  Mem wartości   Mem obiektu\n",
      "array([], dtype=float64) 0              112       \n",
      "array([0])               4              116       \n",
      "array([0, 1])            8              120       \n",
      "array([0, 1, 2])         12             124       \n",
      "array([0, 1, 2, 3])      16             128       \n",
      "array([0, 1, 2, 3, 4])   20             132       \n"
     ]
    }
   ],
   "source": [
    "print('{:<25}{:<15}{:<10}'.format('Tablica', 'Mem wartości', 'Mem obiektu'))\n",
    "\n",
    "for k in range(6):\n",
    "    a = np.array(range(k))\n",
    "    print('{!r:<25}{:<15}{:<10}'.format(a, a.nbytes, sys.getsizeof(a)))"
   ]
  },
  {
   "cell_type": "code",
   "execution_count": 39,
   "id": "eeda304e",
   "metadata": {},
   "outputs": [
    {
     "data": {
      "text/plain": [
       "132"
      ]
     },
     "execution_count": 39,
     "metadata": {},
     "output_type": "execute_result"
    }
   ],
   "source": [
    "sys.getsizeof(a)"
   ]
  },
  {
   "cell_type": "markdown",
   "id": "8029705c",
   "metadata": {},
   "source": [
    "### dla listy python"
   ]
  },
  {
   "cell_type": "code",
   "execution_count": 49,
   "id": "2b1d972d",
   "metadata": {},
   "outputs": [],
   "source": [
    "l = []\n",
    "\n",
    "for i in range(2*1000):\n",
    "    l.append(i)"
   ]
  },
  {
   "cell_type": "code",
   "execution_count": 50,
   "id": "29e05dbd",
   "metadata": {},
   "outputs": [],
   "source": [
    "l = [i for i in range(2*1000)]"
   ]
  },
  {
   "cell_type": "code",
   "execution_count": 51,
   "id": "f809c7ff",
   "metadata": {},
   "outputs": [
    {
     "data": {
      "text/plain": [
       "16184"
      ]
     },
     "execution_count": 51,
     "metadata": {},
     "output_type": "execute_result"
    }
   ],
   "source": [
    "sys.getsizeof(l)"
   ]
  },
  {
   "cell_type": "code",
   "execution_count": 52,
   "id": "b78880e6",
   "metadata": {},
   "outputs": [
    {
     "data": {
      "text/plain": [
       "72180"
      ]
     },
     "execution_count": 52,
     "metadata": {},
     "output_type": "execute_result"
    }
   ],
   "source": [
    "sys.getsizeof(l) + sum(sys.getsizeof(item) for item in l)"
   ]
  },
  {
   "cell_type": "code",
   "execution_count": 53,
   "id": "8dcd17ae",
   "metadata": {},
   "outputs": [],
   "source": [
    "a = np.array(range(2*1000))"
   ]
  },
  {
   "cell_type": "code",
   "execution_count": 54,
   "id": "151eb8e3",
   "metadata": {},
   "outputs": [
    {
     "data": {
      "text/plain": [
       "4"
      ]
     },
     "execution_count": 54,
     "metadata": {},
     "output_type": "execute_result"
    }
   ],
   "source": [
    "a.itemsize"
   ]
  },
  {
   "cell_type": "code",
   "execution_count": 55,
   "id": "a69bdd2c",
   "metadata": {},
   "outputs": [
    {
     "data": {
      "text/plain": [
       "8000"
      ]
     },
     "execution_count": 55,
     "metadata": {},
     "output_type": "execute_result"
    }
   ],
   "source": [
    "a.nbytes"
   ]
  },
  {
   "cell_type": "code",
   "execution_count": 56,
   "id": "a2f825f9",
   "metadata": {},
   "outputs": [
    {
     "data": {
      "text/plain": [
       "8112"
      ]
     },
     "execution_count": 56,
     "metadata": {},
     "output_type": "execute_result"
    }
   ],
   "source": [
    "sys.getsizeof(a)"
   ]
  },
  {
   "cell_type": "markdown",
   "id": "3fa5d567",
   "metadata": {},
   "source": [
    "### Poprawne porównanie rozmiarów\n",
    "\n",
    "Aby porównać rozmiar zajmowanej pamięci przez listę i tablicę NumPy, powinniśmy użyć odpowiednich metod:\n",
    "- **Dla listy**: `sys.getsizeof(python_list) + sum(sys.getsizeof(item) for item in python_list)`\n",
    "- **Dla tablicy NumPy**: `sys.getsizeof(numpy_array)` dla samego obiektu oraz `numpy_array.nbytes` dla danych.\n",
    "\n",
    "### Wyniki i wyjaśnienie\n",
    "\n",
    "- **Lista Pythona**:\n",
    "  - `sys.getsizeof(python_list)`: rozmiar samej listy (narzut pamięciowy struktury listy).\n",
    "  - `sum(sys.getsizeof(item) for item in python_list)`: rozmiar wszystkich elementów (każdy element jest oddzielnym obiektem Pythona).\n",
    "\n",
    "- **Tablica NumPy**:\n",
    "  - `sys.getsizeof(numpy_array)`: narzut obiektu tablicy NumPy.\n",
    "  - `numpy_array.nbytes`: całkowity rozmiar danych przechowywanych w tablicy.\n",
    "\n",
    "Tablica NumPy będzie zazwyczaj bardziej efektywna pamięciowo niż lista Pythona ze względu na brak dodatkowego narzutu związanego z zarządzaniem indywidualnymi obiektami elementów.\n",
    "\n",
    "W Pythonie lista jest strukturą danych, która przechowuje referencje do obiektów, a nie same obiekty. Dlatego całkowita pamięć zajmowana przez listę obejmuje zarówno narzut związany z samą listą, jak i pamięć zajmowaną przez poszczególne elementy, do których lista odwołuje się przez referencje."
   ]
  },
  {
   "cell_type": "markdown",
   "id": "a92c4137",
   "metadata": {},
   "source": [
    "### Morał\n",
    "\n",
    "Nawet proste wbudowane typy w Pythonie są złożonymi obiektami zawierającymi liczne dodatkowe dane. Dlatego zwykła lista obiektów ma duży rozmiar i skomplikowaną strukturę.\n",
    "\n",
    "Tablica NumPy odpowiada tablicy w języku C. Ma prostą strukturę, zajmuje jednorodny obszar pamięci, a wartości nie zawierają żadnych dodatkowych metadanych."
   ]
  },
  {
   "cell_type": "markdown",
   "id": "742ceac5",
   "metadata": {},
   "source": [
    "## Atrybuty tablic\n",
    "\n",
    "* `.ndim` -- liczba wymiarów, liczba całkowita.\n",
    "* `.shape` -- rozmiar każdego z wymiarów, krotka liczb całkowitych.\n",
    "* `.size` -- całkowita liczba wartości, iloczyn wartości z krotki `.shape`."
   ]
  },
  {
   "cell_type": "code",
   "execution_count": 64,
   "id": "d82f66a7",
   "metadata": {},
   "outputs": [
    {
     "data": {
      "text/plain": [
       "array([11, 13, 15, 17, 19])"
      ]
     },
     "execution_count": 64,
     "metadata": {},
     "output_type": "execute_result"
    }
   ],
   "source": [
    "np.arange(11,21,2)"
   ]
  },
  {
   "cell_type": "code",
   "execution_count": 58,
   "id": "bdd30785",
   "metadata": {},
   "outputs": [
    {
     "data": {
      "text/plain": [
       "array([-10,  -8,  -6,  -4,  -2,   0,   2,   4,   6,   8])"
      ]
     },
     "execution_count": 58,
     "metadata": {},
     "output_type": "execute_result"
    }
   ],
   "source": [
    "np.arange(-10, 10, 2)"
   ]
  },
  {
   "cell_type": "code",
   "execution_count": 57,
   "id": "22338d8f",
   "metadata": {},
   "outputs": [
    {
     "data": {
      "text/plain": [
       "array([-10,  -8,  -6,  -4,  -2,   0,   2,   4,   6,   8])"
      ]
     },
     "execution_count": 57,
     "metadata": {},
     "output_type": "execute_result"
    }
   ],
   "source": [
    "a = np.arange(-10, 10, 2)\n",
    "a"
   ]
  },
  {
   "cell_type": "code",
   "execution_count": 65,
   "id": "07aa1dea",
   "metadata": {},
   "outputs": [
    {
     "data": {
      "text/plain": [
       "1"
      ]
     },
     "execution_count": 65,
     "metadata": {},
     "output_type": "execute_result"
    }
   ],
   "source": [
    "a.ndim"
   ]
  },
  {
   "cell_type": "code",
   "execution_count": 66,
   "id": "729ac4c3",
   "metadata": {},
   "outputs": [
    {
     "data": {
      "text/plain": [
       "(10,)"
      ]
     },
     "execution_count": 66,
     "metadata": {},
     "output_type": "execute_result"
    }
   ],
   "source": [
    "a.shape"
   ]
  },
  {
   "cell_type": "code",
   "execution_count": 67,
   "id": "2cef8b8d",
   "metadata": {},
   "outputs": [
    {
     "data": {
      "text/plain": [
       "10"
      ]
     },
     "execution_count": 67,
     "metadata": {},
     "output_type": "execute_result"
    }
   ],
   "source": [
    "a.size"
   ]
  },
  {
   "cell_type": "markdown",
   "id": "029ec4bf",
   "metadata": {},
   "source": [
    "## Tworzenie tablic z niczego\n",
    "\n",
    "* `np.zeroes()`\n",
    "* `np.ones()`\n",
    "* `np.full()`\n",
    "* `np.arange()`\n",
    "* `np.linspace()`\n",
    "* `np.random.random()`\n",
    "* `np.random.normal()`\n",
    "* `np.random.randint()`\n",
    "* `np.eye()`\n",
    "* i inne ..."
   ]
  },
  {
   "cell_type": "markdown",
   "id": "0197bf82",
   "metadata": {},
   "source": [
    "Tablica dwuwymiarowa o 6 elementach, 3 wiersze i dwie kolumny:"
   ]
  },
  {
   "cell_type": "code",
   "execution_count": 69,
   "id": "3c5616b0",
   "metadata": {},
   "outputs": [
    {
     "data": {
      "text/plain": [
       "array([[0., 0.],\n",
       "       [0., 0.],\n",
       "       [0., 0.]])"
      ]
     },
     "execution_count": 69,
     "metadata": {},
     "output_type": "execute_result"
    }
   ],
   "source": [
    "a = np.zeros((3,2))\n",
    "a"
   ]
  },
  {
   "cell_type": "code",
   "execution_count": 71,
   "id": "8abb91ba",
   "metadata": {},
   "outputs": [
    {
     "data": {
      "text/plain": [
       "2"
      ]
     },
     "execution_count": 71,
     "metadata": {},
     "output_type": "execute_result"
    }
   ],
   "source": [
    "a.ndim"
   ]
  },
  {
   "cell_type": "code",
   "execution_count": 72,
   "id": "3feda5e7",
   "metadata": {},
   "outputs": [
    {
     "data": {
      "text/plain": [
       "(3, 2)"
      ]
     },
     "execution_count": 72,
     "metadata": {},
     "output_type": "execute_result"
    }
   ],
   "source": [
    "a.shape"
   ]
  },
  {
   "cell_type": "code",
   "execution_count": 73,
   "id": "066e23fe",
   "metadata": {},
   "outputs": [
    {
     "data": {
      "text/plain": [
       "6"
      ]
     },
     "execution_count": 73,
     "metadata": {},
     "output_type": "execute_result"
    }
   ],
   "source": [
    "a.size"
   ]
  },
  {
   "cell_type": "markdown",
   "id": "5f62daaf",
   "metadata": {},
   "source": [
    "## Indeksowanie: dostęp do pojedynczych elementów"
   ]
  },
  {
   "cell_type": "code",
   "execution_count": 74,
   "id": "72cef80c",
   "metadata": {},
   "outputs": [
    {
     "data": {
      "text/plain": [
       "array([10, 11, 12, 13, 14, 15, 16, 17, 18, 19])"
      ]
     },
     "execution_count": 74,
     "metadata": {},
     "output_type": "execute_result"
    }
   ],
   "source": [
    "a = np.arange(10, 20)\n",
    "a"
   ]
  },
  {
   "cell_type": "code",
   "execution_count": 79,
   "id": "7d6bca93",
   "metadata": {},
   "outputs": [
    {
     "data": {
      "text/plain": [
       "array([10, 11, 11])"
      ]
     },
     "execution_count": 79,
     "metadata": {},
     "output_type": "execute_result"
    }
   ],
   "source": [
    "np.array((a[0], a[1], a[1]))"
   ]
  },
  {
   "cell_type": "code",
   "execution_count": 80,
   "id": "89a16871",
   "metadata": {},
   "outputs": [],
   "source": [
    "lista = [1,2,3,4,5]"
   ]
  },
  {
   "cell_type": "code",
   "execution_count": 83,
   "id": "91035996",
   "metadata": {},
   "outputs": [
    {
     "data": {
      "text/plain": [
       "[1, 5]"
      ]
     },
     "execution_count": 83,
     "metadata": {},
     "output_type": "execute_result"
    }
   ],
   "source": [
    "nowa_lista = [lista[0], lista[-1]]\n",
    "nowa_lista"
   ]
  },
  {
   "cell_type": "code",
   "execution_count": 84,
   "id": "2d0ca14b",
   "metadata": {},
   "outputs": [
    {
     "data": {
      "text/plain": [
       "array([[ 0,  1,  2,  3,  4],\n",
       "       [ 5,  6,  7,  8,  9],\n",
       "       [10, 11, 12, 13, 14],\n",
       "       [15, 16, 17, 18, 19]])"
      ]
     },
     "execution_count": 84,
     "metadata": {},
     "output_type": "execute_result"
    }
   ],
   "source": [
    "a = np.array([[ 0,  1,  2,  3,  4],\n",
    "              [ 5,  6,  7,  8,  9],\n",
    "              [10, 11, 12, 13, 14],\n",
    "              [15, 16, 17, 18, 19]])\n",
    "a"
   ]
  },
  {
   "cell_type": "code",
   "execution_count": 85,
   "id": "48e73f81",
   "metadata": {},
   "outputs": [
    {
     "data": {
      "text/plain": [
       "2"
      ]
     },
     "execution_count": 85,
     "metadata": {},
     "output_type": "execute_result"
    }
   ],
   "source": [
    "a.ndim"
   ]
  },
  {
   "cell_type": "code",
   "execution_count": 86,
   "id": "9ff2b036",
   "metadata": {},
   "outputs": [
    {
     "data": {
      "text/plain": [
       "13"
      ]
     },
     "execution_count": 86,
     "metadata": {},
     "output_type": "execute_result"
    }
   ],
   "source": [
    "a[2,3] #13"
   ]
  },
  {
   "cell_type": "code",
   "execution_count": 89,
   "id": "949cdcf0",
   "metadata": {},
   "outputs": [
    {
     "data": {
      "text/plain": [
       "19"
      ]
     },
     "execution_count": 89,
     "metadata": {},
     "output_type": "execute_result"
    }
   ],
   "source": [
    "a[-1,-1]"
   ]
  },
  {
   "cell_type": "markdown",
   "id": "8988b76c",
   "metadata": {},
   "source": [
    "## Wycinki\n",
    "\n",
    "Składnia dla wycinków naśladuje tę wbudowaną w Pythona:\n",
    "\n",
    "```python\n",
    "a[start:stop:step]\n",
    "```"
   ]
  },
  {
   "cell_type": "markdown",
   "id": "a1a70530",
   "metadata": {},
   "source": [
    "### Tablice jednowymiarowe"
   ]
  },
  {
   "cell_type": "code",
   "execution_count": 90,
   "id": "e5cd0881",
   "metadata": {},
   "outputs": [
    {
     "data": {
      "text/plain": [
       "array([0, 1, 2, 3, 4, 5, 6, 7, 8, 9])"
      ]
     },
     "execution_count": 90,
     "metadata": {},
     "output_type": "execute_result"
    }
   ],
   "source": [
    "a = np.arange(10)\n",
    "a"
   ]
  },
  {
   "cell_type": "code",
   "execution_count": 91,
   "id": "c78fb2e9",
   "metadata": {},
   "outputs": [
    {
     "data": {
      "text/plain": [
       "(array([0, 1, 2]), array([3, 4, 5, 6, 7, 8, 9]))"
      ]
     },
     "execution_count": 91,
     "metadata": {},
     "output_type": "execute_result"
    }
   ],
   "source": [
    "a[:3], a[3:]"
   ]
  },
  {
   "cell_type": "code",
   "execution_count": 92,
   "id": "65fa8bcf",
   "metadata": {},
   "outputs": [
    {
     "data": {
      "text/plain": [
       "array([8, 9])"
      ]
     },
     "execution_count": 92,
     "metadata": {},
     "output_type": "execute_result"
    }
   ],
   "source": [
    "a[-2:]"
   ]
  },
  {
   "cell_type": "code",
   "execution_count": 93,
   "id": "a03028f9",
   "metadata": {},
   "outputs": [
    {
     "data": {
      "text/plain": [
       "array([0, 2, 4, 6, 8])"
      ]
     },
     "execution_count": 93,
     "metadata": {},
     "output_type": "execute_result"
    }
   ],
   "source": [
    "a[::2]"
   ]
  },
  {
   "cell_type": "code",
   "execution_count": 94,
   "id": "21014941",
   "metadata": {},
   "outputs": [
    {
     "data": {
      "text/plain": [
       "array([9, 8, 7, 6, 5, 4, 3, 2, 1, 0])"
      ]
     },
     "execution_count": 94,
     "metadata": {},
     "output_type": "execute_result"
    }
   ],
   "source": [
    "a[::-1]"
   ]
  },
  {
   "cell_type": "markdown",
   "id": "ea2612f2",
   "metadata": {},
   "source": [
    "### Tablice wielowymiarowe"
   ]
  },
  {
   "cell_type": "code",
   "execution_count": 95,
   "id": "7e0719b0",
   "metadata": {},
   "outputs": [
    {
     "data": {
      "text/plain": [
       "array([[ 0,  1,  2,  3,  4],\n",
       "       [ 5,  6,  7,  8,  9],\n",
       "       [10, 11, 12, 13, 14],\n",
       "       [15, 16, 17, 18, 19]])"
      ]
     },
     "execution_count": 95,
     "metadata": {},
     "output_type": "execute_result"
    }
   ],
   "source": [
    "a = np.array([[ 0,  1,  2,  3,  4],\n",
    "              [ 5,  6,  7,  8,  9],\n",
    "              [10, 11, 12, 13, 14],\n",
    "              [15, 16, 17, 18, 19]])\n",
    "a"
   ]
  },
  {
   "cell_type": "code",
   "execution_count": 97,
   "id": "d70b7eaf",
   "metadata": {},
   "outputs": [
    {
     "data": {
      "text/plain": [
       "array([[0, 1, 2, 3, 4],\n",
       "       [5, 6, 7, 8, 9]])"
      ]
     },
     "execution_count": 97,
     "metadata": {},
     "output_type": "execute_result"
    }
   ],
   "source": [
    "#dwa pierwsze wiersze\n",
    "a[:2]"
   ]
  },
  {
   "cell_type": "markdown",
   "id": "e941e68f",
   "metadata": {},
   "source": [
    "Wycinki można tworzyć na każdej osi osobno. Dwa ostatnie wiersze, druga, trzecia i czwarta kolumna:"
   ]
  },
  {
   "cell_type": "code",
   "execution_count": 102,
   "id": "ef631ed6",
   "metadata": {},
   "outputs": [
    {
     "data": {
      "text/plain": [
       "array([[11, 12, 13],\n",
       "       [16, 17, 18]])"
      ]
     },
     "execution_count": 102,
     "metadata": {},
     "output_type": "execute_result"
    }
   ],
   "source": [
    "a[-2:,1:4]"
   ]
  },
  {
   "cell_type": "markdown",
   "id": "27c2e7ff",
   "metadata": {},
   "source": [
    "### Wiersze i kolumny"
   ]
  },
  {
   "cell_type": "markdown",
   "id": "2a55c9d8",
   "metadata": {},
   "source": [
    "Drugi wiersz"
   ]
  },
  {
   "cell_type": "code",
   "execution_count": 107,
   "id": "a2c7c715",
   "metadata": {},
   "outputs": [
    {
     "data": {
      "text/plain": [
       "array([5, 6, 7, 8, 9])"
      ]
     },
     "execution_count": 107,
     "metadata": {},
     "output_type": "execute_result"
    }
   ],
   "source": [
    "a[1]"
   ]
  },
  {
   "cell_type": "code",
   "execution_count": 106,
   "id": "97d2201f",
   "metadata": {},
   "outputs": [
    {
     "data": {
      "text/plain": [
       "array([5, 6, 7, 8, 9])"
      ]
     },
     "execution_count": 106,
     "metadata": {},
     "output_type": "execute_result"
    }
   ],
   "source": [
    "a[1,:]"
   ]
  },
  {
   "cell_type": "markdown",
   "id": "5abeb574",
   "metadata": {},
   "source": [
    "ale tak jest mniej czytelnie, bo struktura tablicy pozostaje ukryta. Ponadto, to wywołanie zadziała również dla tablicy jednowymiarowej, co może prowadzić do niespodziewanych błędów."
   ]
  },
  {
   "cell_type": "code",
   "execution_count": 108,
   "id": "be2c3b00",
   "metadata": {},
   "outputs": [
    {
     "data": {
      "text/plain": [
       "array([[ 0,  1,  2,  3,  4],\n",
       "       [ 5,  6,  7,  8,  9],\n",
       "       [10, 11, 12, 13, 14],\n",
       "       [15, 16, 17, 18, 19]])"
      ]
     },
     "execution_count": 108,
     "metadata": {},
     "output_type": "execute_result"
    }
   ],
   "source": [
    "a"
   ]
  },
  {
   "cell_type": "code",
   "execution_count": 109,
   "id": "57341b73",
   "metadata": {},
   "outputs": [
    {
     "data": {
      "text/plain": [
       "array([ 2,  7, 12, 17])"
      ]
     },
     "execution_count": 109,
     "metadata": {},
     "output_type": "execute_result"
    }
   ],
   "source": [
    "a[:,2]"
   ]
  },
  {
   "cell_type": "markdown",
   "id": "c4c7242e",
   "metadata": {},
   "source": [
    "### Uwaga!\n",
    "\n",
    "**Wycinki tablic NumPy nie zwracają kopii!**"
   ]
  },
  {
   "cell_type": "code",
   "execution_count": 110,
   "id": "38574290",
   "metadata": {},
   "outputs": [
    {
     "data": {
      "text/plain": [
       "array([[ 0,  1,  2,  3,  4],\n",
       "       [ 5,  6,  7,  8,  9],\n",
       "       [10, 11, 12, 13, 14],\n",
       "       [15, 16, 17, 18, 19]])"
      ]
     },
     "execution_count": 110,
     "metadata": {},
     "output_type": "execute_result"
    }
   ],
   "source": [
    "a"
   ]
  },
  {
   "cell_type": "code",
   "execution_count": 111,
   "id": "048e9bf8",
   "metadata": {},
   "outputs": [
    {
     "data": {
      "text/plain": [
       "array([[ 7,  8],\n",
       "       [12, 13]])"
      ]
     },
     "execution_count": 111,
     "metadata": {},
     "output_type": "execute_result"
    }
   ],
   "source": [
    "b = a[1:3,2:4]\n",
    "b"
   ]
  },
  {
   "cell_type": "code",
   "execution_count": 112,
   "id": "3589dd9c",
   "metadata": {},
   "outputs": [
    {
     "data": {
      "text/plain": [
       "array([[  7,   8],\n",
       "       [ 12, 123]])"
      ]
     },
     "execution_count": 112,
     "metadata": {},
     "output_type": "execute_result"
    }
   ],
   "source": [
    "b[1,1] = 123\n",
    "b"
   ]
  },
  {
   "cell_type": "code",
   "execution_count": 113,
   "id": "4370d234",
   "metadata": {},
   "outputs": [
    {
     "data": {
      "text/plain": [
       "array([[  0,   1,   2,   3,   4],\n",
       "       [  5,   6,   7,   8,   9],\n",
       "       [ 10,  11,  12, 123,  14],\n",
       "       [ 15,  16,  17,  18,  19]])"
      ]
     },
     "execution_count": 113,
     "metadata": {},
     "output_type": "execute_result"
    }
   ],
   "source": [
    "a"
   ]
  },
  {
   "cell_type": "markdown",
   "id": "0f56a7a6",
   "metadata": {},
   "source": [
    "### Tworzenie kopii"
   ]
  },
  {
   "cell_type": "code",
   "execution_count": 115,
   "id": "81ffd701",
   "metadata": {},
   "outputs": [
    {
     "data": {
      "text/plain": [
       "array([[ 0,  1,  2,  3,  4],\n",
       "       [ 5,  6,  7,  8,  9],\n",
       "       [10, 11, 12, 13, 14],\n",
       "       [15, 16, 17, 18, 19]])"
      ]
     },
     "execution_count": 115,
     "metadata": {},
     "output_type": "execute_result"
    }
   ],
   "source": [
    "a = np.array([[ 0,  1,  2,  3,  4],\n",
    "              [ 5,  6,  7,  8,  9],\n",
    "              [10, 11, 12, 13, 14],\n",
    "              [15, 16, 17, 18, 19]])\n",
    "a"
   ]
  },
  {
   "cell_type": "code",
   "execution_count": 116,
   "id": "adffc48b",
   "metadata": {},
   "outputs": [
    {
     "data": {
      "text/plain": [
       "array([[ 7,  8],\n",
       "       [12, 13]])"
      ]
     },
     "execution_count": 116,
     "metadata": {},
     "output_type": "execute_result"
    }
   ],
   "source": [
    "b = a[1:3,2:4].copy()\n",
    "b"
   ]
  },
  {
   "cell_type": "code",
   "execution_count": 117,
   "id": "59db4d66",
   "metadata": {},
   "outputs": [
    {
     "data": {
      "text/plain": [
       "array([[  7,   8],\n",
       "       [ 12, 123]])"
      ]
     },
     "execution_count": 117,
     "metadata": {},
     "output_type": "execute_result"
    }
   ],
   "source": [
    "b[1,1] = 123\n",
    "b"
   ]
  },
  {
   "cell_type": "code",
   "execution_count": 118,
   "id": "40d15d17",
   "metadata": {},
   "outputs": [
    {
     "data": {
      "text/plain": [
       "array([[ 0,  1,  2,  3,  4],\n",
       "       [ 5,  6,  7,  8,  9],\n",
       "       [10, 11, 12, 13, 14],\n",
       "       [15, 16, 17, 18, 19]])"
      ]
     },
     "execution_count": 118,
     "metadata": {},
     "output_type": "execute_result"
    }
   ],
   "source": [
    "a"
   ]
  }
 ],
 "metadata": {
  "kernelspec": {
   "display_name": "Python 3 (ipykernel)",
   "language": "python",
   "name": "python3"
  },
  "language_info": {
   "codemirror_mode": {
    "name": "ipython",
    "version": 3
   },
   "file_extension": ".py",
   "mimetype": "text/x-python",
   "name": "python",
   "nbconvert_exporter": "python",
   "pygments_lexer": "ipython3",
   "version": "3.9.13"
  }
 },
 "nbformat": 4,
 "nbformat_minor": 5
}
