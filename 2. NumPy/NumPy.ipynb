{
 "cells": [
  {
   "cell_type": "markdown",
   "id": "b2849e6c",
   "metadata": {},
   "source": [
    "### NumPy - biblioteka do obliczeń numerycznych\n",
    "\n",
    "- Podstawy obliczeń numerycznych\n",
    "- Porównanie szybkości z czystym Pythonem\n",
    "- Kluczowe różnice pomiędzy tablicami Numpy i listami pythonowymi\n",
    "- Typowe operacje na wektorach i macierzach\n",
    "- Algebra liniowa"
   ]
  },
  {
   "cell_type": "markdown",
   "id": "458d511d",
   "metadata": {},
   "source": [
    "**NumPy**, czyli **Numerical Python**, to biblioteka programistyczna w języku Python, która dostarcza wsparcie dla efektywnych operacji numerycznych, zwłaszcza na dużych tablicach i macierzach danych. Jest jednym z podstawowych narzędzi w dziedzinie naukowych obliczeń i analizy danych w języku Python.\n",
    "\n",
    "Główne cechy i funkcje biblioteki NumPy:\n",
    "\n",
    "1. Tablice wielowymiarowe: NumPy wprowadza nowy typ danych, znany jako **\"array\" (tablica)**, który pozwala na przechowywanie i operowanie danymi wielowymiarowymi. Tablice w NumPy są bardziej wydajne niż standardowe listy w Pythonie i pozwalają na efektywne wykonywanie operacji matematycznych i statystycznych na danych.\n",
    "\n",
    "2. Efektywne operacje numeryczne: NumPy dostarcza wiele wbudowanych funkcji i operacji, takich jak **dodawanie, mnożenie, podnoszenie do potęgi, funkcje trygonometryczne itp.**, które działają efektywnie na dużych zbiorach danych.\n",
    "\n",
    "3. Indeksowanie i wycinanie: NumPy oferuje zaawansowane możliwości indeksowania i wycinania danych z tablic, co pozwala na dostęp do konkretnych elementów lub podtablic z dużą precyzją.\n",
    "\n",
    "4. Losowanie liczb: Biblioteka umożliwia generowanie losowych liczb o różnych rozkładach, co jest przydatne w symulacjach i analizach statystycznych.\n",
    "\n",
    "5. Integracja z innymi bibliotekami: NumPy jest często używany w połączeniu z innymi bibliotekami do naukowych obliczeń i analizy danych, takimi jak SciPy, pandas, matplotlib i scikit-learn.\n",
    "\n",
    "6. Obsługa danych brakujących: NumPy ma wbudowane funkcje do pracy z danymi brakującymi, co jest istotne w analizie danych."
   ]
  },
  {
   "cell_type": "markdown",
   "id": "c76a9258",
   "metadata": {},
   "source": [
    "## NumPy\n",
    "\n",
    "Dokumentacja: [https://NumPy.org/doc/](https://NumPy.org/doc/)\n",
    "\n",
    "Biblioteka do przetwarzania numerycznego dużych wielowymiarowych tablic liczbowych. \n",
    "\n",
    "Typowy import:"
   ]
  },
  {
   "cell_type": "markdown",
   "id": "7359daf2",
   "metadata": {},
   "source": [
    "- Strona biblioteki: https://numpy.org/\n",
    "- Dokumentacja: https://numpy.org/doc/\n",
    "-  ---\n",
    "\n",
    "- Aby zainstalować bibliotekę NumPy, użyj polecenia poniżej:\n",
    "\n",
    "```python\n",
    "pip install numpy\n",
    "```"
   ]
  },
  {
   "cell_type": "code",
   "execution_count": null,
   "id": "1e3d7a57",
   "metadata": {},
   "outputs": [],
   "source": [
    "# !pip install numpy"
   ]
  },
  {
   "cell_type": "code",
   "execution_count": 4,
   "id": "1711b88b",
   "metadata": {},
   "outputs": [
    {
     "name": "stdout",
     "output_type": "stream",
     "text": [
      "Requirement already satisfied: numpy in c:\\users\\tomas\\appdata\\local\\programs\\anaconda3\\lib\\site-packages (1.24.4)\n"
     ]
    }
   ],
   "source": [
    "!pip install numpy #to instaluje biblioteki"
   ]
  },
  {
   "cell_type": "code",
   "execution_count": 5,
   "id": "f0899d92",
   "metadata": {},
   "outputs": [
    {
     "data": {
      "text/plain": [
       "'1.24.4'"
      ]
     },
     "execution_count": 5,
     "metadata": {},
     "output_type": "execute_result"
    }
   ],
   "source": [
    "import numpy as np\n",
    "np.__version__"
   ]
  },
  {
   "cell_type": "markdown",
   "id": "e27dc0b7",
   "metadata": {},
   "source": [
    "## `np.ndarray`\n",
    "\n",
    "\n",
    "* Reprezentuje jedno lub wielowymiarową tablicę wartości. Jest to podstawowa klasa definiowana przez bibliotekę.\n",
    "* Wszystkie wartości w tablicy musza być tego samego typu, czyli `np.ndarray` jest tablicą jednorodną (homogeniczną) .\n",
    "* Każda wartość zajmuje tę samą określoną przez typ porcję pamięci."
   ]
  },
  {
   "cell_type": "code",
   "execution_count": 9,
   "id": "6aa665cf",
   "metadata": {},
   "outputs": [
    {
     "data": {
      "text/plain": [
       "array([1, 2, 3])"
      ]
     },
     "execution_count": 9,
     "metadata": {},
     "output_type": "execute_result"
    }
   ],
   "source": [
    "a = np.array([1,2,3])\n",
    "a"
   ]
  },
  {
   "cell_type": "code",
   "execution_count": 10,
   "id": "46e500d0",
   "metadata": {},
   "outputs": [
    {
     "data": {
      "text/plain": [
       "numpy.ndarray"
      ]
     },
     "execution_count": 10,
     "metadata": {},
     "output_type": "execute_result"
    }
   ],
   "source": [
    "type(a)"
   ]
  },
  {
   "cell_type": "markdown",
   "id": "88d299b1",
   "metadata": {},
   "source": [
    "## `dtype`\n",
    "\n",
    "Wspólny typ dla wszystkich wartości w tablicy:"
   ]
  },
  {
   "cell_type": "code",
   "execution_count": 11,
   "id": "73427aa1",
   "metadata": {},
   "outputs": [
    {
     "data": {
      "text/plain": [
       "dtype('int32')"
      ]
     },
     "execution_count": 11,
     "metadata": {},
     "output_type": "execute_result"
    }
   ],
   "source": [
    "a.dtype"
   ]
  },
  {
   "cell_type": "code",
   "execution_count": 12,
   "id": "bd8a63ad",
   "metadata": {},
   "outputs": [
    {
     "data": {
      "text/plain": [
       "dtype('float64')"
      ]
     },
     "execution_count": 12,
     "metadata": {},
     "output_type": "execute_result"
    }
   ],
   "source": [
    "a = np.array([1.5, 2, 3.14])\n",
    "a.dtype"
   ]
  },
  {
   "cell_type": "markdown",
   "id": "666a9951",
   "metadata": {},
   "source": [
    "Automatyczne rozszerzanie typu:"
   ]
  },
  {
   "cell_type": "code",
   "execution_count": 13,
   "id": "c7b8ea47",
   "metadata": {},
   "outputs": [
    {
     "data": {
      "text/plain": [
       "array([1. , 2. , 3. , 4.5])"
      ]
     },
     "execution_count": 13,
     "metadata": {},
     "output_type": "execute_result"
    }
   ],
   "source": [
    "a = np.array([1, 2, 3, 4.5])\n",
    "a"
   ]
  },
  {
   "cell_type": "code",
   "execution_count": 14,
   "id": "75dbe3a0",
   "metadata": {},
   "outputs": [
    {
     "data": {
      "text/plain": [
       "dtype('float64')"
      ]
     },
     "execution_count": 14,
     "metadata": {},
     "output_type": "execute_result"
    }
   ],
   "source": [
    "a.dtype"
   ]
  },
  {
   "cell_type": "markdown",
   "id": "7e729cfe",
   "metadata": {},
   "source": [
    "Zadawanie konkretnego typu:"
   ]
  },
  {
   "cell_type": "code",
   "execution_count": 15,
   "id": "ed8de299",
   "metadata": {},
   "outputs": [
    {
     "data": {
      "text/plain": [
       "array([1., 2., 3.])"
      ]
     },
     "execution_count": 15,
     "metadata": {},
     "output_type": "execute_result"
    }
   ],
   "source": [
    "a = np.array([1, 2, 3], dtype='float64')\n",
    "a"
   ]
  },
  {
   "cell_type": "code",
   "execution_count": 16,
   "id": "783d76dc",
   "metadata": {},
   "outputs": [
    {
     "data": {
      "text/plain": [
       "dtype('float64')"
      ]
     },
     "execution_count": 16,
     "metadata": {},
     "output_type": "execute_result"
    }
   ],
   "source": [
    "a.dtype"
   ]
  },
  {
   "cell_type": "markdown",
   "id": "16107940",
   "metadata": {},
   "source": [
    "zwężadanie typu"
   ]
  },
  {
   "cell_type": "code",
   "execution_count": 17,
   "id": "03b8c39c",
   "metadata": {},
   "outputs": [
    {
     "data": {
      "text/plain": [
       "array([1, 2, 3])"
      ]
     },
     "execution_count": 17,
     "metadata": {},
     "output_type": "execute_result"
    }
   ],
   "source": [
    "a = np.array([1.6, 2.1, 3], dtype='int32')\n",
    "a"
   ]
  },
  {
   "cell_type": "markdown",
   "id": "da0da378",
   "metadata": {},
   "source": [
    "## NumPy: typy wbudowane\n",
    "\n",
    "Data type |Description\n",
    "---|---\n",
    "bool_ |Boolean (True or False) stored as a byte\n",
    "int_ |Default integer type (same as C long; normally either int64 or int32)\n",
    "intc |Identical to C int (normally int32 or int64)\n",
    "intp |Integer used for indexing (same as C ssize_t; normally either int32 or int64)\n",
    "int8 |Byte (-128 to 127)\n",
    "int16 |Integer (-32768 to 32767)\n",
    "int32 |Integer (-2147483648 to 2147483647)\n",
    "int64 |Integer (-9223372036854775808 to 9223372036854775807)\n",
    "uint8 |Unsigned integer (0 to 255)\n",
    "uint16 |Unsigned integer (0 to 65535)\n",
    "uint32 |Unsigned integer (0 to 4294967295)\n",
    "uint64 |Unsigned integer (0 to 18446744073709551615)\n",
    "float_ |Shorthand for float64.\n",
    "float16 |Half precision float: sign bit, 5 bits exponent, 10 bits mantissa\n",
    "float32 |Single precision float: sign bit, 8 bits exponent, 23 bits mantissa\n",
    "float64 |Double precision float: sign bit, 11 bits exponent, 52 bits mantissa\n",
    "complex_ |Shorthand for complex128.\n",
    "complex64 |Complex number, represented by two 32-bit floats\n",
    "complex128 |Complex number, represented by two 64-bit floats"
   ]
  },
  {
   "cell_type": "markdown",
   "id": "8d508bc8",
   "metadata": {},
   "source": [
    "## Dygresja: pamięć zajmowana przez tablicę\n",
    "### `np.nbytes`\n",
    "\n",
    "Liczba bajtów zajęta przez jedną wartość danego typu:"
   ]
  },
  {
   "cell_type": "code",
   "execution_count": 18,
   "id": "e1be9780",
   "metadata": {},
   "outputs": [
    {
     "data": {
      "text/plain": [
       "{numpy.bool_: 1,\n",
       " numpy.int8: 1,\n",
       " numpy.uint8: 1,\n",
       " numpy.int16: 2,\n",
       " numpy.uint16: 2,\n",
       " numpy.intc: 4,\n",
       " numpy.uintc: 4,\n",
       " numpy.int64: 8,\n",
       " numpy.uint64: 8,\n",
       " numpy.int32: 4,\n",
       " numpy.uint32: 4,\n",
       " numpy.float16: 2,\n",
       " numpy.float32: 4,\n",
       " numpy.float64: 8,\n",
       " numpy.longdouble: 8,\n",
       " numpy.complex64: 8,\n",
       " numpy.complex128: 16,\n",
       " numpy.clongdouble: 16,\n",
       " numpy.object_: 8,\n",
       " numpy.bytes_: 0,\n",
       " numpy.str_: 0,\n",
       " numpy.void: 0,\n",
       " numpy.datetime64: 8,\n",
       " numpy.timedelta64: 8}"
      ]
     },
     "execution_count": 18,
     "metadata": {},
     "output_type": "execute_result"
    }
   ],
   "source": [
    "np.nbytes"
   ]
  },
  {
   "cell_type": "code",
   "execution_count": 19,
   "id": "33235392",
   "metadata": {},
   "outputs": [
    {
     "data": {
      "text/plain": [
       "array([[1, 2, 3]])"
      ]
     },
     "execution_count": 19,
     "metadata": {},
     "output_type": "execute_result"
    }
   ],
   "source": [
    "a = np.array([[1, 2, 3]])\n",
    "a"
   ]
  },
  {
   "cell_type": "code",
   "execution_count": 20,
   "id": "4135ff27",
   "metadata": {},
   "outputs": [
    {
     "data": {
      "text/plain": [
       "dtype('int32')"
      ]
     },
     "execution_count": 20,
     "metadata": {},
     "output_type": "execute_result"
    }
   ],
   "source": [
    "a.dtype"
   ]
  },
  {
   "cell_type": "markdown",
   "id": "cc26922b",
   "metadata": {},
   "source": [
    "`a.itemsize` -- wspólny rozmiar w bajtach pojedynczej wartości w tablicy `a`:"
   ]
  },
  {
   "cell_type": "code",
   "execution_count": 21,
   "id": "3f4e9f56",
   "metadata": {},
   "outputs": [
    {
     "data": {
      "text/plain": [
       "4"
      ]
     },
     "execution_count": 21,
     "metadata": {},
     "output_type": "execute_result"
    }
   ],
   "source": [
    "a.itemsize"
   ]
  },
  {
   "cell_type": "code",
   "execution_count": 22,
   "id": "bdcc9330",
   "metadata": {},
   "outputs": [
    {
     "data": {
      "text/plain": [
       "array([[ 1. ,  2. ],\n",
       "       [-1.5,  3. ]])"
      ]
     },
     "execution_count": 22,
     "metadata": {},
     "output_type": "execute_result"
    }
   ],
   "source": [
    "a = np.array([[1, 2], [-1.5, 3]])\n",
    "a"
   ]
  },
  {
   "cell_type": "code",
   "execution_count": 23,
   "id": "a24fa94f",
   "metadata": {},
   "outputs": [
    {
     "data": {
      "text/plain": [
       "dtype('float64')"
      ]
     },
     "execution_count": 23,
     "metadata": {},
     "output_type": "execute_result"
    }
   ],
   "source": [
    "a.dtype"
   ]
  },
  {
   "cell_type": "code",
   "execution_count": 24,
   "id": "ae2ed59c",
   "metadata": {},
   "outputs": [
    {
     "data": {
      "text/plain": [
       "8"
      ]
     },
     "execution_count": 24,
     "metadata": {},
     "output_type": "execute_result"
    }
   ],
   "source": [
    "a.itemsize"
   ]
  },
  {
   "cell_type": "markdown",
   "id": "2e3136d6",
   "metadata": {},
   "source": [
    "### `.astype()`\n",
    "\n",
    "Metoda konwertująca typ, zwraca kopię tablicy:"
   ]
  },
  {
   "cell_type": "code",
   "execution_count": 27,
   "id": "d4693fc7",
   "metadata": {},
   "outputs": [
    {
     "data": {
      "text/plain": [
       "array([[ 1,  2],\n",
       "       [-1,  3]], dtype=int16)"
      ]
     },
     "execution_count": 27,
     "metadata": {},
     "output_type": "execute_result"
    }
   ],
   "source": [
    "b = a.astype('int16')\n",
    "b"
   ]
  },
  {
   "cell_type": "code",
   "execution_count": 28,
   "id": "7405b2a1",
   "metadata": {},
   "outputs": [
    {
     "data": {
      "text/plain": [
       "2"
      ]
     },
     "execution_count": 28,
     "metadata": {},
     "output_type": "execute_result"
    }
   ],
   "source": [
    "b.itemsize"
   ]
  },
  {
   "cell_type": "code",
   "execution_count": 29,
   "id": "0e1a34f7",
   "metadata": {},
   "outputs": [
    {
     "data": {
      "text/plain": [
       "8"
      ]
     },
     "execution_count": 29,
     "metadata": {},
     "output_type": "execute_result"
    }
   ],
   "source": [
    "b.nbytes"
   ]
  },
  {
   "cell_type": "markdown",
   "id": "f73bc7ee",
   "metadata": {},
   "source": [
    " - `itemsize` zwraca rozmiar (w bajtach) jednego elementu tablicy NumPy.\n",
    " - `nbytes` zwraca całkowitą ilość pamięci (w bajtach), jaką zajmuje tablica NumPy.\n",
    " - Funkcja `sys.getsizeof()` zwraca rozmiar (w bajtach) obiektu w Pythonie, obejmujący wewnętrzne struktury pamięci obiektu. Jest używana do sprawdzenia, ile pamięci zajmuje obiekt Pythonowy, wliczając narzut związany z zarządzaniem pamięcią przez Python."
   ]
  },
  {
   "cell_type": "markdown",
   "id": "59f50788",
   "metadata": {},
   "source": [
    "### `sys.getsizeof()`\n",
    "\n",
    "Zwraca wielkość obiektu w bajtach:"
   ]
  },
  {
   "cell_type": "code",
   "execution_count": 30,
   "id": "ddc06c96",
   "metadata": {},
   "outputs": [
    {
     "name": "stdout",
     "output_type": "stream",
     "text": [
      "4\n"
     ]
    }
   ],
   "source": [
    "a = np.array([1, 2, 3, 4, 5], dtype=np.int32)\n",
    "print(a.itemsize)  # Wyjście: 4 (każdy element zajmuje 4 bajty)"
   ]
  },
  {
   "cell_type": "code",
   "execution_count": 31,
   "id": "5e58f4bc",
   "metadata": {},
   "outputs": [
    {
     "data": {
      "text/plain": [
       "array([1, 2, 3, 4, 5])"
      ]
     },
     "execution_count": 31,
     "metadata": {},
     "output_type": "execute_result"
    }
   ],
   "source": [
    "a"
   ]
  },
  {
   "cell_type": "code",
   "execution_count": 32,
   "id": "a628870c",
   "metadata": {},
   "outputs": [
    {
     "name": "stdout",
     "output_type": "stream",
     "text": [
      "20\n"
     ]
    }
   ],
   "source": [
    "print(a.nbytes)  # Wyjście: 20 (5 elementów * 4 bajty na element)"
   ]
  },
  {
   "cell_type": "code",
   "execution_count": 33,
   "id": "9c848c75",
   "metadata": {},
   "outputs": [],
   "source": [
    "import sys"
   ]
  },
  {
   "cell_type": "code",
   "execution_count": 34,
   "id": "17a701ed",
   "metadata": {},
   "outputs": [
    {
     "data": {
      "text/plain": [
       "132"
      ]
     },
     "execution_count": 34,
     "metadata": {},
     "output_type": "execute_result"
    }
   ],
   "source": [
    "sys.getsizeof(a)"
   ]
  },
  {
   "cell_type": "code",
   "execution_count": 35,
   "id": "dcbd006e",
   "metadata": {},
   "outputs": [
    {
     "data": {
      "text/plain": [
       "24"
      ]
     },
     "execution_count": 35,
     "metadata": {},
     "output_type": "execute_result"
    }
   ],
   "source": [
    "sys.getsizeof(0)"
   ]
  },
  {
   "cell_type": "code",
   "execution_count": 36,
   "id": "f7b91aa2",
   "metadata": {},
   "outputs": [
    {
     "data": {
      "text/plain": [
       "40"
      ]
     },
     "execution_count": 36,
     "metadata": {},
     "output_type": "execute_result"
    }
   ],
   "source": [
    "sys.getsizeof(2**100)"
   ]
  },
  {
   "cell_type": "code",
   "execution_count": 37,
   "id": "4385eb84",
   "metadata": {},
   "outputs": [
    {
     "data": {
      "text/plain": [
       "1267650600228229401496703205376"
      ]
     },
     "execution_count": 37,
     "metadata": {},
     "output_type": "execute_result"
    }
   ],
   "source": [
    "2**100"
   ]
  },
  {
   "cell_type": "code",
   "execution_count": 38,
   "id": "c6ce56fd",
   "metadata": {},
   "outputs": [
    {
     "name": "stdout",
     "output_type": "stream",
     "text": [
      "Tablica                  Mem wartości   Mem obiektu\n",
      "array([], dtype=float64) 0              112       \n",
      "array([0])               4              116       \n",
      "array([0, 1])            8              120       \n",
      "array([0, 1, 2])         12             124       \n",
      "array([0, 1, 2, 3])      16             128       \n",
      "array([0, 1, 2, 3, 4])   20             132       \n"
     ]
    }
   ],
   "source": [
    "print('{:<25}{:<15}{:<10}'.format('Tablica', 'Mem wartości', 'Mem obiektu'))\n",
    "\n",
    "for k in range(6):\n",
    "    a = np.array(range(k))\n",
    "    print('{!r:<25}{:<15}{:<10}'.format(a, a.nbytes, sys.getsizeof(a)))"
   ]
  },
  {
   "cell_type": "code",
   "execution_count": 39,
   "id": "a84ab7e9",
   "metadata": {},
   "outputs": [
    {
     "data": {
      "text/plain": [
       "132"
      ]
     },
     "execution_count": 39,
     "metadata": {},
     "output_type": "execute_result"
    }
   ],
   "source": [
    "sys.getsizeof(a)"
   ]
  },
  {
   "cell_type": "markdown",
   "id": "13cd5030",
   "metadata": {},
   "source": [
    "### dla listy python"
   ]
  },
  {
   "cell_type": "code",
   "execution_count": 49,
   "id": "ed1cf7fe",
   "metadata": {},
   "outputs": [],
   "source": [
    "l = []\n",
    "\n",
    "for i in range(2*1000):\n",
    "    l.append(i)"
   ]
  },
  {
   "cell_type": "code",
   "execution_count": 50,
   "id": "30fb4e6b",
   "metadata": {},
   "outputs": [],
   "source": [
    "l = [i for i in range(2*1000)]"
   ]
  },
  {
   "cell_type": "code",
   "execution_count": 51,
   "id": "4f133384",
   "metadata": {},
   "outputs": [
    {
     "data": {
      "text/plain": [
       "16184"
      ]
     },
     "execution_count": 51,
     "metadata": {},
     "output_type": "execute_result"
    }
   ],
   "source": [
    "sys.getsizeof(l)"
   ]
  },
  {
   "cell_type": "code",
   "execution_count": 52,
   "id": "3639bf20",
   "metadata": {},
   "outputs": [
    {
     "data": {
      "text/plain": [
       "72180"
      ]
     },
     "execution_count": 52,
     "metadata": {},
     "output_type": "execute_result"
    }
   ],
   "source": [
    "sys.getsizeof(l) + sum(sys.getsizeof(item) for item in l)"
   ]
  },
  {
   "cell_type": "code",
   "execution_count": 53,
   "id": "e5176301",
   "metadata": {},
   "outputs": [],
   "source": [
    "a = np.array(range(2*1000))"
   ]
  },
  {
   "cell_type": "code",
   "execution_count": 54,
   "id": "00dd1170",
   "metadata": {},
   "outputs": [
    {
     "data": {
      "text/plain": [
       "4"
      ]
     },
     "execution_count": 54,
     "metadata": {},
     "output_type": "execute_result"
    }
   ],
   "source": [
    "a.itemsize"
   ]
  },
  {
   "cell_type": "code",
   "execution_count": 55,
   "id": "c690cbca",
   "metadata": {},
   "outputs": [
    {
     "data": {
      "text/plain": [
       "8000"
      ]
     },
     "execution_count": 55,
     "metadata": {},
     "output_type": "execute_result"
    }
   ],
   "source": [
    "a.nbytes"
   ]
  },
  {
   "cell_type": "code",
   "execution_count": 56,
   "id": "1be892fb",
   "metadata": {},
   "outputs": [
    {
     "data": {
      "text/plain": [
       "8112"
      ]
     },
     "execution_count": 56,
     "metadata": {},
     "output_type": "execute_result"
    }
   ],
   "source": [
    "sys.getsizeof(a)"
   ]
  },
  {
   "cell_type": "markdown",
   "id": "2958a350",
   "metadata": {},
   "source": [
    "### Poprawne porównanie rozmiarów\n",
    "\n",
    "Aby porównać rozmiar zajmowanej pamięci przez listę i tablicę NumPy, powinniśmy użyć odpowiednich metod:\n",
    "- **Dla listy**: `sys.getsizeof(python_list) + sum(sys.getsizeof(item) for item in python_list)`\n",
    "- **Dla tablicy NumPy**: `sys.getsizeof(numpy_array)` dla samego obiektu oraz `numpy_array.nbytes` dla danych.\n",
    "\n",
    "### Wyniki i wyjaśnienie\n",
    "\n",
    "- **Lista Pythona**:\n",
    "  - `sys.getsizeof(python_list)`: rozmiar samej listy (narzut pamięciowy struktury listy).\n",
    "  - `sum(sys.getsizeof(item) for item in python_list)`: rozmiar wszystkich elementów (każdy element jest oddzielnym obiektem Pythona).\n",
    "\n",
    "- **Tablica NumPy**:\n",
    "  - `sys.getsizeof(numpy_array)`: narzut obiektu tablicy NumPy.\n",
    "  - `numpy_array.nbytes`: całkowity rozmiar danych przechowywanych w tablicy.\n",
    "\n",
    "Tablica NumPy będzie zazwyczaj bardziej efektywna pamięciowo niż lista Pythona ze względu na brak dodatkowego narzutu związanego z zarządzaniem indywidualnymi obiektami elementów.\n",
    "\n",
    "W Pythonie lista jest strukturą danych, która przechowuje referencje do obiektów, a nie same obiekty. Dlatego całkowita pamięć zajmowana przez listę obejmuje zarówno narzut związany z samą listą, jak i pamięć zajmowaną przez poszczególne elementy, do których lista odwołuje się przez referencje."
   ]
  },
  {
   "cell_type": "markdown",
   "id": "e1d53050",
   "metadata": {},
   "source": [
    "### Morał\n",
    "\n",
    "Nawet proste wbudowane typy w Pythonie są złożonymi obiektami zawierającymi liczne dodatkowe dane. Dlatego zwykła lista obiektów ma duży rozmiar i skomplikowaną strukturę.\n",
    "\n",
    "Tablica NumPy odpowiada tablicy w języku C. Ma prostą strukturę, zajmuje jednorodny obszar pamięci, a wartości nie zawierają żadnych dodatkowych metadanych."
   ]
  },
  {
   "cell_type": "markdown",
   "id": "b084f7b7",
   "metadata": {},
   "source": [
    "## Atrybuty tablic\n",
    "\n",
    "* `.ndim` -- liczba wymiarów, liczba całkowita.\n",
    "* `.shape` -- rozmiar każdego z wymiarów, krotka liczb całkowitych.\n",
    "* `.size` -- całkowita liczba wartości, iloczyn wartości z krotki `.shape`."
   ]
  },
  {
   "cell_type": "code",
   "execution_count": 64,
   "id": "54c617b0",
   "metadata": {},
   "outputs": [
    {
     "data": {
      "text/plain": [
       "array([11, 13, 15, 17, 19])"
      ]
     },
     "execution_count": 64,
     "metadata": {},
     "output_type": "execute_result"
    }
   ],
   "source": [
    "np.arange(11,21,2)"
   ]
  },
  {
   "cell_type": "code",
   "execution_count": 58,
   "id": "ce44e432",
   "metadata": {},
   "outputs": [
    {
     "data": {
      "text/plain": [
       "array([-10,  -8,  -6,  -4,  -2,   0,   2,   4,   6,   8])"
      ]
     },
     "execution_count": 58,
     "metadata": {},
     "output_type": "execute_result"
    }
   ],
   "source": [
    "np.arange(-10, 10, 2)"
   ]
  },
  {
   "cell_type": "code",
   "execution_count": 57,
   "id": "50abb8f2",
   "metadata": {},
   "outputs": [
    {
     "data": {
      "text/plain": [
       "array([-10,  -8,  -6,  -4,  -2,   0,   2,   4,   6,   8])"
      ]
     },
     "execution_count": 57,
     "metadata": {},
     "output_type": "execute_result"
    }
   ],
   "source": [
    "a = np.arange(-10, 10, 2)\n",
    "a"
   ]
  },
  {
   "cell_type": "code",
   "execution_count": 65,
   "id": "05b92bb2",
   "metadata": {},
   "outputs": [
    {
     "data": {
      "text/plain": [
       "1"
      ]
     },
     "execution_count": 65,
     "metadata": {},
     "output_type": "execute_result"
    }
   ],
   "source": [
    "a.ndim"
   ]
  },
  {
   "cell_type": "code",
   "execution_count": 66,
   "id": "b79735c1",
   "metadata": {},
   "outputs": [
    {
     "data": {
      "text/plain": [
       "(10,)"
      ]
     },
     "execution_count": 66,
     "metadata": {},
     "output_type": "execute_result"
    }
   ],
   "source": [
    "a.shape"
   ]
  },
  {
   "cell_type": "code",
   "execution_count": 67,
   "id": "c5c2dfdd",
   "metadata": {},
   "outputs": [
    {
     "data": {
      "text/plain": [
       "10"
      ]
     },
     "execution_count": 67,
     "metadata": {},
     "output_type": "execute_result"
    }
   ],
   "source": [
    "a.size"
   ]
  },
  {
   "cell_type": "markdown",
   "id": "944294fe",
   "metadata": {},
   "source": [
    "## Tworzenie tablic z niczego\n",
    "\n",
    "* `np.zeroes()`\n",
    "* `np.ones()`\n",
    "* `np.full()`\n",
    "* `np.arange()`\n",
    "* `np.linspace()`\n",
    "* `np.random.random()`\n",
    "* `np.random.normal()`\n",
    "* `np.random.randint()`\n",
    "* `np.eye()`\n",
    "* i inne ..."
   ]
  },
  {
   "cell_type": "markdown",
   "id": "dfed6508",
   "metadata": {},
   "source": [
    "Tablica dwuwymiarowa o 6 elementach, 3 wiersze i dwie kolumny:"
   ]
  },
  {
   "cell_type": "code",
   "execution_count": 69,
   "id": "5a2043ec",
   "metadata": {},
   "outputs": [
    {
     "data": {
      "text/plain": [
       "array([[0., 0.],\n",
       "       [0., 0.],\n",
       "       [0., 0.]])"
      ]
     },
     "execution_count": 69,
     "metadata": {},
     "output_type": "execute_result"
    }
   ],
   "source": [
    "a = np.zeros((3,2))\n",
    "a"
   ]
  },
  {
   "cell_type": "code",
   "execution_count": 71,
   "id": "fb7fea0f",
   "metadata": {},
   "outputs": [
    {
     "data": {
      "text/plain": [
       "2"
      ]
     },
     "execution_count": 71,
     "metadata": {},
     "output_type": "execute_result"
    }
   ],
   "source": [
    "a.ndim"
   ]
  },
  {
   "cell_type": "code",
   "execution_count": 72,
   "id": "23b9a586",
   "metadata": {},
   "outputs": [
    {
     "data": {
      "text/plain": [
       "(3, 2)"
      ]
     },
     "execution_count": 72,
     "metadata": {},
     "output_type": "execute_result"
    }
   ],
   "source": [
    "a.shape"
   ]
  },
  {
   "cell_type": "code",
   "execution_count": 73,
   "id": "4c45c693",
   "metadata": {},
   "outputs": [
    {
     "data": {
      "text/plain": [
       "6"
      ]
     },
     "execution_count": 73,
     "metadata": {},
     "output_type": "execute_result"
    }
   ],
   "source": [
    "a.size"
   ]
  },
  {
   "cell_type": "markdown",
   "id": "abb513cc",
   "metadata": {},
   "source": [
    "## Indeksowanie: dostęp do pojedynczych elementów"
   ]
  },
  {
   "cell_type": "code",
   "execution_count": 74,
   "id": "38576f54",
   "metadata": {},
   "outputs": [
    {
     "data": {
      "text/plain": [
       "array([10, 11, 12, 13, 14, 15, 16, 17, 18, 19])"
      ]
     },
     "execution_count": 74,
     "metadata": {},
     "output_type": "execute_result"
    }
   ],
   "source": [
    "a = np.arange(10, 20)\n",
    "a"
   ]
  },
  {
   "cell_type": "code",
   "execution_count": 79,
   "id": "edae672b",
   "metadata": {},
   "outputs": [
    {
     "data": {
      "text/plain": [
       "array([10, 11, 11])"
      ]
     },
     "execution_count": 79,
     "metadata": {},
     "output_type": "execute_result"
    }
   ],
   "source": [
    "np.array((a[0], a[1], a[1]))"
   ]
  },
  {
   "cell_type": "code",
   "execution_count": 80,
   "id": "793e9462",
   "metadata": {},
   "outputs": [],
   "source": [
    "lista = [1,2,3,4,5]"
   ]
  },
  {
   "cell_type": "code",
   "execution_count": 83,
   "id": "79509f2f",
   "metadata": {},
   "outputs": [
    {
     "data": {
      "text/plain": [
       "[1, 5]"
      ]
     },
     "execution_count": 83,
     "metadata": {},
     "output_type": "execute_result"
    }
   ],
   "source": [
    "nowa_lista = [lista[0], lista[-1]]\n",
    "nowa_lista"
   ]
  },
  {
   "cell_type": "code",
   "execution_count": 84,
   "id": "4493e331",
   "metadata": {},
   "outputs": [
    {
     "data": {
      "text/plain": [
       "array([[ 0,  1,  2,  3,  4],\n",
       "       [ 5,  6,  7,  8,  9],\n",
       "       [10, 11, 12, 13, 14],\n",
       "       [15, 16, 17, 18, 19]])"
      ]
     },
     "execution_count": 84,
     "metadata": {},
     "output_type": "execute_result"
    }
   ],
   "source": [
    "a = np.array([[ 0,  1,  2,  3,  4],\n",
    "              [ 5,  6,  7,  8,  9],\n",
    "              [10, 11, 12, 13, 14],\n",
    "              [15, 16, 17, 18, 19]])\n",
    "a"
   ]
  },
  {
   "cell_type": "code",
   "execution_count": 85,
   "id": "4c946bc0",
   "metadata": {},
   "outputs": [
    {
     "data": {
      "text/plain": [
       "2"
      ]
     },
     "execution_count": 85,
     "metadata": {},
     "output_type": "execute_result"
    }
   ],
   "source": [
    "a.ndim"
   ]
  },
  {
   "cell_type": "code",
   "execution_count": 86,
   "id": "50e90432",
   "metadata": {},
   "outputs": [
    {
     "data": {
      "text/plain": [
       "13"
      ]
     },
     "execution_count": 86,
     "metadata": {},
     "output_type": "execute_result"
    }
   ],
   "source": [
    "a[2,3] #13"
   ]
  },
  {
   "cell_type": "code",
   "execution_count": 89,
   "id": "e2b06704",
   "metadata": {},
   "outputs": [
    {
     "data": {
      "text/plain": [
       "19"
      ]
     },
     "execution_count": 89,
     "metadata": {},
     "output_type": "execute_result"
    }
   ],
   "source": [
    "a[-1,-1]"
   ]
  },
  {
   "cell_type": "markdown",
   "id": "f8ca5d32",
   "metadata": {},
   "source": [
    "## Wycinki\n",
    "\n",
    "Składnia dla wycinków naśladuje tę wbudowaną w Pythona:\n",
    "\n",
    "```python\n",
    "a[start:stop:step]\n",
    "```"
   ]
  },
  {
   "cell_type": "markdown",
   "id": "b8dabb13",
   "metadata": {},
   "source": [
    "### Tablice jednowymiarowe"
   ]
  },
  {
   "cell_type": "code",
   "execution_count": 90,
   "id": "ddd9504d",
   "metadata": {},
   "outputs": [
    {
     "data": {
      "text/plain": [
       "array([0, 1, 2, 3, 4, 5, 6, 7, 8, 9])"
      ]
     },
     "execution_count": 90,
     "metadata": {},
     "output_type": "execute_result"
    }
   ],
   "source": [
    "a = np.arange(10)\n",
    "a"
   ]
  },
  {
   "cell_type": "code",
   "execution_count": 91,
   "id": "e1c1724b",
   "metadata": {},
   "outputs": [
    {
     "data": {
      "text/plain": [
       "(array([0, 1, 2]), array([3, 4, 5, 6, 7, 8, 9]))"
      ]
     },
     "execution_count": 91,
     "metadata": {},
     "output_type": "execute_result"
    }
   ],
   "source": [
    "a[:3], a[3:]"
   ]
  },
  {
   "cell_type": "code",
   "execution_count": 92,
   "id": "371f14b5",
   "metadata": {},
   "outputs": [
    {
     "data": {
      "text/plain": [
       "array([8, 9])"
      ]
     },
     "execution_count": 92,
     "metadata": {},
     "output_type": "execute_result"
    }
   ],
   "source": [
    "a[-2:]"
   ]
  },
  {
   "cell_type": "code",
   "execution_count": 93,
   "id": "ed6c453c",
   "metadata": {},
   "outputs": [
    {
     "data": {
      "text/plain": [
       "array([0, 2, 4, 6, 8])"
      ]
     },
     "execution_count": 93,
     "metadata": {},
     "output_type": "execute_result"
    }
   ],
   "source": [
    "a[::2]"
   ]
  },
  {
   "cell_type": "code",
   "execution_count": 94,
   "id": "510e2463",
   "metadata": {},
   "outputs": [
    {
     "data": {
      "text/plain": [
       "array([9, 8, 7, 6, 5, 4, 3, 2, 1, 0])"
      ]
     },
     "execution_count": 94,
     "metadata": {},
     "output_type": "execute_result"
    }
   ],
   "source": [
    "a[::-1]"
   ]
  },
  {
   "cell_type": "markdown",
   "id": "e0f85777",
   "metadata": {},
   "source": [
    "### Tablice wielowymiarowe"
   ]
  },
  {
   "cell_type": "code",
   "execution_count": 95,
   "id": "1d244267",
   "metadata": {},
   "outputs": [
    {
     "data": {
      "text/plain": [
       "array([[ 0,  1,  2,  3,  4],\n",
       "       [ 5,  6,  7,  8,  9],\n",
       "       [10, 11, 12, 13, 14],\n",
       "       [15, 16, 17, 18, 19]])"
      ]
     },
     "execution_count": 95,
     "metadata": {},
     "output_type": "execute_result"
    }
   ],
   "source": [
    "a = np.array([[ 0,  1,  2,  3,  4],\n",
    "              [ 5,  6,  7,  8,  9],\n",
    "              [10, 11, 12, 13, 14],\n",
    "              [15, 16, 17, 18, 19]])\n",
    "a"
   ]
  },
  {
   "cell_type": "code",
   "execution_count": 97,
   "id": "8de549b7",
   "metadata": {},
   "outputs": [
    {
     "data": {
      "text/plain": [
       "array([[0, 1, 2, 3, 4],\n",
       "       [5, 6, 7, 8, 9]])"
      ]
     },
     "execution_count": 97,
     "metadata": {},
     "output_type": "execute_result"
    }
   ],
   "source": [
    "#dwa pierwsze wiersze\n",
    "a[:2]"
   ]
  },
  {
   "cell_type": "markdown",
   "id": "39037192",
   "metadata": {},
   "source": [
    "Wycinki można tworzyć na każdej osi osobno. Dwa ostatnie wiersze, druga, trzecia i czwarta kolumna:"
   ]
  },
  {
   "cell_type": "code",
   "execution_count": 102,
   "id": "58c013ea",
   "metadata": {},
   "outputs": [
    {
     "data": {
      "text/plain": [
       "array([[11, 12, 13],\n",
       "       [16, 17, 18]])"
      ]
     },
     "execution_count": 102,
     "metadata": {},
     "output_type": "execute_result"
    }
   ],
   "source": [
    "a[-2:,1:4]"
   ]
  },
  {
   "cell_type": "markdown",
   "id": "de9844d2",
   "metadata": {},
   "source": [
    "### Wiersze i kolumny"
   ]
  },
  {
   "cell_type": "markdown",
   "id": "f2bf9cca",
   "metadata": {},
   "source": [
    "Drugi wiersz"
   ]
  },
  {
   "cell_type": "code",
   "execution_count": 107,
   "id": "5bf9263d",
   "metadata": {},
   "outputs": [
    {
     "data": {
      "text/plain": [
       "array([5, 6, 7, 8, 9])"
      ]
     },
     "execution_count": 107,
     "metadata": {},
     "output_type": "execute_result"
    }
   ],
   "source": [
    "a[1]"
   ]
  },
  {
   "cell_type": "code",
   "execution_count": 106,
   "id": "9e2b0ab8",
   "metadata": {},
   "outputs": [
    {
     "data": {
      "text/plain": [
       "array([5, 6, 7, 8, 9])"
      ]
     },
     "execution_count": 106,
     "metadata": {},
     "output_type": "execute_result"
    }
   ],
   "source": [
    "a[1,:]"
   ]
  },
  {
   "cell_type": "markdown",
   "id": "001461f5",
   "metadata": {},
   "source": [
    "ale tak jest mniej czytelnie, bo struktura tablicy pozostaje ukryta. Ponadto, to wywołanie zadziała również dla tablicy jednowymiarowej, co może prowadzić do niespodziewanych błędów."
   ]
  },
  {
   "cell_type": "code",
   "execution_count": 108,
   "id": "e6e4959c",
   "metadata": {},
   "outputs": [
    {
     "data": {
      "text/plain": [
       "array([[ 0,  1,  2,  3,  4],\n",
       "       [ 5,  6,  7,  8,  9],\n",
       "       [10, 11, 12, 13, 14],\n",
       "       [15, 16, 17, 18, 19]])"
      ]
     },
     "execution_count": 108,
     "metadata": {},
     "output_type": "execute_result"
    }
   ],
   "source": [
    "a"
   ]
  },
  {
   "cell_type": "code",
   "execution_count": 109,
   "id": "2ec1f77d",
   "metadata": {},
   "outputs": [
    {
     "data": {
      "text/plain": [
       "array([ 2,  7, 12, 17])"
      ]
     },
     "execution_count": 109,
     "metadata": {},
     "output_type": "execute_result"
    }
   ],
   "source": [
    "a[:,2]"
   ]
  },
  {
   "cell_type": "markdown",
   "id": "63b45d76",
   "metadata": {},
   "source": [
    "### Uwaga!\n",
    "\n",
    "**Wycinki tablic NumPy nie zwracają kopii!**"
   ]
  },
  {
   "cell_type": "code",
   "execution_count": 110,
   "id": "1e488960",
   "metadata": {},
   "outputs": [
    {
     "data": {
      "text/plain": [
       "array([[ 0,  1,  2,  3,  4],\n",
       "       [ 5,  6,  7,  8,  9],\n",
       "       [10, 11, 12, 13, 14],\n",
       "       [15, 16, 17, 18, 19]])"
      ]
     },
     "execution_count": 110,
     "metadata": {},
     "output_type": "execute_result"
    }
   ],
   "source": [
    "a"
   ]
  },
  {
   "cell_type": "code",
   "execution_count": 111,
   "id": "73eaa045",
   "metadata": {},
   "outputs": [
    {
     "data": {
      "text/plain": [
       "array([[ 7,  8],\n",
       "       [12, 13]])"
      ]
     },
     "execution_count": 111,
     "metadata": {},
     "output_type": "execute_result"
    }
   ],
   "source": [
    "b = a[1:3,2:4]\n",
    "b"
   ]
  },
  {
   "cell_type": "code",
   "execution_count": 112,
   "id": "cee5c23f",
   "metadata": {},
   "outputs": [
    {
     "data": {
      "text/plain": [
       "array([[  7,   8],\n",
       "       [ 12, 123]])"
      ]
     },
     "execution_count": 112,
     "metadata": {},
     "output_type": "execute_result"
    }
   ],
   "source": [
    "b[1,1] = 123\n",
    "b"
   ]
  },
  {
   "cell_type": "code",
   "execution_count": 113,
   "id": "c35158ce",
   "metadata": {},
   "outputs": [
    {
     "data": {
      "text/plain": [
       "array([[  0,   1,   2,   3,   4],\n",
       "       [  5,   6,   7,   8,   9],\n",
       "       [ 10,  11,  12, 123,  14],\n",
       "       [ 15,  16,  17,  18,  19]])"
      ]
     },
     "execution_count": 113,
     "metadata": {},
     "output_type": "execute_result"
    }
   ],
   "source": [
    "a"
   ]
  },
  {
   "cell_type": "markdown",
   "id": "05969331",
   "metadata": {},
   "source": [
    "### Tworzenie kopii"
   ]
  },
  {
   "cell_type": "code",
   "execution_count": 115,
   "id": "da1fd0a2",
   "metadata": {},
   "outputs": [
    {
     "data": {
      "text/plain": [
       "array([[ 0,  1,  2,  3,  4],\n",
       "       [ 5,  6,  7,  8,  9],\n",
       "       [10, 11, 12, 13, 14],\n",
       "       [15, 16, 17, 18, 19]])"
      ]
     },
     "execution_count": 115,
     "metadata": {},
     "output_type": "execute_result"
    }
   ],
   "source": [
    "a = np.array([[ 0,  1,  2,  3,  4],\n",
    "              [ 5,  6,  7,  8,  9],\n",
    "              [10, 11, 12, 13, 14],\n",
    "              [15, 16, 17, 18, 19]])\n",
    "a"
   ]
  },
  {
   "cell_type": "code",
   "execution_count": 116,
   "id": "545e3472",
   "metadata": {},
   "outputs": [
    {
     "data": {
      "text/plain": [
       "array([[ 7,  8],\n",
       "       [12, 13]])"
      ]
     },
     "execution_count": 116,
     "metadata": {},
     "output_type": "execute_result"
    }
   ],
   "source": [
    "b = a[1:3,2:4].copy()\n",
    "b"
   ]
  },
  {
   "cell_type": "code",
   "execution_count": 117,
   "id": "5b6ba1d1",
   "metadata": {},
   "outputs": [
    {
     "data": {
      "text/plain": [
       "array([[  7,   8],\n",
       "       [ 12, 123]])"
      ]
     },
     "execution_count": 117,
     "metadata": {},
     "output_type": "execute_result"
    }
   ],
   "source": [
    "b[1,1] = 123\n",
    "b"
   ]
  },
  {
   "cell_type": "code",
   "execution_count": 118,
   "id": "e2f69572",
   "metadata": {},
   "outputs": [
    {
     "data": {
      "text/plain": [
       "array([[ 0,  1,  2,  3,  4],\n",
       "       [ 5,  6,  7,  8,  9],\n",
       "       [10, 11, 12, 13, 14],\n",
       "       [15, 16, 17, 18, 19]])"
      ]
     },
     "execution_count": 118,
     "metadata": {},
     "output_type": "execute_result"
    }
   ],
   "source": [
    "a"
   ]
  },
  {
   "cell_type": "markdown",
   "id": "d62b0ba0",
   "metadata": {},
   "source": [
    "## `.reshape()` -- zmiana kształtu tablicy"
   ]
  },
  {
   "cell_type": "code",
   "execution_count": 119,
   "id": "a5883951",
   "metadata": {},
   "outputs": [
    {
     "data": {
      "text/plain": [
       "array([[ 0,  1,  2,  3,  4],\n",
       "       [ 5,  6,  7,  8,  9],\n",
       "       [10, 11, 12, 13, 14],\n",
       "       [15, 16, 17, 18, 19]])"
      ]
     },
     "execution_count": 119,
     "metadata": {},
     "output_type": "execute_result"
    }
   ],
   "source": [
    "a"
   ]
  },
  {
   "cell_type": "code",
   "execution_count": 122,
   "id": "6533dde8",
   "metadata": {},
   "outputs": [
    {
     "data": {
      "text/plain": [
       "array([[0, 1, 2, 3, 4],\n",
       "       [5, 6, 7, 8, 9]])"
      ]
     },
     "execution_count": 122,
     "metadata": {},
     "output_type": "execute_result"
    }
   ],
   "source": [
    "np.arange(10).reshape(2,5)"
   ]
  },
  {
   "cell_type": "code",
   "execution_count": 123,
   "id": "5ed71750",
   "metadata": {},
   "outputs": [
    {
     "data": {
      "text/plain": [
       "array([[0, 1],\n",
       "       [2, 3],\n",
       "       [4, 5],\n",
       "       [6, 7],\n",
       "       [8, 9]])"
      ]
     },
     "execution_count": 123,
     "metadata": {},
     "output_type": "execute_result"
    }
   ],
   "source": [
    "np.arange(10).reshape(5,2)"
   ]
  },
  {
   "cell_type": "code",
   "execution_count": 130,
   "id": "9238af56",
   "metadata": {},
   "outputs": [
    {
     "data": {
      "text/plain": [
       "array([0, 1, 2, 3, 4, 5, 6, 7, 8, 9])"
      ]
     },
     "execution_count": 130,
     "metadata": {},
     "output_type": "execute_result"
    }
   ],
   "source": [
    "np.arange(10)"
   ]
  },
  {
   "cell_type": "code",
   "execution_count": 132,
   "id": "09c8be96",
   "metadata": {},
   "outputs": [
    {
     "data": {
      "text/plain": [
       "array([[0, 1, 2, 3, 4, 5, 6, 7, 8, 9]])"
      ]
     },
     "execution_count": 132,
     "metadata": {},
     "output_type": "execute_result"
    }
   ],
   "source": [
    "np.arange(10).reshape(1, 10)"
   ]
  },
  {
   "cell_type": "markdown",
   "id": "8e969694",
   "metadata": {},
   "source": [
    "To samo za pomocą `np.newaxis`:"
   ]
  },
  {
   "cell_type": "code",
   "execution_count": 133,
   "id": "fe4b8d0f",
   "metadata": {},
   "outputs": [
    {
     "data": {
      "text/plain": [
       "array([0, 1, 2, 3, 4, 5, 6, 7, 8, 9])"
      ]
     },
     "execution_count": 133,
     "metadata": {},
     "output_type": "execute_result"
    }
   ],
   "source": [
    "a = np.arange(10)\n",
    "a"
   ]
  },
  {
   "cell_type": "code",
   "execution_count": 134,
   "id": "b539382a",
   "metadata": {},
   "outputs": [
    {
     "data": {
      "text/plain": [
       "array([[0, 1, 2, 3, 4, 5, 6, 7, 8, 9]])"
      ]
     },
     "execution_count": 134,
     "metadata": {},
     "output_type": "execute_result"
    }
   ],
   "source": [
    "a[np.newaxis, :]"
   ]
  },
  {
   "cell_type": "code",
   "execution_count": 135,
   "id": "b3717630",
   "metadata": {},
   "outputs": [
    {
     "data": {
      "text/plain": [
       "array([[0],\n",
       "       [1],\n",
       "       [2],\n",
       "       [3],\n",
       "       [4],\n",
       "       [5],\n",
       "       [6],\n",
       "       [7],\n",
       "       [8],\n",
       "       [9]])"
      ]
     },
     "execution_count": 135,
     "metadata": {},
     "output_type": "execute_result"
    }
   ],
   "source": [
    "a[:, np.newaxis]"
   ]
  },
  {
   "cell_type": "code",
   "execution_count": 137,
   "id": "82a1803d",
   "metadata": {},
   "outputs": [
    {
     "data": {
      "text/plain": [
       "array([[0],\n",
       "       [1],\n",
       "       [2],\n",
       "       [3],\n",
       "       [4],\n",
       "       [5],\n",
       "       [6],\n",
       "       [7],\n",
       "       [8],\n",
       "       [9]])"
      ]
     },
     "execution_count": 137,
     "metadata": {},
     "output_type": "execute_result"
    }
   ],
   "source": [
    "np.arange(10).reshape(10,1)"
   ]
  },
  {
   "cell_type": "code",
   "execution_count": 138,
   "id": "52574aa2",
   "metadata": {},
   "outputs": [
    {
     "data": {
      "text/plain": [
       "array([[[0]],\n",
       "\n",
       "       [[1]],\n",
       "\n",
       "       [[2]],\n",
       "\n",
       "       [[3]],\n",
       "\n",
       "       [[4]]])"
      ]
     },
     "execution_count": 138,
     "metadata": {},
     "output_type": "execute_result"
    }
   ],
   "source": [
    "# w zależności od potrzeb:\n",
    "np.arange(5).reshape(5, 1, 1)"
   ]
  },
  {
   "cell_type": "markdown",
   "id": "bc5c9b90",
   "metadata": {},
   "source": [
    "## Łączenie i dzielenie tablic\n",
    "\n",
    "* `np.concatenate()`\n",
    "* `np.vstack()`\n",
    "* `np.hstack()`\n",
    "* `np.split()`\n",
    "* `np.vsplit()`\n",
    "* `np.hsplit()`"
   ]
  },
  {
   "cell_type": "markdown",
   "id": "f58310e9",
   "metadata": {},
   "source": [
    "## Funkcje uniwersalne (ufuncs), wektoryzacja\n",
    "\n",
    "Funkcja uniwersalna jest zwykłą funkcją jednej lub wielu zmiennych opakowaną mechanizmem wektoryzacji: wywołana na tablicy wywołuje się (wektoryzacja) na wszystkich jej elementach.\n",
    "\n",
    "Funkcje uniwersalne są bardzo wydajne czasowo."
   ]
  },
  {
   "cell_type": "markdown",
   "id": "958f426a",
   "metadata": {},
   "source": [
    "##### Listy w Python:"
   ]
  },
  {
   "cell_type": "code",
   "execution_count": 141,
   "id": "19581e4c",
   "metadata": {},
   "outputs": [],
   "source": [
    "l = [1,2,3,4,5]\n",
    "L_2 = [6,7,8,9,10]"
   ]
  },
  {
   "cell_type": "code",
   "execution_count": 142,
   "id": "df371cfb",
   "metadata": {},
   "outputs": [
    {
     "data": {
      "text/plain": [
       "[1, 2, 3, 4, 5, 6, 7, 8, 9, 10]"
      ]
     },
     "execution_count": 142,
     "metadata": {},
     "output_type": "execute_result"
    }
   ],
   "source": [
    "l + L_2"
   ]
  },
  {
   "cell_type": "markdown",
   "id": "3a5c1dd8",
   "metadata": {},
   "source": [
    "##### Tablice w NumPy:"
   ]
  },
  {
   "cell_type": "code",
   "execution_count": 139,
   "id": "01d5e795",
   "metadata": {},
   "outputs": [
    {
     "data": {
      "text/plain": [
       "(array([0, 1, 2, 3, 4]), array([10, 11, 12, 13, 14]))"
      ]
     },
     "execution_count": 139,
     "metadata": {},
     "output_type": "execute_result"
    }
   ],
   "source": [
    "x = np.arange(5)\n",
    "y = np.arange(10, 15)\n",
    "x, y"
   ]
  },
  {
   "cell_type": "code",
   "execution_count": 140,
   "id": "11c1b472",
   "metadata": {},
   "outputs": [
    {
     "data": {
      "text/plain": [
       "array([10, 12, 14, 16, 18])"
      ]
     },
     "execution_count": 140,
     "metadata": {},
     "output_type": "execute_result"
    }
   ],
   "source": [
    "x + y"
   ]
  },
  {
   "cell_type": "code",
   "execution_count": 143,
   "id": "a56d9e2e",
   "metadata": {},
   "outputs": [
    {
     "data": {
      "text/plain": [
       "array([ 0, 11, 24, 39, 56])"
      ]
     },
     "execution_count": 143,
     "metadata": {},
     "output_type": "execute_result"
    }
   ],
   "source": [
    "x * y"
   ]
  },
  {
   "cell_type": "code",
   "execution_count": 144,
   "id": "1a66ade4",
   "metadata": {},
   "outputs": [
    {
     "data": {
      "text/plain": [
       "array([0.        , 0.09090909, 0.16666667, 0.23076923, 0.28571429])"
      ]
     },
     "execution_count": 144,
     "metadata": {},
     "output_type": "execute_result"
    }
   ],
   "source": [
    "x / y"
   ]
  },
  {
   "cell_type": "code",
   "execution_count": 145,
   "id": "9543893a",
   "metadata": {},
   "outputs": [
    {
     "data": {
      "text/plain": [
       "array([ 5. ,  7.5, 10. , 12.5, 15. ])"
      ]
     },
     "execution_count": 145,
     "metadata": {},
     "output_type": "execute_result"
    }
   ],
   "source": [
    "2*x + y/2"
   ]
  },
  {
   "cell_type": "code",
   "execution_count": null,
   "id": "fe68093c",
   "metadata": {},
   "outputs": [],
   "source": [
    "from matplotlib import pyplot as plt\n",
    "%matplotlib inline\n",
    "plt.style.use('seaborn-notebook')\n",
    "\n",
    "# 100 punktów równomiernego podziału\n",
    "X = np.linspace(-2*np.pi, 2*np.pi, 100)\n",
    "Y = np.sin(X) # ufunc!\n",
    "plt.plot(X, Y)\n",
    "plt.grid(ls=':')"
   ]
  }
 ],
 "metadata": {
  "kernelspec": {
   "display_name": "Python 3 (ipykernel)",
   "language": "python",
   "name": "python3"
  },
  "language_info": {
   "codemirror_mode": {
    "name": "ipython",
    "version": 3
   },
   "file_extension": ".py",
   "mimetype": "text/x-python",
   "name": "python",
   "nbconvert_exporter": "python",
   "pygments_lexer": "ipython3",
   "version": "3.9.13"
  }
 },
 "nbformat": 4,
 "nbformat_minor": 5
}
