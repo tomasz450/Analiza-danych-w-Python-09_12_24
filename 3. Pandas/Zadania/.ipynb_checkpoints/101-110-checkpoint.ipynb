{
 "cells": [
  {
   "cell_type": "markdown",
   "metadata": {
    "id": "zeLOLmTj1kBM"
   },
   "source": [
    "### <a name='0'></a>Import biblioteki"
   ]
  },
  {
   "cell_type": "code",
   "execution_count": 1,
   "metadata": {
    "id": "HXMB7SMe1Wnz"
   },
   "outputs": [
    {
     "data": {
      "text/plain": [
       "'2.2.3'"
      ]
     },
     "execution_count": 1,
     "metadata": {},
     "output_type": "execute_result"
    }
   ],
   "source": [
    "import numpy as np\n",
    "import pandas as pd\n",
    "\n",
    "pd.__version__"
   ]
  },
  {
   "cell_type": "markdown",
   "metadata": {
    "id": "cyc70pMe1oCg"
   },
   "source": [
    "### <a name='1'></a> Ćwiczenie 101\n",
    "Z podanej poniżej listy:\n",
    "\n",
    "\n",
    "```\n",
    "stocks = ['PLW', 'CDR', '11B', 'TEN']\n",
    "```\n",
    "Utwórz obiekt typu Series.\n",
    "\n",
    "__Oczekiwany wynik:__\n",
    "\n",
    "\n",
    "```\n",
    "0    PLW\n",
    "1    CDR\n",
    "2    11B\n",
    "3    TEN\n",
    "dtype: object\n",
    "```\n",
    "\n",
    "\n",
    "\n"
   ]
  },
  {
   "cell_type": "code",
   "execution_count": 3,
   "metadata": {},
   "outputs": [],
   "source": [
    "stocks = ['PLW', 'CDR', '11B', 'TEN']"
   ]
  },
  {
   "cell_type": "code",
   "execution_count": 4,
   "metadata": {
    "id": "GDGFmMI9BJ_D"
   },
   "outputs": [
    {
     "data": {
      "text/plain": [
       "0    PLW\n",
       "1    CDR\n",
       "2    11B\n",
       "3    TEN\n",
       "dtype: object"
      ]
     },
     "execution_count": 4,
     "metadata": {},
     "output_type": "execute_result"
    }
   ],
   "source": [
    "stock_series = pd.Series(stocks)\n",
    "stock_series"
   ]
  },
  {
   "cell_type": "markdown",
   "metadata": {
    "id": "J9pY1rtr1sC0"
   },
   "source": [
    "### <a name='2'></a> Ćwiczenie 102\n",
    "Z podanego poniżej słownika:\n",
    "\n",
    "\n",
    "```\n",
    "stocks = {'PLW': 387.00, 'CDR': 339.5, 'TEN': 349.5, '11B': 391.0}\n",
    "```\n",
    "Utwórz obiekt typu Series i przypisz do zmiennej _quotations_.\n",
    "\n",
    "__Oczekiwany wynik:__\n",
    "\n",
    "\n",
    "```\n",
    "PLW    387.0\n",
    "CDR    339.5\n",
    "TEN    349.5\n",
    "11B    391.0\n",
    "dtype: float64\n",
    "```\n",
    "\n",
    "\n",
    "\n"
   ]
  },
  {
   "cell_type": "code",
   "execution_count": 6,
   "metadata": {},
   "outputs": [],
   "source": [
    "stocks = {'PLW': 387.00, 'CDR': 339.5, 'TEN': 349.5, '11B': 391.0}"
   ]
  },
  {
   "cell_type": "code",
   "execution_count": 7,
   "metadata": {
    "id": "Qxkr7Q_DB79J"
   },
   "outputs": [
    {
     "data": {
      "text/plain": [
       "PLW    387.0\n",
       "CDR    339.5\n",
       "TEN    349.5\n",
       "11B    391.0\n",
       "dtype: float64"
      ]
     },
     "execution_count": 7,
     "metadata": {},
     "output_type": "execute_result"
    }
   ],
   "source": [
    "quotations = pd.Series(stocks)\n",
    "quotations"
   ]
  },
  {
   "cell_type": "markdown",
   "metadata": {
    "id": "XQLYT2m11wVG"
   },
   "source": [
    "### <a name='3'></a> Ćwiczenie 103\n",
    "Przekształć obiekt _quotations_ do listy.\n",
    "\n",
    "__Oczekiwany wynik:__\n",
    "\n",
    "\n",
    "```\n",
    "[387.0, 339.5, 349.5, 391.0]\n",
    "```\n",
    "\n"
   ]
  },
  {
   "cell_type": "code",
   "execution_count": 9,
   "metadata": {},
   "outputs": [
    {
     "data": {
      "text/plain": [
       "[387.0, 339.5, 349.5, 391.0]"
      ]
     },
     "execution_count": 9,
     "metadata": {},
     "output_type": "execute_result"
    }
   ],
   "source": [
    "quotations.tolist()"
   ]
  },
  {
   "cell_type": "code",
   "execution_count": 10,
   "metadata": {
    "id": "d0GEZKMGCgKt"
   },
   "outputs": [
    {
     "data": {
      "text/plain": [
       "[387.0, 339.5, 349.5, 391.0]"
      ]
     },
     "execution_count": 10,
     "metadata": {},
     "output_type": "execute_result"
    }
   ],
   "source": [
    "quotations_list = quotations.tolist()\n",
    "quotations_list"
   ]
  },
  {
   "cell_type": "markdown",
   "metadata": {
    "id": "JQtZ-hYaGp7h"
   },
   "source": [
    "Przekształć obiekt _quotations_ do tablicy _numpy_."
   ]
  },
  {
   "cell_type": "code",
   "execution_count": null,
   "metadata": {
    "id": "0fMS1VvoGmyG"
   },
   "outputs": [],
   "source": [
    "# tutaj wpisz rozwiązanie"
   ]
  },
  {
   "cell_type": "markdown",
   "metadata": {
    "id": "4xTKSUzg10MK"
   },
   "source": [
    "### <a name='4'></a> Ćwiczenie 104\n",
    "Przekształć obiekt _quotations_ do obiektu _DataFrame_. Ustaw nazwę kolumny na _price_."
   ]
  },
  {
   "cell_type": "code",
   "execution_count": 14,
   "metadata": {
    "id": "ygDJC3NmD_M6"
   },
   "outputs": [
    {
     "data": {
      "text/html": [
       "<div>\n",
       "<style scoped>\n",
       "    .dataframe tbody tr th:only-of-type {\n",
       "        vertical-align: middle;\n",
       "    }\n",
       "\n",
       "    .dataframe tbody tr th {\n",
       "        vertical-align: top;\n",
       "    }\n",
       "\n",
       "    .dataframe thead th {\n",
       "        text-align: right;\n",
       "    }\n",
       "</style>\n",
       "<table border=\"1\" class=\"dataframe\">\n",
       "  <thead>\n",
       "    <tr style=\"text-align: right;\">\n",
       "      <th></th>\n",
       "      <th>price</th>\n",
       "    </tr>\n",
       "  </thead>\n",
       "  <tbody>\n",
       "    <tr>\n",
       "      <th>PLW</th>\n",
       "      <td>387.0</td>\n",
       "    </tr>\n",
       "    <tr>\n",
       "      <th>CDR</th>\n",
       "      <td>339.5</td>\n",
       "    </tr>\n",
       "    <tr>\n",
       "      <th>TEN</th>\n",
       "      <td>349.5</td>\n",
       "    </tr>\n",
       "    <tr>\n",
       "      <th>11B</th>\n",
       "      <td>391.0</td>\n",
       "    </tr>\n",
       "  </tbody>\n",
       "</table>\n",
       "</div>"
      ],
      "text/plain": [
       "     price\n",
       "PLW  387.0\n",
       "CDR  339.5\n",
       "TEN  349.5\n",
       "11B  391.0"
      ]
     },
     "execution_count": 14,
     "metadata": {},
     "output_type": "execute_result"
    }
   ],
   "source": [
    "DF = pd.DataFrame(quotations)\n",
    "DF.columns=['price']\n",
    "DF"
   ]
  },
  {
   "cell_type": "code",
   "execution_count": 15,
   "metadata": {},
   "outputs": [
    {
     "data": {
      "text/html": [
       "<div>\n",
       "<style scoped>\n",
       "    .dataframe tbody tr th:only-of-type {\n",
       "        vertical-align: middle;\n",
       "    }\n",
       "\n",
       "    .dataframe tbody tr th {\n",
       "        vertical-align: top;\n",
       "    }\n",
       "\n",
       "    .dataframe thead th {\n",
       "        text-align: right;\n",
       "    }\n",
       "</style>\n",
       "<table border=\"1\" class=\"dataframe\">\n",
       "  <thead>\n",
       "    <tr style=\"text-align: right;\">\n",
       "      <th></th>\n",
       "      <th>price</th>\n",
       "    </tr>\n",
       "  </thead>\n",
       "  <tbody>\n",
       "    <tr>\n",
       "      <th>PLW</th>\n",
       "      <td>387.0</td>\n",
       "    </tr>\n",
       "    <tr>\n",
       "      <th>CDR</th>\n",
       "      <td>339.5</td>\n",
       "    </tr>\n",
       "    <tr>\n",
       "      <th>TEN</th>\n",
       "      <td>349.5</td>\n",
       "    </tr>\n",
       "    <tr>\n",
       "      <th>11B</th>\n",
       "      <td>391.0</td>\n",
       "    </tr>\n",
       "  </tbody>\n",
       "</table>\n",
       "</div>"
      ],
      "text/plain": [
       "     price\n",
       "PLW  387.0\n",
       "CDR  339.5\n",
       "TEN  349.5\n",
       "11B  391.0"
      ]
     },
     "execution_count": 15,
     "metadata": {},
     "output_type": "execute_result"
    }
   ],
   "source": [
    "pd.DataFrame(quotations, columns=['price'])"
   ]
  },
  {
   "cell_type": "markdown",
   "metadata": {
    "id": "o3HKIKlP15Ro"
   },
   "source": [
    "### <a name='5'></a> Ćwiczenie 105\n",
    "Wykorzystując bibliotekę _numpy_ zbuduj poniższy obiekt typu _Series_:\n",
    "\n",
    "\n",
    "```\n",
    "101    10.0\n",
    "102    20.0\n",
    "103    30.0\n",
    "104    40.0\n",
    "105    50.0\n",
    "106    60.0\n",
    "107    70.0\n",
    "108    80.0\n",
    "109    90.0\n",
    "dtype: float64\n",
    "```\n",
    "\n"
   ]
  },
  {
   "cell_type": "code",
   "execution_count": 17,
   "metadata": {
    "id": "78evbbA2ELsX"
   },
   "outputs": [
    {
     "data": {
      "text/plain": [
       "101    10.0\n",
       "102    20.0\n",
       "103    30.0\n",
       "104    40.0\n",
       "105    50.0\n",
       "106    60.0\n",
       "107    70.0\n",
       "108    80.0\n",
       "109    90.0\n",
       "dtype: float64"
      ]
     },
     "execution_count": 17,
     "metadata": {},
     "output_type": "execute_result"
    }
   ],
   "source": [
    "wynik= pd.Series(data=np.arange(10,100,10), index=np.arange(101, 110,1), dtype='float64')\n",
    "wynik"
   ]
  },
  {
   "cell_type": "markdown",
   "metadata": {
    "id": "PunXd_Ey16so"
   },
   "source": [
    "### <a name='6'></a> Ćwiczenie 106\n",
    "Podany jest poniższy obiekt typu _Series_:\n",
    "\n",
    "```\n",
    "series = pd.Series(['001', '002', '003', '004'], list('abcd'))\n",
    "```\n",
    "Skonwertuj typ obiektu _series_ na _int_.\n",
    "\n"
   ]
  },
  {
   "cell_type": "code",
   "execution_count": 21,
   "metadata": {},
   "outputs": [],
   "source": [
    "series = pd.Series(['001', '002', '003', '004'], list('abcd'))"
   ]
  },
  {
   "cell_type": "code",
   "execution_count": 22,
   "metadata": {},
   "outputs": [
    {
     "data": {
      "text/plain": [
       "a    001\n",
       "b    002\n",
       "c    003\n",
       "d    004\n",
       "dtype: object"
      ]
     },
     "execution_count": 22,
     "metadata": {},
     "output_type": "execute_result"
    }
   ],
   "source": [
    "series"
   ]
  },
  {
   "cell_type": "code",
   "execution_count": 19,
   "metadata": {
    "id": "Ve_jsXz7FiPI"
   },
   "outputs": [
    {
     "data": {
      "text/plain": [
       "a    1\n",
       "b    2\n",
       "c    3\n",
       "d    4\n",
       "dtype: int64"
      ]
     },
     "execution_count": 19,
     "metadata": {},
     "output_type": "execute_result"
    }
   ],
   "source": [
    "series = pd.Series(['001', '002', '003', '004'], list('abcd'))\n",
    "series = series.astype(int)\n",
    "series"
   ]
  },
  {
   "cell_type": "code",
   "execution_count": 20,
   "metadata": {},
   "outputs": [
    {
     "data": {
      "text/plain": [
       "a    1\n",
       "b    2\n",
       "c    3\n",
       "d    4\n",
       "dtype: int64"
      ]
     },
     "execution_count": 20,
     "metadata": {},
     "output_type": "execute_result"
    }
   ],
   "source": [
    "pd.to_numeric(series)"
   ]
  },
  {
   "cell_type": "code",
   "execution_count": null,
   "metadata": {},
   "outputs": [],
   "source": []
  },
  {
   "cell_type": "markdown",
   "metadata": {
    "id": "M9Xadb-hGRiD"
   },
   "source": [
    "Skonwertuj typ obiektu _series_ na _float_."
   ]
  },
  {
   "cell_type": "code",
   "execution_count": null,
   "metadata": {
    "id": "Fa7dEamIGQdr"
   },
   "outputs": [],
   "source": [
    "# tutaj wpisz rozwiązanie"
   ]
  },
  {
   "cell_type": "markdown",
   "metadata": {
    "id": "hOhqDRz618Tx"
   },
   "source": [
    "### <a name='7'></a> Ćwiczenie 107\n",
    "Do poniższego obiektu _quotations_:\n",
    "\n",
    "```\n",
    "stocks = {'PLW': 387.00, 'CDR': 339.5, 'TEN': 349.5, '11B': 391.0}\n",
    "quotations = pd.Series(data=stocks)\n",
    "```\n",
    "Dodaj dwa elementy:\n",
    "* indeks: BBT, wartość: 25.5\n",
    "* indeks: F51, wartość: 19.2\n",
    "\n",
    "__Oczekiwany wynik:__\n",
    "\n",
    "\n",
    "```\n",
    "PLW    387.0\n",
    "CDR    339.5\n",
    "TEN    349.5\n",
    "11B    391.0\n",
    "BBT     25.5\n",
    "F51     19.2\n",
    "dtype: float64\n",
    "```\n",
    "\n",
    "\n"
   ]
  },
  {
   "cell_type": "code",
   "execution_count": 73,
   "metadata": {},
   "outputs": [],
   "source": [
    "stocks = {'PLW': 387.00, 'CDR': 339.5, 'TEN': 349.5, '11B': 391.0}\n",
    "quotations = pd.Series(data=stocks)"
   ]
  },
  {
   "cell_type": "code",
   "execution_count": 50,
   "metadata": {},
   "outputs": [
    {
     "data": {
      "text/plain": [
       "PLW    387.0\n",
       "CDR    339.5\n",
       "TEN    349.5\n",
       "11B    391.0\n",
       "dtype: float64"
      ]
     },
     "execution_count": 50,
     "metadata": {},
     "output_type": "execute_result"
    }
   ],
   "source": [
    "quotations"
   ]
  },
  {
   "cell_type": "code",
   "execution_count": 53,
   "metadata": {},
   "outputs": [],
   "source": [
    "quotations['BBT'] = 25.5"
   ]
  },
  {
   "cell_type": "code",
   "execution_count": 54,
   "metadata": {},
   "outputs": [
    {
     "data": {
      "text/plain": [
       "PLW    387.0\n",
       "CDR    339.5\n",
       "TEN    349.5\n",
       "11B    391.0\n",
       "BBT     25.5\n",
       "dtype: float64"
      ]
     },
     "execution_count": 54,
     "metadata": {},
     "output_type": "execute_result"
    }
   ],
   "source": [
    "quotations"
   ]
  },
  {
   "cell_type": "code",
   "execution_count": 55,
   "metadata": {},
   "outputs": [],
   "source": [
    "quotations['BBT'] = 397.0"
   ]
  },
  {
   "cell_type": "code",
   "execution_count": 74,
   "metadata": {},
   "outputs": [
    {
     "data": {
      "text/plain": [
       "PLW    387.0\n",
       "CDR    339.5\n",
       "TEN    349.5\n",
       "11B    391.0\n",
       "dtype: float64"
      ]
     },
     "execution_count": 74,
     "metadata": {},
     "output_type": "execute_result"
    }
   ],
   "source": [
    "quotations"
   ]
  },
  {
   "cell_type": "code",
   "execution_count": 75,
   "metadata": {
    "id": "ujz9ReTUHGeQ"
   },
   "outputs": [],
   "source": [
    "quotations['BBT'] = 25.5\n",
    "quotations['F51'] = 19.2"
   ]
  },
  {
   "cell_type": "code",
   "execution_count": 76,
   "metadata": {},
   "outputs": [
    {
     "data": {
      "text/plain": [
       "PLW    387.0\n",
       "CDR    339.5\n",
       "TEN    349.5\n",
       "11B    391.0\n",
       "BBT     25.5\n",
       "F51     19.2\n",
       "dtype: float64"
      ]
     },
     "execution_count": 76,
     "metadata": {},
     "output_type": "execute_result"
    }
   ],
   "source": [
    "quotations"
   ]
  },
  {
   "cell_type": "markdown",
   "metadata": {
    "id": "TXUd_4631-gw"
   },
   "source": [
    "### <a name='8'></a> Ćwiczenie 108\n",
    "Obiekt _quotations_ z poprzedniego ćwiczenia przekształć do obiektu typu _DataFrame_. Zresetuj indeks i nadaj nazwy kolumn '_ticker_' oraz _'price'_."
   ]
  },
  {
   "cell_type": "code",
   "execution_count": 65,
   "metadata": {},
   "outputs": [
    {
     "data": {
      "text/html": [
       "<div>\n",
       "<style scoped>\n",
       "    .dataframe tbody tr th:only-of-type {\n",
       "        vertical-align: middle;\n",
       "    }\n",
       "\n",
       "    .dataframe tbody tr th {\n",
       "        vertical-align: top;\n",
       "    }\n",
       "\n",
       "    .dataframe thead th {\n",
       "        text-align: right;\n",
       "    }\n",
       "</style>\n",
       "<table border=\"1\" class=\"dataframe\">\n",
       "  <thead>\n",
       "    <tr style=\"text-align: right;\">\n",
       "      <th></th>\n",
       "      <th>0</th>\n",
       "    </tr>\n",
       "  </thead>\n",
       "  <tbody>\n",
       "    <tr>\n",
       "      <th>PLW</th>\n",
       "      <td>387.0</td>\n",
       "    </tr>\n",
       "    <tr>\n",
       "      <th>CDR</th>\n",
       "      <td>339.5</td>\n",
       "    </tr>\n",
       "    <tr>\n",
       "      <th>TEN</th>\n",
       "      <td>349.5</td>\n",
       "    </tr>\n",
       "    <tr>\n",
       "      <th>11B</th>\n",
       "      <td>391.0</td>\n",
       "    </tr>\n",
       "    <tr>\n",
       "      <th>BBT</th>\n",
       "      <td>25.5</td>\n",
       "    </tr>\n",
       "    <tr>\n",
       "      <th>F51</th>\n",
       "      <td>19.2</td>\n",
       "    </tr>\n",
       "  </tbody>\n",
       "</table>\n",
       "</div>"
      ],
      "text/plain": [
       "         0\n",
       "PLW  387.0\n",
       "CDR  339.5\n",
       "TEN  349.5\n",
       "11B  391.0\n",
       "BBT   25.5\n",
       "F51   19.2"
      ]
     },
     "execution_count": 65,
     "metadata": {},
     "output_type": "execute_result"
    }
   ],
   "source": [
    "quotations"
   ]
  },
  {
   "cell_type": "code",
   "execution_count": 77,
   "metadata": {
    "id": "hthuSwq4IX9w"
   },
   "outputs": [
    {
     "data": {
      "text/html": [
       "<div>\n",
       "<style scoped>\n",
       "    .dataframe tbody tr th:only-of-type {\n",
       "        vertical-align: middle;\n",
       "    }\n",
       "\n",
       "    .dataframe tbody tr th {\n",
       "        vertical-align: top;\n",
       "    }\n",
       "\n",
       "    .dataframe thead th {\n",
       "        text-align: right;\n",
       "    }\n",
       "</style>\n",
       "<table border=\"1\" class=\"dataframe\">\n",
       "  <thead>\n",
       "    <tr style=\"text-align: right;\">\n",
       "      <th></th>\n",
       "      <th>ticker</th>\n",
       "      <th>price</th>\n",
       "    </tr>\n",
       "  </thead>\n",
       "  <tbody>\n",
       "    <tr>\n",
       "      <th>0</th>\n",
       "      <td>PLW</td>\n",
       "      <td>387.0</td>\n",
       "    </tr>\n",
       "    <tr>\n",
       "      <th>1</th>\n",
       "      <td>CDR</td>\n",
       "      <td>339.5</td>\n",
       "    </tr>\n",
       "    <tr>\n",
       "      <th>2</th>\n",
       "      <td>TEN</td>\n",
       "      <td>349.5</td>\n",
       "    </tr>\n",
       "    <tr>\n",
       "      <th>3</th>\n",
       "      <td>11B</td>\n",
       "      <td>391.0</td>\n",
       "    </tr>\n",
       "    <tr>\n",
       "      <th>4</th>\n",
       "      <td>BBT</td>\n",
       "      <td>25.5</td>\n",
       "    </tr>\n",
       "    <tr>\n",
       "      <th>5</th>\n",
       "      <td>F51</td>\n",
       "      <td>19.2</td>\n",
       "    </tr>\n",
       "  </tbody>\n",
       "</table>\n",
       "</div>"
      ],
      "text/plain": [
       "  ticker  price\n",
       "0    PLW  387.0\n",
       "1    CDR  339.5\n",
       "2    TEN  349.5\n",
       "3    11B  391.0\n",
       "4    BBT   25.5\n",
       "5    F51   19.2"
      ]
     },
     "execution_count": 77,
     "metadata": {},
     "output_type": "execute_result"
    }
   ],
   "source": [
    "quotations = pd.DataFrame(quotations)\n",
    "quotations.reset_index(inplace=True)\n",
    "quotations.columns = ['ticker', 'price']\n",
    "quotations"
   ]
  },
  {
   "cell_type": "code",
   "execution_count": 86,
   "metadata": {},
   "outputs": [],
   "source": [
    "quotations.reset_index(inplace=True)"
   ]
  },
  {
   "cell_type": "code",
   "execution_count": 89,
   "metadata": {},
   "outputs": [
    {
     "data": {
      "text/html": [
       "<div>\n",
       "<style scoped>\n",
       "    .dataframe tbody tr th:only-of-type {\n",
       "        vertical-align: middle;\n",
       "    }\n",
       "\n",
       "    .dataframe tbody tr th {\n",
       "        vertical-align: top;\n",
       "    }\n",
       "\n",
       "    .dataframe thead th {\n",
       "        text-align: right;\n",
       "    }\n",
       "</style>\n",
       "<table border=\"1\" class=\"dataframe\">\n",
       "  <thead>\n",
       "    <tr style=\"text-align: right;\">\n",
       "      <th></th>\n",
       "      <th>ticker</th>\n",
       "      <th>price</th>\n",
       "    </tr>\n",
       "  </thead>\n",
       "  <tbody>\n",
       "    <tr>\n",
       "      <th>0</th>\n",
       "      <td>PLW</td>\n",
       "      <td>387.0</td>\n",
       "    </tr>\n",
       "    <tr>\n",
       "      <th>1</th>\n",
       "      <td>CDR</td>\n",
       "      <td>339.5</td>\n",
       "    </tr>\n",
       "    <tr>\n",
       "      <th>2</th>\n",
       "      <td>TEN</td>\n",
       "      <td>349.5</td>\n",
       "    </tr>\n",
       "    <tr>\n",
       "      <th>3</th>\n",
       "      <td>11B</td>\n",
       "      <td>391.0</td>\n",
       "    </tr>\n",
       "    <tr>\n",
       "      <th>4</th>\n",
       "      <td>BBT</td>\n",
       "      <td>25.5</td>\n",
       "    </tr>\n",
       "    <tr>\n",
       "      <th>5</th>\n",
       "      <td>F51</td>\n",
       "      <td>19.2</td>\n",
       "    </tr>\n",
       "  </tbody>\n",
       "</table>\n",
       "</div>"
      ],
      "text/plain": [
       "  ticker  price\n",
       "0    PLW  387.0\n",
       "1    CDR  339.5\n",
       "2    TEN  349.5\n",
       "3    11B  391.0\n",
       "4    BBT   25.5\n",
       "5    F51   19.2"
      ]
     },
     "execution_count": 89,
     "metadata": {},
     "output_type": "execute_result"
    }
   ],
   "source": [
    "quotations"
   ]
  },
  {
   "cell_type": "code",
   "execution_count": 88,
   "metadata": {},
   "outputs": [],
   "source": [
    "del quotations['index']"
   ]
  },
  {
   "cell_type": "code",
   "execution_count": 37,
   "metadata": {},
   "outputs": [],
   "source": [
    "#del quotations['level_0']"
   ]
  },
  {
   "cell_type": "markdown",
   "metadata": {
    "id": "tgI6xEn-2AQo"
   },
   "source": [
    "### <a name='9'></a> Ćwiczenie 109\n",
    "Zbuduj poniższy obiekt _DataFrame_ i przypisz do zmiennej _companies_:\n",
    "\n",
    "|    | company   |   price | ticker   |\n",
    "|---:|:----------|--------:|:---------|\n",
    "|  0 | Amazon    |  2375   | AMZN.US  |\n",
    "|  1 | Microsoft |   178.6 | MSFT.US  |\n",
    "|  2 | Facebook  |   179.2 | FB.US    |\n",
    "\n",
    "\n",
    "\n"
   ]
  },
  {
   "cell_type": "code",
   "execution_count": 40,
   "metadata": {
    "id": "PjdpHMVMLRjb"
   },
   "outputs": [
    {
     "data": {
      "text/html": [
       "<div>\n",
       "<style scoped>\n",
       "    .dataframe tbody tr th:only-of-type {\n",
       "        vertical-align: middle;\n",
       "    }\n",
       "\n",
       "    .dataframe tbody tr th {\n",
       "        vertical-align: top;\n",
       "    }\n",
       "\n",
       "    .dataframe thead th {\n",
       "        text-align: right;\n",
       "    }\n",
       "</style>\n",
       "<table border=\"1\" class=\"dataframe\">\n",
       "  <thead>\n",
       "    <tr style=\"text-align: right;\">\n",
       "      <th></th>\n",
       "      <th>company</th>\n",
       "      <th>price</th>\n",
       "      <th>ticker</th>\n",
       "    </tr>\n",
       "  </thead>\n",
       "  <tbody>\n",
       "    <tr>\n",
       "      <th>0</th>\n",
       "      <td>Amazon</td>\n",
       "      <td>2375.0</td>\n",
       "      <td>AMZN.US</td>\n",
       "    </tr>\n",
       "    <tr>\n",
       "      <th>1</th>\n",
       "      <td>Microsoft</td>\n",
       "      <td>178.6</td>\n",
       "      <td>MSFT.US</td>\n",
       "    </tr>\n",
       "    <tr>\n",
       "      <th>2</th>\n",
       "      <td>Facebook</td>\n",
       "      <td>179.2</td>\n",
       "      <td>FB.US</td>\n",
       "    </tr>\n",
       "  </tbody>\n",
       "</table>\n",
       "</div>"
      ],
      "text/plain": [
       "     company   price   ticker\n",
       "0     Amazon  2375.0  AMZN.US\n",
       "1  Microsoft   178.6  MSFT.US\n",
       "2   Facebook   179.2    FB.US"
      ]
     },
     "execution_count": 40,
     "metadata": {},
     "output_type": "execute_result"
    }
   ],
   "source": [
    "data_dict = {\n",
    "    'company': ['Amazon', 'Microsoft', 'Facebook'],\n",
    "    'price': [2375.00, 178.6, 179.2],\n",
    "    'ticker': ['AMZN.US', 'MSFT.US', 'FB.US']\n",
    "}\n",
    "\n",
    "companies = pd.DataFrame(data=data_dict)\n",
    "companies"
   ]
  },
  {
   "cell_type": "markdown",
   "metadata": {
    "id": "wxhpf-uq2B1I"
   },
   "source": [
    "### <a name='10'></a> Ćwiczenie 110\n",
    "Przekształć pierwszą kolumnę obiektu _companies_ w indeks."
   ]
  },
  {
   "cell_type": "code",
   "execution_count": 41,
   "metadata": {
    "id": "YFc0KW6URsuc"
   },
   "outputs": [
    {
     "data": {
      "text/html": [
       "<div>\n",
       "<style scoped>\n",
       "    .dataframe tbody tr th:only-of-type {\n",
       "        vertical-align: middle;\n",
       "    }\n",
       "\n",
       "    .dataframe tbody tr th {\n",
       "        vertical-align: top;\n",
       "    }\n",
       "\n",
       "    .dataframe thead th {\n",
       "        text-align: right;\n",
       "    }\n",
       "</style>\n",
       "<table border=\"1\" class=\"dataframe\">\n",
       "  <thead>\n",
       "    <tr style=\"text-align: right;\">\n",
       "      <th></th>\n",
       "      <th>price</th>\n",
       "      <th>ticker</th>\n",
       "    </tr>\n",
       "    <tr>\n",
       "      <th>company</th>\n",
       "      <th></th>\n",
       "      <th></th>\n",
       "    </tr>\n",
       "  </thead>\n",
       "  <tbody>\n",
       "    <tr>\n",
       "      <th>Amazon</th>\n",
       "      <td>2375.0</td>\n",
       "      <td>AMZN.US</td>\n",
       "    </tr>\n",
       "    <tr>\n",
       "      <th>Microsoft</th>\n",
       "      <td>178.6</td>\n",
       "      <td>MSFT.US</td>\n",
       "    </tr>\n",
       "    <tr>\n",
       "      <th>Facebook</th>\n",
       "      <td>179.2</td>\n",
       "      <td>FB.US</td>\n",
       "    </tr>\n",
       "  </tbody>\n",
       "</table>\n",
       "</div>"
      ],
      "text/plain": [
       "            price   ticker\n",
       "company                   \n",
       "Amazon     2375.0  AMZN.US\n",
       "Microsoft   178.6  MSFT.US\n",
       "Facebook    179.2    FB.US"
      ]
     },
     "execution_count": 41,
     "metadata": {},
     "output_type": "execute_result"
    }
   ],
   "source": [
    "companies = companies.set_index('company')\n",
    "companies"
   ]
  },
  {
   "cell_type": "markdown",
   "metadata": {
    "id": "HqlVvbOFNkOM"
   },
   "source": [
    "Wytnij wiersz dla spółki _Facebook_ z obiektu _companies_."
   ]
  },
  {
   "cell_type": "code",
   "execution_count": 42,
   "metadata": {
    "id": "62A931aoNEDO"
   },
   "outputs": [
    {
     "data": {
      "text/plain": [
       "price     179.2\n",
       "ticker    FB.US\n",
       "Name: Facebook, dtype: object"
      ]
     },
     "execution_count": 42,
     "metadata": {},
     "output_type": "execute_result"
    }
   ],
   "source": [
    "# Rozwiązanie 1\n",
    "companies.loc['Facebook']"
   ]
  },
  {
   "cell_type": "code",
   "execution_count": 43,
   "metadata": {},
   "outputs": [
    {
     "data": {
      "text/plain": [
       "price     179.2\n",
       "ticker    FB.US\n",
       "Name: Facebook, dtype: object"
      ]
     },
     "execution_count": 43,
     "metadata": {},
     "output_type": "execute_result"
    }
   ],
   "source": [
    "# Rozwiązanie 2\n",
    "companies.iloc[2]"
   ]
  },
  {
   "cell_type": "markdown",
   "metadata": {
    "id": "mu_Kav5POAO0"
   },
   "source": [
    "Wytnij cenę dla spółki _Microsoft_"
   ]
  },
  {
   "cell_type": "code",
   "execution_count": 44,
   "metadata": {
    "id": "m180ZDfuNjVN"
   },
   "outputs": [
    {
     "data": {
      "text/plain": [
       "np.float64(178.6)"
      ]
     },
     "execution_count": 44,
     "metadata": {},
     "output_type": "execute_result"
    }
   ],
   "source": [
    "# Rozwiązanie 1\n",
    "companies.loc['Microsoft', 'price']"
   ]
  },
  {
   "cell_type": "code",
   "execution_count": 48,
   "metadata": {},
   "outputs": [
    {
     "data": {
      "text/plain": [
       "np.float64(178.6)"
      ]
     },
     "execution_count": 48,
     "metadata": {},
     "output_type": "execute_result"
    }
   ],
   "source": [
    "# Rozwiązanie 2\n",
    "companies.loc['Microsoft']['price']"
   ]
  }
 ],
 "metadata": {
  "colab": {
   "provenance": []
  },
  "kernelspec": {
   "display_name": "env_conda_3_12_7",
   "language": "python",
   "name": "env_conda_3_12_7"
  },
  "language_info": {
   "codemirror_mode": {
    "name": "ipython",
    "version": 3
   },
   "file_extension": ".py",
   "mimetype": "text/x-python",
   "name": "python",
   "nbconvert_exporter": "python",
   "pygments_lexer": "ipython3",
   "version": "3.12.7"
  }
 },
 "nbformat": 4,
 "nbformat_minor": 4
}
