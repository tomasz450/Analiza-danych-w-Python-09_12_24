{
 "cells": [
  {
   "cell_type": "markdown",
   "metadata": {
    "id": "zeLOLmTj1kBM"
   },
   "source": [
    "### <a name='0'></a>Import biblioteki"
   ]
  },
  {
   "cell_type": "code",
   "execution_count": 6,
   "metadata": {
    "id": "HXMB7SMe1Wnz"
   },
   "outputs": [
    {
     "data": {
      "text/plain": [
       "'2.2.3'"
      ]
     },
     "execution_count": 6,
     "metadata": {},
     "output_type": "execute_result"
    }
   ],
   "source": [
    "import numpy as np\n",
    "import pandas as pd\n",
    "\n",
    "np.random.seed(42)\n",
    "pd.__version__"
   ]
  },
  {
   "cell_type": "markdown",
   "metadata": {
    "id": "cyc70pMe1oCg"
   },
   "source": [
    "### <a name='1'></a> Ćwiczenie 111\n",
    "Zbuduj obiekt _DatetimeIndex_ zawierający daty w formacie 'yyyy-mm-dd' dla wszystkich dni ze stycznia 2024 roku i przypisz do zmiennej _date_range_.\n",
    "\n",
    "__Oczekiwany wynik:__\n",
    "\n",
    "\n",
    "```\n",
    "DatetimeIndex(['2024-01-01', '2024-01-02', '2024-01-03', '2024-01-04',\n",
    "               '2024-01-05', '2024-01-06', '2024-01-07', '2024-01-08',\n",
    "               '2024-01-09', '2024-01-10', '2024-01-11', '2024-01-12',\n",
    "               '2024-01-13', '2024-01-14', '2024-01-15', '2024-01-16',\n",
    "               '2024-01-17', '2024-01-18', '2024-01-19', '2024-01-20',\n",
    "               '2024-01-21', '2024-01-22', '2024-01-23', '2024-01-24',\n",
    "               '2024-01-25', '2024-01-26', '2024-01-27', '2024-01-28',\n",
    "               '2024-01-29', '2024-01-30', '2024-01-31'],\n",
    "              dtype='datetime64[ns]', freq='D')\n",
    "```\n",
    "\n"
   ]
  },
  {
   "cell_type": "code",
   "execution_count": 3,
   "metadata": {
    "id": "-Fktzi-m6jA8"
   },
   "outputs": [
    {
     "data": {
      "text/plain": [
       "DatetimeIndex(['2024-01-01', '2024-01-02', '2024-01-03', '2024-01-04',\n",
       "               '2024-01-05', '2024-01-06', '2024-01-07', '2024-01-08',\n",
       "               '2024-01-09', '2024-01-10', '2024-01-11', '2024-01-12',\n",
       "               '2024-01-13', '2024-01-14', '2024-01-15', '2024-01-16',\n",
       "               '2024-01-17', '2024-01-18', '2024-01-19', '2024-01-20',\n",
       "               '2024-01-21', '2024-01-22', '2024-01-23', '2024-01-24',\n",
       "               '2024-01-25', '2024-01-26', '2024-01-27', '2024-01-28',\n",
       "               '2024-01-29', '2024-01-30', '2024-01-31'],\n",
       "              dtype='datetime64[ns]', freq='D')"
      ]
     },
     "execution_count": 3,
     "metadata": {},
     "output_type": "execute_result"
    }
   ],
   "source": [
    "# Rozwiązanie 1\n",
    "date_range = pd.date_range(start='2024-01-01', periods=31)\n",
    "date_range"
   ]
  },
  {
   "cell_type": "code",
   "execution_count": 4,
   "metadata": {},
   "outputs": [
    {
     "data": {
      "text/plain": [
       "DatetimeIndex(['2024-01-01', '2024-01-02', '2024-01-03', '2024-01-04',\n",
       "               '2024-01-05', '2024-01-06', '2024-01-07', '2024-01-08',\n",
       "               '2024-01-09', '2024-01-10', '2024-01-11', '2024-01-12',\n",
       "               '2024-01-13', '2024-01-14', '2024-01-15', '2024-01-16',\n",
       "               '2024-01-17', '2024-01-18', '2024-01-19', '2024-01-20',\n",
       "               '2024-01-21', '2024-01-22', '2024-01-23', '2024-01-24',\n",
       "               '2024-01-25', '2024-01-26', '2024-01-27', '2024-01-28',\n",
       "               '2024-01-29', '2024-01-30', '2024-01-31'],\n",
       "              dtype='datetime64[ns]', freq='D')"
      ]
     },
     "execution_count": 4,
     "metadata": {},
     "output_type": "execute_result"
    }
   ],
   "source": [
    "# Rozwiązanie 2\n",
    "date_range = pd.date_range(start='2024-01-01', end='2024-01-31')\n",
    "date_range"
   ]
  },
  {
   "cell_type": "markdown",
   "metadata": {
    "id": "-b7YtggN7yNA"
   },
   "source": [
    "Ze zmiennej _date_range_ zbuduj obiekt typu _Series_."
   ]
  },
  {
   "cell_type": "code",
   "execution_count": 6,
   "metadata": {
    "id": "o8Gx9s5m7imi"
   },
   "outputs": [
    {
     "data": {
      "text/plain": [
       "0    2024-01-01\n",
       "1    2024-01-02\n",
       "2    2024-01-03\n",
       "3    2024-01-04\n",
       "4    2024-01-05\n",
       "5    2024-01-06\n",
       "6    2024-01-07\n",
       "7    2024-01-08\n",
       "8    2024-01-09\n",
       "9    2024-01-10\n",
       "10   2024-01-11\n",
       "11   2024-01-12\n",
       "12   2024-01-13\n",
       "13   2024-01-14\n",
       "14   2024-01-15\n",
       "15   2024-01-16\n",
       "16   2024-01-17\n",
       "17   2024-01-18\n",
       "18   2024-01-19\n",
       "19   2024-01-20\n",
       "20   2024-01-21\n",
       "21   2024-01-22\n",
       "22   2024-01-23\n",
       "23   2024-01-24\n",
       "24   2024-01-25\n",
       "25   2024-01-26\n",
       "26   2024-01-27\n",
       "27   2024-01-28\n",
       "28   2024-01-29\n",
       "29   2024-01-30\n",
       "30   2024-01-31\n",
       "dtype: datetime64[ns]"
      ]
     },
     "execution_count": 6,
     "metadata": {},
     "output_type": "execute_result"
    }
   ],
   "source": [
    "pd.Series(date_range)"
   ]
  },
  {
   "cell_type": "markdown",
   "metadata": {
    "id": "J9pY1rtr1sC0"
   },
   "source": [
    "### <a name='2'></a> Ćwiczenie 112\n",
    "Zbuduj obiekt _DatetimeIndex_ zawierający daty w formacie 'yyyy-mm-dd' dla wszystkich poniedziałków z 2024 roku i przypisz do zmiennej _date_range_."
   ]
  },
  {
   "cell_type": "code",
   "execution_count": 7,
   "metadata": {
    "id": "9pgIpf0M5L9S"
   },
   "outputs": [
    {
     "data": {
      "text/plain": [
       "DatetimeIndex(['2024-01-01', '2024-01-08', '2024-01-15', '2024-01-22',\n",
       "               '2024-01-29', '2024-02-05', '2024-02-12', '2024-02-19',\n",
       "               '2024-02-26', '2024-03-04', '2024-03-11', '2024-03-18',\n",
       "               '2024-03-25', '2024-04-01', '2024-04-08', '2024-04-15',\n",
       "               '2024-04-22', '2024-04-29', '2024-05-06', '2024-05-13',\n",
       "               '2024-05-20', '2024-05-27', '2024-06-03', '2024-06-10',\n",
       "               '2024-06-17', '2024-06-24', '2024-07-01', '2024-07-08',\n",
       "               '2024-07-15', '2024-07-22', '2024-07-29', '2024-08-05',\n",
       "               '2024-08-12', '2024-08-19', '2024-08-26', '2024-09-02',\n",
       "               '2024-09-09', '2024-09-16', '2024-09-23', '2024-09-30',\n",
       "               '2024-10-07', '2024-10-14', '2024-10-21', '2024-10-28',\n",
       "               '2024-11-04', '2024-11-11', '2024-11-18', '2024-11-25',\n",
       "               '2024-12-02', '2024-12-09', '2024-12-16', '2024-12-23'],\n",
       "              dtype='datetime64[ns]', freq='W-MON')"
      ]
     },
     "execution_count": 7,
     "metadata": {},
     "output_type": "execute_result"
    }
   ],
   "source": [
    "# Rozwiązanie 1 - takie sobie :)\n",
    "date_range = pd.date_range(start='2024-01-01', periods=52, freq='W-MON')\n",
    "date_range"
   ]
  },
  {
   "cell_type": "code",
   "execution_count": 8,
   "metadata": {},
   "outputs": [
    {
     "data": {
      "text/plain": [
       "DatetimeIndex(['2024-01-01', '2024-01-08', '2024-01-15', '2024-01-22',\n",
       "               '2024-01-29', '2024-02-05', '2024-02-12', '2024-02-19',\n",
       "               '2024-02-26', '2024-03-04', '2024-03-11', '2024-03-18',\n",
       "               '2024-03-25', '2024-04-01', '2024-04-08', '2024-04-15',\n",
       "               '2024-04-22', '2024-04-29', '2024-05-06', '2024-05-13',\n",
       "               '2024-05-20', '2024-05-27', '2024-06-03', '2024-06-10',\n",
       "               '2024-06-17', '2024-06-24', '2024-07-01', '2024-07-08',\n",
       "               '2024-07-15', '2024-07-22', '2024-07-29', '2024-08-05',\n",
       "               '2024-08-12', '2024-08-19', '2024-08-26', '2024-09-02',\n",
       "               '2024-09-09', '2024-09-16', '2024-09-23', '2024-09-30',\n",
       "               '2024-10-07', '2024-10-14', '2024-10-21', '2024-10-28',\n",
       "               '2024-11-04', '2024-11-11', '2024-11-18', '2024-11-25',\n",
       "               '2024-12-02', '2024-12-09', '2024-12-16', '2024-12-23',\n",
       "               '2024-12-30'],\n",
       "              dtype='datetime64[ns]', freq='W-MON')"
      ]
     },
     "execution_count": 8,
     "metadata": {},
     "output_type": "execute_result"
    }
   ],
   "source": [
    "# Rozwiązanie 2\n",
    "date_range = pd.date_range(start='2024-01-01', end='2024-12-31', freq='W-MON')\n",
    "date_range"
   ]
  },
  {
   "cell_type": "markdown",
   "metadata": {},
   "source": [
    "### :)"
   ]
  },
  {
   "cell_type": "code",
   "execution_count": 10,
   "metadata": {},
   "outputs": [
    {
     "data": {
      "text/plain": [
       "2020-01-01    Wed\n",
       "2020-01-02    Thu\n",
       "2020-01-03    Fri\n",
       "2020-01-04    Sat\n",
       "2020-01-05    Sun\n",
       "             ... \n",
       "2020-12-27    Sun\n",
       "2020-12-28    Mon\n",
       "2020-12-29    Tue\n",
       "2020-12-30    Wed\n",
       "2020-12-31    Thu\n",
       "Length: 366, dtype: object"
      ]
     },
     "execution_count": 10,
     "metadata": {},
     "output_type": "execute_result"
    }
   ],
   "source": [
    "data_1 = pd.Timestamp('2020-01-01')\n",
    "data_2 = pd.Timestamp('2020-12-31')\n",
    "date_range = pd.Series(data=pd.date_range(start=data_1,end=data_2, periods = (data_2 - data_1).days +1).strftime('%a'), index=pd.date_range(start=data_1,end=data_2).strftime('%Y-%m-%d'))\n",
    "date_range"
   ]
  },
  {
   "cell_type": "markdown",
   "metadata": {
    "id": "XQLYT2m11wVG"
   },
   "source": [
    "### <a name='3'></a> Ćwiczenie 113\n",
    "Zbuduj obiekt _DatetimeIndex_ zawierający daty w formacie 'yyyy-mm-dd hh:mm:ss' dla 1 stycznia 2021 roku z odstępem czasowym 1h i przypisz do zmiennej _date_range_.\n",
    "\n",
    "__Oczekiwany wynik:__\n",
    "\n",
    "\n",
    "```\n",
    "DatetimeIndex(['2024-01-01 00:00:00', '2024-01-01 01:00:00',\n",
    "               '2024-01-01 02:00:00', '2024-01-01 03:00:00',\n",
    "               '2024-01-01 04:00:00', '2024-01-01 05:00:00',\n",
    "               '2024-01-01 06:00:00', '2024-01-01 07:00:00',\n",
    "               '2024-01-01 08:00:00', '2024-01-01 09:00:00',\n",
    "               '2024-01-01 10:00:00', '2024-01-01 11:00:00',\n",
    "               '2024-01-01 12:00:00', '2024-01-01 13:00:00',\n",
    "               '2024-01-01 14:00:00', '2024-01-01 15:00:00',\n",
    "               '2024-01-01 16:00:00', '2024-01-01 17:00:00',\n",
    "               '2024-01-01 18:00:00', '2024-01-01 19:00:00',\n",
    "               '2024-01-01 20:00:00', '2024-01-01 21:00:00',\n",
    "               '2024-01-01 22:00:00', '2024-01-01 23:00:00'],\n",
    "              dtype='datetime64[ns]', freq='H')\n",
    "```\n",
    "\n"
   ]
  },
  {
   "cell_type": "code",
   "execution_count": 12,
   "metadata": {},
   "outputs": [
    {
     "data": {
      "text/plain": [
       "DatetimeIndex(['2024-01-01 00:00:00', '2024-01-01 01:00:00',\n",
       "               '2024-01-01 02:00:00', '2024-01-01 03:00:00',\n",
       "               '2024-01-01 04:00:00', '2024-01-01 05:00:00',\n",
       "               '2024-01-01 06:00:00', '2024-01-01 07:00:00',\n",
       "               '2024-01-01 08:00:00', '2024-01-01 09:00:00',\n",
       "               ...\n",
       "               '2024-01-30 15:00:00', '2024-01-30 16:00:00',\n",
       "               '2024-01-30 17:00:00', '2024-01-30 18:00:00',\n",
       "               '2024-01-30 19:00:00', '2024-01-30 20:00:00',\n",
       "               '2024-01-30 21:00:00', '2024-01-30 22:00:00',\n",
       "               '2024-01-30 23:00:00', '2024-01-31 00:00:00'],\n",
       "              dtype='datetime64[ns]', length=721, freq='H')"
      ]
     },
     "execution_count": 12,
     "metadata": {},
     "output_type": "execute_result"
    }
   ],
   "source": [
    "# Rozwiązanie 1\n",
    "date_range = pd.date_range(start='2024-01-01', end='2024-01-31', freq='H')\n",
    "date_range"
   ]
  },
  {
   "cell_type": "code",
   "execution_count": null,
   "metadata": {},
   "outputs": [],
   "source": []
  },
  {
   "cell_type": "markdown",
   "metadata": {
    "id": "4xTKSUzg10MK"
   },
   "source": [
    "### <a name='4'></a> Ćwiczenie 114\n",
    "Zbuduj poniższy obiekt _DataFrame_.\n",
    "\n",
    "__Wskazówki:__ Kolumna _day_ zawiera daty od 01 marca 2024 do 31 marca 2024. Kolumna _day_of_year_ to numer dnia w całym roku.\n",
    "\n",
    "\n",
    "```\n",
    "      day\t       day_of_year\n",
    "0\t2024-03-01\t61\n",
    "1\t2024-03-02\t62\n",
    "2\t2024-03-03\t63\n",
    "3\t2024-03-04\t64\n",
    "4\t2024-03-05\t65\n",
    "5\t2024-03-06\t66\n",
    "6\t2024-03-07\t67\n",
    "7\t2024-03-08\t68\n",
    "8\t2024-03-09\t69\n",
    "9\t2024-03-10\t70\n",
    "10\t2024-03-11\t71\n",
    "11\t2024-03-12\t72\n",
    "12\t2024-03-13\t73\n",
    "13\t2024-03-14\t74\n",
    "14\t2024-03-15\t75\n",
    "15\t2024-03-16\t76\n",
    "16\t2024-03-17\t77\n",
    "17\t2024-03-18\t78\n",
    "18\t2024-03-19\t79\n",
    "19\t2024-03-20\t80\n",
    "20\t2024-03-21\t81\n",
    "21\t2024-03-22\t82\n",
    "22\t2024-03-23\t83\n",
    "23\t2024-03-24\t84\n",
    "24\t2024-03-25\t85\n",
    "25\t2024-03-26\t86\n",
    "26\t2024-03-27\t87\n",
    "27\t2024-03-28\t88\n",
    "28\t2024-03-29\t89\n",
    "29\t2024-03-30\t90\n",
    "30\t2024-03-31\t91\n",
    "```\n",
    "\n"
   ]
  },
  {
   "cell_type": "code",
   "execution_count": 13,
   "metadata": {
    "id": "YIWI3YTN_J5E"
   },
   "outputs": [
    {
     "data": {
      "text/html": [
       "<div>\n",
       "<style scoped>\n",
       "    .dataframe tbody tr th:only-of-type {\n",
       "        vertical-align: middle;\n",
       "    }\n",
       "\n",
       "    .dataframe tbody tr th {\n",
       "        vertical-align: top;\n",
       "    }\n",
       "\n",
       "    .dataframe thead th {\n",
       "        text-align: right;\n",
       "    }\n",
       "</style>\n",
       "<table border=\"1\" class=\"dataframe\">\n",
       "  <thead>\n",
       "    <tr style=\"text-align: right;\">\n",
       "      <th></th>\n",
       "      <th>day</th>\n",
       "      <th>day_of_year</th>\n",
       "    </tr>\n",
       "  </thead>\n",
       "  <tbody>\n",
       "    <tr>\n",
       "      <th>0</th>\n",
       "      <td>2024-03-01</td>\n",
       "      <td>61</td>\n",
       "    </tr>\n",
       "    <tr>\n",
       "      <th>1</th>\n",
       "      <td>2024-03-02</td>\n",
       "      <td>62</td>\n",
       "    </tr>\n",
       "    <tr>\n",
       "      <th>2</th>\n",
       "      <td>2024-03-03</td>\n",
       "      <td>63</td>\n",
       "    </tr>\n",
       "    <tr>\n",
       "      <th>3</th>\n",
       "      <td>2024-03-04</td>\n",
       "      <td>64</td>\n",
       "    </tr>\n",
       "    <tr>\n",
       "      <th>4</th>\n",
       "      <td>2024-03-05</td>\n",
       "      <td>65</td>\n",
       "    </tr>\n",
       "    <tr>\n",
       "      <th>5</th>\n",
       "      <td>2024-03-06</td>\n",
       "      <td>66</td>\n",
       "    </tr>\n",
       "    <tr>\n",
       "      <th>6</th>\n",
       "      <td>2024-03-07</td>\n",
       "      <td>67</td>\n",
       "    </tr>\n",
       "    <tr>\n",
       "      <th>7</th>\n",
       "      <td>2024-03-08</td>\n",
       "      <td>68</td>\n",
       "    </tr>\n",
       "    <tr>\n",
       "      <th>8</th>\n",
       "      <td>2024-03-09</td>\n",
       "      <td>69</td>\n",
       "    </tr>\n",
       "    <tr>\n",
       "      <th>9</th>\n",
       "      <td>2024-03-10</td>\n",
       "      <td>70</td>\n",
       "    </tr>\n",
       "    <tr>\n",
       "      <th>10</th>\n",
       "      <td>2024-03-11</td>\n",
       "      <td>71</td>\n",
       "    </tr>\n",
       "    <tr>\n",
       "      <th>11</th>\n",
       "      <td>2024-03-12</td>\n",
       "      <td>72</td>\n",
       "    </tr>\n",
       "    <tr>\n",
       "      <th>12</th>\n",
       "      <td>2024-03-13</td>\n",
       "      <td>73</td>\n",
       "    </tr>\n",
       "    <tr>\n",
       "      <th>13</th>\n",
       "      <td>2024-03-14</td>\n",
       "      <td>74</td>\n",
       "    </tr>\n",
       "    <tr>\n",
       "      <th>14</th>\n",
       "      <td>2024-03-15</td>\n",
       "      <td>75</td>\n",
       "    </tr>\n",
       "    <tr>\n",
       "      <th>15</th>\n",
       "      <td>2024-03-16</td>\n",
       "      <td>76</td>\n",
       "    </tr>\n",
       "    <tr>\n",
       "      <th>16</th>\n",
       "      <td>2024-03-17</td>\n",
       "      <td>77</td>\n",
       "    </tr>\n",
       "    <tr>\n",
       "      <th>17</th>\n",
       "      <td>2024-03-18</td>\n",
       "      <td>78</td>\n",
       "    </tr>\n",
       "    <tr>\n",
       "      <th>18</th>\n",
       "      <td>2024-03-19</td>\n",
       "      <td>79</td>\n",
       "    </tr>\n",
       "    <tr>\n",
       "      <th>19</th>\n",
       "      <td>2024-03-20</td>\n",
       "      <td>80</td>\n",
       "    </tr>\n",
       "    <tr>\n",
       "      <th>20</th>\n",
       "      <td>2024-03-21</td>\n",
       "      <td>81</td>\n",
       "    </tr>\n",
       "    <tr>\n",
       "      <th>21</th>\n",
       "      <td>2024-03-22</td>\n",
       "      <td>82</td>\n",
       "    </tr>\n",
       "    <tr>\n",
       "      <th>22</th>\n",
       "      <td>2024-03-23</td>\n",
       "      <td>83</td>\n",
       "    </tr>\n",
       "    <tr>\n",
       "      <th>23</th>\n",
       "      <td>2024-03-24</td>\n",
       "      <td>84</td>\n",
       "    </tr>\n",
       "    <tr>\n",
       "      <th>24</th>\n",
       "      <td>2024-03-25</td>\n",
       "      <td>85</td>\n",
       "    </tr>\n",
       "    <tr>\n",
       "      <th>25</th>\n",
       "      <td>2024-03-26</td>\n",
       "      <td>86</td>\n",
       "    </tr>\n",
       "    <tr>\n",
       "      <th>26</th>\n",
       "      <td>2024-03-27</td>\n",
       "      <td>87</td>\n",
       "    </tr>\n",
       "    <tr>\n",
       "      <th>27</th>\n",
       "      <td>2024-03-28</td>\n",
       "      <td>88</td>\n",
       "    </tr>\n",
       "    <tr>\n",
       "      <th>28</th>\n",
       "      <td>2024-03-29</td>\n",
       "      <td>89</td>\n",
       "    </tr>\n",
       "    <tr>\n",
       "      <th>29</th>\n",
       "      <td>2024-03-30</td>\n",
       "      <td>90</td>\n",
       "    </tr>\n",
       "    <tr>\n",
       "      <th>30</th>\n",
       "      <td>2024-03-31</td>\n",
       "      <td>91</td>\n",
       "    </tr>\n",
       "  </tbody>\n",
       "</table>\n",
       "</div>"
      ],
      "text/plain": [
       "          day  day_of_year\n",
       "0  2024-03-01           61\n",
       "1  2024-03-02           62\n",
       "2  2024-03-03           63\n",
       "3  2024-03-04           64\n",
       "4  2024-03-05           65\n",
       "5  2024-03-06           66\n",
       "6  2024-03-07           67\n",
       "7  2024-03-08           68\n",
       "8  2024-03-09           69\n",
       "9  2024-03-10           70\n",
       "10 2024-03-11           71\n",
       "11 2024-03-12           72\n",
       "12 2024-03-13           73\n",
       "13 2024-03-14           74\n",
       "14 2024-03-15           75\n",
       "15 2024-03-16           76\n",
       "16 2024-03-17           77\n",
       "17 2024-03-18           78\n",
       "18 2024-03-19           79\n",
       "19 2024-03-20           80\n",
       "20 2024-03-21           81\n",
       "21 2024-03-22           82\n",
       "22 2024-03-23           83\n",
       "23 2024-03-24           84\n",
       "24 2024-03-25           85\n",
       "25 2024-03-26           86\n",
       "26 2024-03-27           87\n",
       "27 2024-03-28           88\n",
       "28 2024-03-29           89\n",
       "29 2024-03-30           90\n",
       "30 2024-03-31           91"
      ]
     },
     "execution_count": 13,
     "metadata": {},
     "output_type": "execute_result"
    }
   ],
   "source": [
    "date_range = pd.date_range(start='2024-03-01', periods=31)\n",
    "df = pd.DataFrame(data=date_range, columns=['day'])\n",
    "df['day_of_year'] = df['day'].dt.dayofyear\n",
    "df"
   ]
  },
  {
   "cell_type": "markdown",
   "metadata": {
    "id": "o3HKIKlP15Ro"
   },
   "source": [
    "### <a name='5'></a> Ćwiczenie 115\n",
    "\n",
    "Podany jest poniższy słownik _data_dict_.\n",
    "\n",
    "```\n",
    "data_dict = {\n",
    "    'normal': np.random.normal(loc=0, scale=1, size=1000),\n",
    "    'uniform': np.random.uniform(low=0, high=1, size=1000),\n",
    "    'binomial': np.random.binomial(n=1, p=0.2, size=1000)\n",
    "}\n",
    "```\n",
    "\n",
    "Zbuduj z tego słownika obiekt _DateFrame_. Dodatkowo jako indeks dodaj datę od 2024-01-01 i przypisz do zmiennej _df_."
   ]
  },
  {
   "cell_type": "code",
   "execution_count": 7,
   "metadata": {},
   "outputs": [],
   "source": [
    "data_dict = {\n",
    "    'normal': np.random.normal(loc=0, scale=1, size=1000),\n",
    "    'uniform': np.random.uniform(low=0, high=1, size=1000),\n",
    "    'binomial': np.random.binomial(n=1, p=0.2, size=1000)\n",
    "}"
   ]
  },
  {
   "cell_type": "code",
   "execution_count": 8,
   "metadata": {
    "id": "Wht-9DRbCzGR"
   },
   "outputs": [
    {
     "data": {
      "text/html": [
       "<div>\n",
       "<style scoped>\n",
       "    .dataframe tbody tr th:only-of-type {\n",
       "        vertical-align: middle;\n",
       "    }\n",
       "\n",
       "    .dataframe tbody tr th {\n",
       "        vertical-align: top;\n",
       "    }\n",
       "\n",
       "    .dataframe thead th {\n",
       "        text-align: right;\n",
       "    }\n",
       "</style>\n",
       "<table border=\"1\" class=\"dataframe\">\n",
       "  <thead>\n",
       "    <tr style=\"text-align: right;\">\n",
       "      <th></th>\n",
       "      <th>normal</th>\n",
       "      <th>uniform</th>\n",
       "      <th>binomial</th>\n",
       "    </tr>\n",
       "  </thead>\n",
       "  <tbody>\n",
       "    <tr>\n",
       "      <th>2024-01-01</th>\n",
       "      <td>0.496714</td>\n",
       "      <td>0.167483</td>\n",
       "      <td>0</td>\n",
       "    </tr>\n",
       "    <tr>\n",
       "      <th>2024-01-02</th>\n",
       "      <td>-0.138264</td>\n",
       "      <td>0.104568</td>\n",
       "      <td>0</td>\n",
       "    </tr>\n",
       "    <tr>\n",
       "      <th>2024-01-03</th>\n",
       "      <td>0.647689</td>\n",
       "      <td>0.636430</td>\n",
       "      <td>0</td>\n",
       "    </tr>\n",
       "    <tr>\n",
       "      <th>2024-01-04</th>\n",
       "      <td>1.523030</td>\n",
       "      <td>0.706476</td>\n",
       "      <td>0</td>\n",
       "    </tr>\n",
       "    <tr>\n",
       "      <th>2024-01-05</th>\n",
       "      <td>-0.234153</td>\n",
       "      <td>0.031586</td>\n",
       "      <td>1</td>\n",
       "    </tr>\n",
       "    <tr>\n",
       "      <th>...</th>\n",
       "      <td>...</td>\n",
       "      <td>...</td>\n",
       "      <td>...</td>\n",
       "    </tr>\n",
       "    <tr>\n",
       "      <th>2026-09-22</th>\n",
       "      <td>-0.281100</td>\n",
       "      <td>0.280683</td>\n",
       "      <td>1</td>\n",
       "    </tr>\n",
       "    <tr>\n",
       "      <th>2026-09-23</th>\n",
       "      <td>1.797687</td>\n",
       "      <td>0.206993</td>\n",
       "      <td>0</td>\n",
       "    </tr>\n",
       "    <tr>\n",
       "      <th>2026-09-24</th>\n",
       "      <td>0.640843</td>\n",
       "      <td>0.516573</td>\n",
       "      <td>0</td>\n",
       "    </tr>\n",
       "    <tr>\n",
       "      <th>2026-09-25</th>\n",
       "      <td>-0.571179</td>\n",
       "      <td>0.005506</td>\n",
       "      <td>1</td>\n",
       "    </tr>\n",
       "    <tr>\n",
       "      <th>2026-09-26</th>\n",
       "      <td>0.572583</td>\n",
       "      <td>0.007664</td>\n",
       "      <td>0</td>\n",
       "    </tr>\n",
       "  </tbody>\n",
       "</table>\n",
       "<p>1000 rows × 3 columns</p>\n",
       "</div>"
      ],
      "text/plain": [
       "              normal   uniform  binomial\n",
       "2024-01-01  0.496714  0.167483         0\n",
       "2024-01-02 -0.138264  0.104568         0\n",
       "2024-01-03  0.647689  0.636430         0\n",
       "2024-01-04  1.523030  0.706476         0\n",
       "2024-01-05 -0.234153  0.031586         1\n",
       "...              ...       ...       ...\n",
       "2026-09-22 -0.281100  0.280683         1\n",
       "2026-09-23  1.797687  0.206993         0\n",
       "2026-09-24  0.640843  0.516573         0\n",
       "2026-09-25 -0.571179  0.005506         1\n",
       "2026-09-26  0.572583  0.007664         0\n",
       "\n",
       "[1000 rows x 3 columns]"
      ]
     },
     "execution_count": 8,
     "metadata": {},
     "output_type": "execute_result"
    }
   ],
   "source": [
    "df = pd.DataFrame(data=data_dict, index=pd.date_range('2024-01-01', periods=1000))\n",
    "df"
   ]
  },
  {
   "cell_type": "markdown",
   "metadata": {
    "id": "PunXd_Ey16so"
   },
   "source": [
    "### <a name='6'></a> Ćwiczenie 116\n",
    "Wyświetl 10 pierwszych wierszy obiektu _df_ z poprzedniego ćwiczenia."
   ]
  },
  {
   "cell_type": "code",
   "execution_count": 22,
   "metadata": {
    "id": "PzsTK_wpFmD-"
   },
   "outputs": [
    {
     "data": {
      "text/html": [
       "<div>\n",
       "<style scoped>\n",
       "    .dataframe tbody tr th:only-of-type {\n",
       "        vertical-align: middle;\n",
       "    }\n",
       "\n",
       "    .dataframe tbody tr th {\n",
       "        vertical-align: top;\n",
       "    }\n",
       "\n",
       "    .dataframe thead th {\n",
       "        text-align: right;\n",
       "    }\n",
       "</style>\n",
       "<table border=\"1\" class=\"dataframe\">\n",
       "  <thead>\n",
       "    <tr style=\"text-align: right;\">\n",
       "      <th></th>\n",
       "      <th>normal</th>\n",
       "      <th>uniform</th>\n",
       "      <th>binomial</th>\n",
       "    </tr>\n",
       "  </thead>\n",
       "  <tbody>\n",
       "    <tr>\n",
       "      <th>2024-01-01</th>\n",
       "      <td>0.496714</td>\n",
       "      <td>0.167483</td>\n",
       "      <td>0</td>\n",
       "    </tr>\n",
       "    <tr>\n",
       "      <th>2024-01-02</th>\n",
       "      <td>-0.138264</td>\n",
       "      <td>0.104568</td>\n",
       "      <td>0</td>\n",
       "    </tr>\n",
       "    <tr>\n",
       "      <th>2024-01-03</th>\n",
       "      <td>0.647689</td>\n",
       "      <td>0.636430</td>\n",
       "      <td>0</td>\n",
       "    </tr>\n",
       "    <tr>\n",
       "      <th>2024-01-04</th>\n",
       "      <td>1.523030</td>\n",
       "      <td>0.706476</td>\n",
       "      <td>0</td>\n",
       "    </tr>\n",
       "    <tr>\n",
       "      <th>2024-01-05</th>\n",
       "      <td>-0.234153</td>\n",
       "      <td>0.031586</td>\n",
       "      <td>1</td>\n",
       "    </tr>\n",
       "    <tr>\n",
       "      <th>2024-01-06</th>\n",
       "      <td>-0.234137</td>\n",
       "      <td>0.936212</td>\n",
       "      <td>0</td>\n",
       "    </tr>\n",
       "    <tr>\n",
       "      <th>2024-01-07</th>\n",
       "      <td>1.579213</td>\n",
       "      <td>0.051971</td>\n",
       "      <td>0</td>\n",
       "    </tr>\n",
       "    <tr>\n",
       "      <th>2024-01-08</th>\n",
       "      <td>0.767435</td>\n",
       "      <td>0.541296</td>\n",
       "      <td>0</td>\n",
       "    </tr>\n",
       "    <tr>\n",
       "      <th>2024-01-09</th>\n",
       "      <td>-0.469474</td>\n",
       "      <td>0.709061</td>\n",
       "      <td>1</td>\n",
       "    </tr>\n",
       "    <tr>\n",
       "      <th>2024-01-10</th>\n",
       "      <td>0.542560</td>\n",
       "      <td>0.870969</td>\n",
       "      <td>0</td>\n",
       "    </tr>\n",
       "  </tbody>\n",
       "</table>\n",
       "</div>"
      ],
      "text/plain": [
       "              normal   uniform  binomial\n",
       "2024-01-01  0.496714  0.167483         0\n",
       "2024-01-02 -0.138264  0.104568         0\n",
       "2024-01-03  0.647689  0.636430         0\n",
       "2024-01-04  1.523030  0.706476         0\n",
       "2024-01-05 -0.234153  0.031586         1\n",
       "2024-01-06 -0.234137  0.936212         0\n",
       "2024-01-07  1.579213  0.051971         0\n",
       "2024-01-08  0.767435  0.541296         0\n",
       "2024-01-09 -0.469474  0.709061         1\n",
       "2024-01-10  0.542560  0.870969         0"
      ]
     },
     "execution_count": 22,
     "metadata": {},
     "output_type": "execute_result"
    }
   ],
   "source": [
    "df.head(10)"
   ]
  },
  {
   "cell_type": "markdown",
   "metadata": {
    "id": "o3v76FW0FvkQ"
   },
   "source": [
    "Wyświetl 8 ostatnich wierszy obiektu df z poprzedniego ćwiczenia."
   ]
  },
  {
   "cell_type": "code",
   "execution_count": 24,
   "metadata": {
    "id": "l3gwfUBWFxyR"
   },
   "outputs": [
    {
     "data": {
      "text/html": [
       "<div>\n",
       "<style scoped>\n",
       "    .dataframe tbody tr th:only-of-type {\n",
       "        vertical-align: middle;\n",
       "    }\n",
       "\n",
       "    .dataframe tbody tr th {\n",
       "        vertical-align: top;\n",
       "    }\n",
       "\n",
       "    .dataframe thead th {\n",
       "        text-align: right;\n",
       "    }\n",
       "</style>\n",
       "<table border=\"1\" class=\"dataframe\">\n",
       "  <thead>\n",
       "    <tr style=\"text-align: right;\">\n",
       "      <th></th>\n",
       "      <th>normal</th>\n",
       "      <th>uniform</th>\n",
       "      <th>binomial</th>\n",
       "    </tr>\n",
       "  </thead>\n",
       "  <tbody>\n",
       "    <tr>\n",
       "      <th>2026-09-19</th>\n",
       "      <td>-0.247177</td>\n",
       "      <td>0.482041</td>\n",
       "      <td>1</td>\n",
       "    </tr>\n",
       "    <tr>\n",
       "      <th>2026-09-20</th>\n",
       "      <td>-0.681984</td>\n",
       "      <td>0.196098</td>\n",
       "      <td>0</td>\n",
       "    </tr>\n",
       "    <tr>\n",
       "      <th>2026-09-21</th>\n",
       "      <td>-1.001620</td>\n",
       "      <td>0.610780</td>\n",
       "      <td>0</td>\n",
       "    </tr>\n",
       "    <tr>\n",
       "      <th>2026-09-22</th>\n",
       "      <td>-0.281100</td>\n",
       "      <td>0.280683</td>\n",
       "      <td>1</td>\n",
       "    </tr>\n",
       "    <tr>\n",
       "      <th>2026-09-23</th>\n",
       "      <td>1.797687</td>\n",
       "      <td>0.206993</td>\n",
       "      <td>0</td>\n",
       "    </tr>\n",
       "    <tr>\n",
       "      <th>2026-09-24</th>\n",
       "      <td>0.640843</td>\n",
       "      <td>0.516573</td>\n",
       "      <td>0</td>\n",
       "    </tr>\n",
       "    <tr>\n",
       "      <th>2026-09-25</th>\n",
       "      <td>-0.571179</td>\n",
       "      <td>0.005506</td>\n",
       "      <td>1</td>\n",
       "    </tr>\n",
       "    <tr>\n",
       "      <th>2026-09-26</th>\n",
       "      <td>0.572583</td>\n",
       "      <td>0.007664</td>\n",
       "      <td>0</td>\n",
       "    </tr>\n",
       "  </tbody>\n",
       "</table>\n",
       "</div>"
      ],
      "text/plain": [
       "              normal   uniform  binomial\n",
       "2026-09-19 -0.247177  0.482041         1\n",
       "2026-09-20 -0.681984  0.196098         0\n",
       "2026-09-21 -1.001620  0.610780         0\n",
       "2026-09-22 -0.281100  0.280683         1\n",
       "2026-09-23  1.797687  0.206993         0\n",
       "2026-09-24  0.640843  0.516573         0\n",
       "2026-09-25 -0.571179  0.005506         1\n",
       "2026-09-26  0.572583  0.007664         0"
      ]
     },
     "execution_count": 24,
     "metadata": {},
     "output_type": "execute_result"
    }
   ],
   "source": [
    "df.tail(8)"
   ]
  },
  {
   "cell_type": "markdown",
   "metadata": {
    "id": "hOhqDRz618Tx"
   },
   "source": [
    "### <a name='7'></a> Ćwiczenie 117\n",
    "Wyświetl podstawowe informacje o obiekcie _df_ (liczba wierszy, liczba kolumn, typ zmiennych)."
   ]
  },
  {
   "cell_type": "code",
   "execution_count": 25,
   "metadata": {
    "id": "e18yLk_VF2EJ"
   },
   "outputs": [
    {
     "name": "stdout",
     "output_type": "stream",
     "text": [
      "<class 'pandas.core.frame.DataFrame'>\n",
      "DatetimeIndex: 1000 entries, 2024-01-01 to 2026-09-26\n",
      "Freq: D\n",
      "Data columns (total 3 columns):\n",
      " #   Column    Non-Null Count  Dtype  \n",
      "---  ------    --------------  -----  \n",
      " 0   normal    1000 non-null   float64\n",
      " 1   uniform   1000 non-null   float64\n",
      " 2   binomial  1000 non-null   int32  \n",
      "dtypes: float64(2), int32(1)\n",
      "memory usage: 27.3 KB\n"
     ]
    }
   ],
   "source": [
    "df.info()"
   ]
  },
  {
   "cell_type": "markdown",
   "metadata": {
    "id": "6tvw_gIWG9zf"
   },
   "source": [
    "Wyświetl podstawowe statystyki obiektu _df_ (wartość średnia, odchylenie, min, max, mediana)."
   ]
  },
  {
   "cell_type": "code",
   "execution_count": 26,
   "metadata": {
    "id": "tJIGXaAzF30k"
   },
   "outputs": [
    {
     "data": {
      "text/html": [
       "<div>\n",
       "<style scoped>\n",
       "    .dataframe tbody tr th:only-of-type {\n",
       "        vertical-align: middle;\n",
       "    }\n",
       "\n",
       "    .dataframe tbody tr th {\n",
       "        vertical-align: top;\n",
       "    }\n",
       "\n",
       "    .dataframe thead th {\n",
       "        text-align: right;\n",
       "    }\n",
       "</style>\n",
       "<table border=\"1\" class=\"dataframe\">\n",
       "  <thead>\n",
       "    <tr style=\"text-align: right;\">\n",
       "      <th></th>\n",
       "      <th>normal</th>\n",
       "      <th>uniform</th>\n",
       "      <th>binomial</th>\n",
       "    </tr>\n",
       "  </thead>\n",
       "  <tbody>\n",
       "    <tr>\n",
       "      <th>count</th>\n",
       "      <td>1000.000000</td>\n",
       "      <td>1000.000000</td>\n",
       "      <td>1000.00000</td>\n",
       "    </tr>\n",
       "    <tr>\n",
       "      <th>mean</th>\n",
       "      <td>0.019332</td>\n",
       "      <td>0.503649</td>\n",
       "      <td>0.19200</td>\n",
       "    </tr>\n",
       "    <tr>\n",
       "      <th>std</th>\n",
       "      <td>0.979216</td>\n",
       "      <td>0.288357</td>\n",
       "      <td>0.39407</td>\n",
       "    </tr>\n",
       "    <tr>\n",
       "      <th>min</th>\n",
       "      <td>-3.241267</td>\n",
       "      <td>0.003218</td>\n",
       "      <td>0.00000</td>\n",
       "    </tr>\n",
       "    <tr>\n",
       "      <th>25%</th>\n",
       "      <td>-0.647590</td>\n",
       "      <td>0.247199</td>\n",
       "      <td>0.00000</td>\n",
       "    </tr>\n",
       "    <tr>\n",
       "      <th>50%</th>\n",
       "      <td>0.025301</td>\n",
       "      <td>0.516126</td>\n",
       "      <td>0.00000</td>\n",
       "    </tr>\n",
       "    <tr>\n",
       "      <th>75%</th>\n",
       "      <td>0.647944</td>\n",
       "      <td>0.746319</td>\n",
       "      <td>0.00000</td>\n",
       "    </tr>\n",
       "    <tr>\n",
       "      <th>max</th>\n",
       "      <td>3.852731</td>\n",
       "      <td>0.999414</td>\n",
       "      <td>1.00000</td>\n",
       "    </tr>\n",
       "  </tbody>\n",
       "</table>\n",
       "</div>"
      ],
      "text/plain": [
       "            normal      uniform    binomial\n",
       "count  1000.000000  1000.000000  1000.00000\n",
       "mean      0.019332     0.503649     0.19200\n",
       "std       0.979216     0.288357     0.39407\n",
       "min      -3.241267     0.003218     0.00000\n",
       "25%      -0.647590     0.247199     0.00000\n",
       "50%       0.025301     0.516126     0.00000\n",
       "75%       0.647944     0.746319     0.00000\n",
       "max       3.852731     0.999414     1.00000"
      ]
     },
     "execution_count": 26,
     "metadata": {},
     "output_type": "execute_result"
    }
   ],
   "source": [
    "df.describe()"
   ]
  },
  {
   "cell_type": "markdown",
   "metadata": {
    "id": "TXUd_4631-gw"
   },
   "source": [
    "### <a name='8'></a> Ćwiczenie 118\n",
    "Zaimportuj bibliotekę _seaborn_ do wizualizacji danych."
   ]
  },
  {
   "cell_type": "code",
   "execution_count": 3,
   "metadata": {},
   "outputs": [],
   "source": [
    "#%pip install seaborn"
   ]
  },
  {
   "cell_type": "code",
   "execution_count": 4,
   "metadata": {
    "id": "TPmoKddoI0mG"
   },
   "outputs": [],
   "source": [
    "import seaborn as sns\n",
    "\n",
    "sns.set()"
   ]
  },
  {
   "cell_type": "markdown",
   "metadata": {
    "id": "HvUH5nvAI9BT"
   },
   "source": [
    "Używając meteody _pd.DataFrame.plot_ zbuduj histogramy dla kolejnych trzech zmiennych.\n",
    "* normal (20 słupków)"
   ]
  },
  {
   "cell_type": "code",
   "execution_count": 12,
   "metadata": {
    "id": "c2DBtW_hHLu5"
   },
   "outputs": [
    {
     "data": {
      "text/plain": [
       "<Axes: ylabel='Frequency'>"
      ]
     },
     "execution_count": 12,
     "metadata": {},
     "output_type": "execute_result"
    },
    {
     "data": {
      "image/png": "[encoded data removed]",
      "text/plain": [
       "<Figure size 640x480 with 1 Axes>"
      ]
     },
     "metadata": {},
     "output_type": "display_data"
    }
   ],
   "source": [
    "df['normal'].plot(kind='hist', bins=20)"
   ]
  },
  {
   "cell_type": "markdown",
   "metadata": {
    "id": "gac76vK9IkMn"
   },
   "source": [
    "* uniform (30 słupków)"
   ]
  },
  {
   "cell_type": "code",
   "execution_count": 16,
   "metadata": {
    "id": "qDcrUndYHb23"
   },
   "outputs": [
    {
     "data": {
      "text/plain": [
       "<Axes: ylabel='Frequency'>"
      ]
     },
     "execution_count": 16,
     "metadata": {},
     "output_type": "execute_result"
    },
    {
     "data": {
      "image/png": "[encoded data removed]",
      "text/plain": [
       "<Figure size 640x480 with 1 Axes>"
      ]
     },
     "metadata": {},
     "output_type": "display_data"
    }
   ],
   "source": [
    "df['uniform'].plot(kind='hist', bins=30)"
   ]
  },
  {
   "cell_type": "markdown",
   "metadata": {
    "id": "HPugPFLQIlft"
   },
   "source": [
    "* binomial"
   ]
  },
  {
   "cell_type": "code",
   "execution_count": 17,
   "metadata": {
    "id": "xJ4t0FRcHfgn"
   },
   "outputs": [
    {
     "data": {
      "text/plain": [
       "<Axes: ylabel='Frequency'>"
      ]
     },
     "execution_count": 17,
     "metadata": {},
     "output_type": "execute_result"
    },
    {
     "data": {
      "image/png": "[encoded data removed]",
      "text/plain": [
       "<Figure size 640x480 with 1 Axes>"
      ]
     },
     "metadata": {},
     "output_type": "display_data"
    }
   ],
   "source": [
    "df['binomial'].plot(kind='hist')"
   ]
  },
  {
   "cell_type": "markdown",
   "metadata": {
    "id": "tgI6xEn-2AQo"
   },
   "source": [
    "### <a name='9'></a> Ćwiczenie 119\n",
    "Zapisz obiekt _df_ do pliku _'dataframe.csv'_."
   ]
  },
  {
   "cell_type": "code",
   "execution_count": 19,
   "metadata": {
    "id": "qt3ZR1H-JHyg"
   },
   "outputs": [],
   "source": [
    "df.to_csv('dataframe.csv')"
   ]
  },
  {
   "cell_type": "markdown",
   "metadata": {
    "id": "wxhpf-uq2B1I"
   },
   "source": [
    "### <a name='10'></a> Ćwiczenie 110\n",
    "Wczytaj do zmiennej _df_new_ plik _dataframe.csv_ (pamiętaj o poprawnym wczytaniu indeksu)."
   ]
  },
  {
   "cell_type": "code",
   "execution_count": null,
   "metadata": {},
   "outputs": [],
   "source": []
  },
  {
   "cell_type": "code",
   "execution_count": 20,
   "metadata": {
    "id": "YFc0KW6URsuc"
   },
   "outputs": [
    {
     "data": {
      "text/html": [
       "<div>\n",
       "<style scoped>\n",
       "    .dataframe tbody tr th:only-of-type {\n",
       "        vertical-align: middle;\n",
       "    }\n",
       "\n",
       "    .dataframe tbody tr th {\n",
       "        vertical-align: top;\n",
       "    }\n",
       "\n",
       "    .dataframe thead th {\n",
       "        text-align: right;\n",
       "    }\n",
       "</style>\n",
       "<table border=\"1\" class=\"dataframe\">\n",
       "  <thead>\n",
       "    <tr style=\"text-align: right;\">\n",
       "      <th></th>\n",
       "      <th>normal</th>\n",
       "      <th>uniform</th>\n",
       "      <th>binomial</th>\n",
       "    </tr>\n",
       "  </thead>\n",
       "  <tbody>\n",
       "    <tr>\n",
       "      <th>2024-01-01</th>\n",
       "      <td>0.496714</td>\n",
       "      <td>0.167483</td>\n",
       "      <td>0</td>\n",
       "    </tr>\n",
       "    <tr>\n",
       "      <th>2024-01-02</th>\n",
       "      <td>-0.138264</td>\n",
       "      <td>0.104568</td>\n",
       "      <td>0</td>\n",
       "    </tr>\n",
       "    <tr>\n",
       "      <th>2024-01-03</th>\n",
       "      <td>0.647689</td>\n",
       "      <td>0.636430</td>\n",
       "      <td>0</td>\n",
       "    </tr>\n",
       "    <tr>\n",
       "      <th>2024-01-04</th>\n",
       "      <td>1.523030</td>\n",
       "      <td>0.706476</td>\n",
       "      <td>0</td>\n",
       "    </tr>\n",
       "    <tr>\n",
       "      <th>2024-01-05</th>\n",
       "      <td>-0.234153</td>\n",
       "      <td>0.031586</td>\n",
       "      <td>1</td>\n",
       "    </tr>\n",
       "    <tr>\n",
       "      <th>...</th>\n",
       "      <td>...</td>\n",
       "      <td>...</td>\n",
       "      <td>...</td>\n",
       "    </tr>\n",
       "    <tr>\n",
       "      <th>2026-09-22</th>\n",
       "      <td>-0.281100</td>\n",
       "      <td>0.280683</td>\n",
       "      <td>1</td>\n",
       "    </tr>\n",
       "    <tr>\n",
       "      <th>2026-09-23</th>\n",
       "      <td>1.797687</td>\n",
       "      <td>0.206993</td>\n",
       "      <td>0</td>\n",
       "    </tr>\n",
       "    <tr>\n",
       "      <th>2026-09-24</th>\n",
       "      <td>0.640843</td>\n",
       "      <td>0.516573</td>\n",
       "      <td>0</td>\n",
       "    </tr>\n",
       "    <tr>\n",
       "      <th>2026-09-25</th>\n",
       "      <td>-0.571179</td>\n",
       "      <td>0.005506</td>\n",
       "      <td>1</td>\n",
       "    </tr>\n",
       "    <tr>\n",
       "      <th>2026-09-26</th>\n",
       "      <td>0.572583</td>\n",
       "      <td>0.007664</td>\n",
       "      <td>0</td>\n",
       "    </tr>\n",
       "  </tbody>\n",
       "</table>\n",
       "<p>1000 rows × 3 columns</p>\n",
       "</div>"
      ],
      "text/plain": [
       "              normal   uniform  binomial\n",
       "2024-01-01  0.496714  0.167483         0\n",
       "2024-01-02 -0.138264  0.104568         0\n",
       "2024-01-03  0.647689  0.636430         0\n",
       "2024-01-04  1.523030  0.706476         0\n",
       "2024-01-05 -0.234153  0.031586         1\n",
       "...              ...       ...       ...\n",
       "2026-09-22 -0.281100  0.280683         1\n",
       "2026-09-23  1.797687  0.206993         0\n",
       "2026-09-24  0.640843  0.516573         0\n",
       "2026-09-25 -0.571179  0.005506         1\n",
       "2026-09-26  0.572583  0.007664         0\n",
       "\n",
       "[1000 rows x 3 columns]"
      ]
     },
     "execution_count": 20,
     "metadata": {},
     "output_type": "execute_result"
    }
   ],
   "source": [
    "df_new = pd.read_csv('dataframe.csv', index_col=0)\n",
    "df_new"
   ]
  }
 ],
 "metadata": {
  "colab": {
   "provenance": []
  },
  "kernelspec": {
   "display_name": "env_conda_3_12_7",
   "language": "python",
   "name": "env_conda_3_12_7"
  },
  "language_info": {
   "codemirror_mode": {
    "name": "ipython",
    "version": 3
   },
   "file_extension": ".py",
   "mimetype": "text/x-python",
   "name": "python",
   "nbconvert_exporter": "python",
   "pygments_lexer": "ipython3",
   "version": "3.12.7"
  }
 },
 "nbformat": 4,
 "nbformat_minor": 4
}
