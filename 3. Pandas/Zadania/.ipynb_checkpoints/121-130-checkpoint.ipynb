{
 "cells": [
  {
   "cell_type": "markdown",
   "metadata": {
    "id": "WLEgCW5F1hho"
   },
   "source": [
    "## Pandas\n",
    "\n",
    "### Spis treści:\n",
    "* [Import biblioteki](#0)\n",
    "* [Ćwiczenie 121](#1)\n",
    "* [Ćwiczenie 122](#2)\n",
    "* [Ćwiczenie 123](#3)\n",
    "* [Ćwiczenie 124](#4)\n",
    "* [Ćwiczenie 125](#5)\n",
    "* [Ćwiczenie 126](#6)\n",
    "* [Ćwiczenie 127](#7)\n",
    "* [Ćwiczenie 128](#8)\n",
    "* [Ćwiczenie 129](#9)\n",
    "* [Ćwiczenie 130](#10)"
   ]
  },
  {
   "cell_type": "markdown",
   "metadata": {
    "id": "zeLOLmTj1kBM"
   },
   "source": [
    "### <a name='0'></a>Import biblioteki"
   ]
  },
  {
   "cell_type": "code",
   "execution_count": 4,
   "metadata": {},
   "outputs": [],
   "source": [
    "#%pip install seaborn"
   ]
  },
  {
   "cell_type": "code",
   "execution_count": 6,
   "metadata": {
    "id": "HXMB7SMe1Wnz"
   },
   "outputs": [
    {
     "data": {
      "text/plain": [
       "'2.2.0'"
      ]
     },
     "execution_count": 6,
     "metadata": {},
     "output_type": "execute_result"
    }
   ],
   "source": [
    "import numpy as np\n",
    "import pandas as pd\n",
    "import seaborn as sns\n",
    "\n",
    "sns.set()\n",
    "np.__version__"
   ]
  },
  {
   "cell_type": "code",
   "execution_count": 5,
   "metadata": {},
   "outputs": [],
   "source": [
    "#%pip install pandas_datareader"
   ]
  },
  {
   "cell_type": "markdown",
   "metadata": {
    "id": "d1KXPVTVcwTX"
   },
   "source": [
    "Funkcja _fetch_financial_data()_ pobiera dane dotyczące notowań spółek giełdowych. Będzie wykorzystywana w poniższych ćwiczeniach. Aby pobrać dane konkretnej spółki należy przekazać odpowiedni ticker (symbol) spółki.\n",
    "\n",
    "Kilka przykładowych tickerów spółek:\n",
    "* AMZN - Amazon\n",
    "* GOOGL - Google\n",
    "* MSFT - Microsoft\n",
    "* AAPL - Apple\n",
    "* NKE - Nike\n",
    "* WMT - Walmart"
   ]
  },
  {
   "cell_type": "code",
   "execution_count": 7,
   "metadata": {
    "id": "gTRegewub5oK"
   },
   "outputs": [],
   "source": [
    "def fetch_financial_data(company='AMZN'):\n",
    "    \"\"\"\n",
    "    This function fetches stock market quotations.\n",
    "    \"\"\"\n",
    "    import pandas_datareader.data as web\n",
    "    return web.DataReader(name=company, data_source='stooq')"
   ]
  },
  {
   "cell_type": "markdown",
   "metadata": {
    "id": "cyc70pMe1oCg"
   },
   "source": [
    "### <a name='1'></a> Ćwiczenie 121\n",
    "Wykorzystując funkcję _fetch_financial_data()_ pobierz notowania dla spółki Google (Alphabet) i przypisz do zmiennej _google_. Wyświetl obiekt _google_."
   ]
  },
  {
   "cell_type": "code",
   "execution_count": 9,
   "metadata": {
    "id": "LtMEvHZicna7"
   },
   "outputs": [
    {
     "data": {
      "text/html": [
       "<div>\n",
       "<style scoped>\n",
       "    .dataframe tbody tr th:only-of-type {\n",
       "        vertical-align: middle;\n",
       "    }\n",
       "\n",
       "    .dataframe tbody tr th {\n",
       "        vertical-align: top;\n",
       "    }\n",
       "\n",
       "    .dataframe thead th {\n",
       "        text-align: right;\n",
       "    }\n",
       "</style>\n",
       "<table border=\"1\" class=\"dataframe\">\n",
       "  <thead>\n",
       "    <tr style=\"text-align: right;\">\n",
       "      <th></th>\n",
       "      <th>Open</th>\n",
       "      <th>High</th>\n",
       "      <th>Low</th>\n",
       "      <th>Close</th>\n",
       "      <th>Volume</th>\n",
       "    </tr>\n",
       "    <tr>\n",
       "      <th>Date</th>\n",
       "      <th></th>\n",
       "      <th></th>\n",
       "      <th></th>\n",
       "      <th></th>\n",
       "      <th></th>\n",
       "    </tr>\n",
       "  </thead>\n",
       "  <tbody>\n",
       "    <tr>\n",
       "      <th>2024-12-09</th>\n",
       "      <td>173.9600</td>\n",
       "      <td>176.2600</td>\n",
       "      <td>173.6500</td>\n",
       "      <td>175.3700</td>\n",
       "      <td>25389631</td>\n",
       "    </tr>\n",
       "    <tr>\n",
       "      <th>2024-12-06</th>\n",
       "      <td>172.0300</td>\n",
       "      <td>175.0800</td>\n",
       "      <td>171.8600</td>\n",
       "      <td>174.7100</td>\n",
       "      <td>21462393</td>\n",
       "    </tr>\n",
       "    <tr>\n",
       "      <th>2024-12-05</th>\n",
       "      <td>175.3600</td>\n",
       "      <td>176.0600</td>\n",
       "      <td>172.3300</td>\n",
       "      <td>172.6400</td>\n",
       "      <td>21356243</td>\n",
       "    </tr>\n",
       "    <tr>\n",
       "      <th>2024-12-04</th>\n",
       "      <td>171.1450</td>\n",
       "      <td>174.9100</td>\n",
       "      <td>171.0600</td>\n",
       "      <td>174.3700</td>\n",
       "      <td>31615137</td>\n",
       "    </tr>\n",
       "    <tr>\n",
       "      <th>2024-12-03</th>\n",
       "      <td>171.4900</td>\n",
       "      <td>172.6800</td>\n",
       "      <td>170.8500</td>\n",
       "      <td>171.3400</td>\n",
       "      <td>22248705</td>\n",
       "    </tr>\n",
       "    <tr>\n",
       "      <th>...</th>\n",
       "      <td>...</td>\n",
       "      <td>...</td>\n",
       "      <td>...</td>\n",
       "      <td>...</td>\n",
       "      <td>...</td>\n",
       "    </tr>\n",
       "    <tr>\n",
       "      <th>2019-12-18</th>\n",
       "      <td>67.8500</td>\n",
       "      <td>67.9715</td>\n",
       "      <td>67.5230</td>\n",
       "      <td>67.5955</td>\n",
       "      <td>23334660</td>\n",
       "    </tr>\n",
       "    <tr>\n",
       "      <th>2019-12-17</th>\n",
       "      <td>68.1205</td>\n",
       "      <td>68.2165</td>\n",
       "      <td>67.5385</td>\n",
       "      <td>67.7445</td>\n",
       "      <td>32970980</td>\n",
       "    </tr>\n",
       "    <tr>\n",
       "      <th>2019-12-16</th>\n",
       "      <td>67.7500</td>\n",
       "      <td>68.1765</td>\n",
       "      <td>67.5305</td>\n",
       "      <td>68.0350</td>\n",
       "      <td>28129140</td>\n",
       "    </tr>\n",
       "    <tr>\n",
       "      <th>2019-12-13</th>\n",
       "      <td>67.3950</td>\n",
       "      <td>67.5675</td>\n",
       "      <td>67.0830</td>\n",
       "      <td>67.3435</td>\n",
       "      <td>33173680</td>\n",
       "    </tr>\n",
       "    <tr>\n",
       "      <th>2019-12-12</th>\n",
       "      <td>67.1605</td>\n",
       "      <td>67.7290</td>\n",
       "      <td>66.9100</td>\n",
       "      <td>67.4245</td>\n",
       "      <td>29129320</td>\n",
       "    </tr>\n",
       "  </tbody>\n",
       "</table>\n",
       "<p>1256 rows × 5 columns</p>\n",
       "</div>"
      ],
      "text/plain": [
       "                Open      High       Low     Close    Volume\n",
       "Date                                                        \n",
       "2024-12-09  173.9600  176.2600  173.6500  175.3700  25389631\n",
       "2024-12-06  172.0300  175.0800  171.8600  174.7100  21462393\n",
       "2024-12-05  175.3600  176.0600  172.3300  172.6400  21356243\n",
       "2024-12-04  171.1450  174.9100  171.0600  174.3700  31615137\n",
       "2024-12-03  171.4900  172.6800  170.8500  171.3400  22248705\n",
       "...              ...       ...       ...       ...       ...\n",
       "2019-12-18   67.8500   67.9715   67.5230   67.5955  23334660\n",
       "2019-12-17   68.1205   68.2165   67.5385   67.7445  32970980\n",
       "2019-12-16   67.7500   68.1765   67.5305   68.0350  28129140\n",
       "2019-12-13   67.3950   67.5675   67.0830   67.3435  33173680\n",
       "2019-12-12   67.1605   67.7290   66.9100   67.4245  29129320\n",
       "\n",
       "[1256 rows x 5 columns]"
      ]
     },
     "execution_count": 9,
     "metadata": {},
     "output_type": "execute_result"
    }
   ],
   "source": [
    " google = fetch_financial_data('GOOGL')\n",
    " google"
   ]
  },
  {
   "cell_type": "markdown",
   "metadata": {
    "id": "J9pY1rtr1sC0"
   },
   "source": [
    "### <a name='2'></a> Ćwiczenie 122\n",
    "Wyświetl podstawowe informacje na temat obiektu _google_."
   ]
  },
  {
   "cell_type": "code",
   "execution_count": 11,
   "metadata": {
    "id": "0QE4WiIDeGqy"
   },
   "outputs": [
    {
     "name": "stdout",
     "output_type": "stream",
     "text": [
      "<class 'pandas.core.frame.DataFrame'>\n",
      "DatetimeIndex: 1256 entries, 2024-12-09 to 2019-12-12\n",
      "Data columns (total 5 columns):\n",
      " #   Column  Non-Null Count  Dtype  \n",
      "---  ------  --------------  -----  \n",
      " 0   Open    1256 non-null   float64\n",
      " 1   High    1256 non-null   float64\n",
      " 2   Low     1256 non-null   float64\n",
      " 3   Close   1256 non-null   float64\n",
      " 4   Volume  1256 non-null   int64  \n",
      "dtypes: float64(4), int64(1)\n",
      "memory usage: 58.9 KB\n"
     ]
    }
   ],
   "source": [
    "google.info()"
   ]
  },
  {
   "cell_type": "markdown",
   "metadata": {
    "id": "yic8GlyieMAv"
   },
   "source": [
    "Wyświetl podstawowe statystyki o obiekcie _google_."
   ]
  },
  {
   "cell_type": "code",
   "execution_count": 12,
   "metadata": {
    "id": "8CiWPVl0eJ2B"
   },
   "outputs": [
    {
     "data": {
      "text/html": [
       "<div>\n",
       "<style scoped>\n",
       "    .dataframe tbody tr th:only-of-type {\n",
       "        vertical-align: middle;\n",
       "    }\n",
       "\n",
       "    .dataframe tbody tr th {\n",
       "        vertical-align: top;\n",
       "    }\n",
       "\n",
       "    .dataframe thead th {\n",
       "        text-align: right;\n",
       "    }\n",
       "</style>\n",
       "<table border=\"1\" class=\"dataframe\">\n",
       "  <thead>\n",
       "    <tr style=\"text-align: right;\">\n",
       "      <th></th>\n",
       "      <th>Open</th>\n",
       "      <th>High</th>\n",
       "      <th>Low</th>\n",
       "      <th>Close</th>\n",
       "      <th>Volume</th>\n",
       "    </tr>\n",
       "  </thead>\n",
       "  <tbody>\n",
       "    <tr>\n",
       "      <th>count</th>\n",
       "      <td>1256.000000</td>\n",
       "      <td>1256.000000</td>\n",
       "      <td>1256.000000</td>\n",
       "      <td>1256.000000</td>\n",
       "      <td>1.256000e+03</td>\n",
       "    </tr>\n",
       "    <tr>\n",
       "      <th>mean</th>\n",
       "      <td>117.605287</td>\n",
       "      <td>118.946710</td>\n",
       "      <td>116.342932</td>\n",
       "      <td>117.669459</td>\n",
       "      <td>3.302325e+07</td>\n",
       "    </tr>\n",
       "    <tr>\n",
       "      <th>std</th>\n",
       "      <td>31.917648</td>\n",
       "      <td>32.100944</td>\n",
       "      <td>31.690516</td>\n",
       "      <td>31.881789</td>\n",
       "      <td>1.454211e+07</td>\n",
       "    </tr>\n",
       "    <tr>\n",
       "      <th>min</th>\n",
       "      <td>52.818500</td>\n",
       "      <td>53.345500</td>\n",
       "      <td>50.443500</td>\n",
       "      <td>52.706500</td>\n",
       "      <td>9.312760e+06</td>\n",
       "    </tr>\n",
       "    <tr>\n",
       "      <th>25%</th>\n",
       "      <td>92.025000</td>\n",
       "      <td>93.024975</td>\n",
       "      <td>90.625000</td>\n",
       "      <td>91.617500</td>\n",
       "      <td>2.343629e+07</td>\n",
       "    </tr>\n",
       "    <tr>\n",
       "      <th>50%</th>\n",
       "      <td>118.751000</td>\n",
       "      <td>120.105000</td>\n",
       "      <td>117.687500</td>\n",
       "      <td>118.811500</td>\n",
       "      <td>2.921205e+07</td>\n",
       "    </tr>\n",
       "    <tr>\n",
       "      <th>75%</th>\n",
       "      <td>139.590250</td>\n",
       "      <td>141.484250</td>\n",
       "      <td>138.683250</td>\n",
       "      <td>140.055750</td>\n",
       "      <td>3.757609e+07</td>\n",
       "    </tr>\n",
       "    <tr>\n",
       "      <th>max</th>\n",
       "      <td>190.310000</td>\n",
       "      <td>191.750000</td>\n",
       "      <td>189.030000</td>\n",
       "      <td>191.180000</td>\n",
       "      <td>1.231992e+08</td>\n",
       "    </tr>\n",
       "  </tbody>\n",
       "</table>\n",
       "</div>"
      ],
      "text/plain": [
       "              Open         High          Low        Close        Volume\n",
       "count  1256.000000  1256.000000  1256.000000  1256.000000  1.256000e+03\n",
       "mean    117.605287   118.946710   116.342932   117.669459  3.302325e+07\n",
       "std      31.917648    32.100944    31.690516    31.881789  1.454211e+07\n",
       "min      52.818500    53.345500    50.443500    52.706500  9.312760e+06\n",
       "25%      92.025000    93.024975    90.625000    91.617500  2.343629e+07\n",
       "50%     118.751000   120.105000   117.687500   118.811500  2.921205e+07\n",
       "75%     139.590250   141.484250   138.683250   140.055750  3.757609e+07\n",
       "max     190.310000   191.750000   189.030000   191.180000  1.231992e+08"
      ]
     },
     "execution_count": 12,
     "metadata": {},
     "output_type": "execute_result"
    }
   ],
   "source": [
    "google.describe()"
   ]
  },
  {
   "cell_type": "markdown",
   "metadata": {
    "id": "OwKsy3HRf1Z5"
   },
   "source": [
    "Zwróć uwagę na precyzję zapisu poszczególnych statystyk.\n",
    "Spróbuj ustawić odpowiednie opcje biblioteki _pandas_, tak aby wyświetlać dane z dokładnością do dwóch miejsc po przecinku.\n",
    "\n",
    "__Wskazówka:__\n",
    "https://pandas.pydata.org/pandas-docs/stable/user_guide/options.html"
   ]
  },
  {
   "cell_type": "code",
   "execution_count": 13,
   "metadata": {
    "id": "mskz01W_gCy0"
   },
   "outputs": [],
   "source": [
    "pd.set_option(\"display.precision\", 2)"
   ]
  },
  {
   "cell_type": "code",
   "execution_count": 14,
   "metadata": {},
   "outputs": [
    {
     "data": {
      "text/html": [
       "<div>\n",
       "<style scoped>\n",
       "    .dataframe tbody tr th:only-of-type {\n",
       "        vertical-align: middle;\n",
       "    }\n",
       "\n",
       "    .dataframe tbody tr th {\n",
       "        vertical-align: top;\n",
       "    }\n",
       "\n",
       "    .dataframe thead th {\n",
       "        text-align: right;\n",
       "    }\n",
       "</style>\n",
       "<table border=\"1\" class=\"dataframe\">\n",
       "  <thead>\n",
       "    <tr style=\"text-align: right;\">\n",
       "      <th></th>\n",
       "      <th>Open</th>\n",
       "      <th>High</th>\n",
       "      <th>Low</th>\n",
       "      <th>Close</th>\n",
       "      <th>Volume</th>\n",
       "    </tr>\n",
       "  </thead>\n",
       "  <tbody>\n",
       "    <tr>\n",
       "      <th>count</th>\n",
       "      <td>1256.00</td>\n",
       "      <td>1256.00</td>\n",
       "      <td>1256.00</td>\n",
       "      <td>1256.00</td>\n",
       "      <td>1.26e+03</td>\n",
       "    </tr>\n",
       "    <tr>\n",
       "      <th>mean</th>\n",
       "      <td>117.61</td>\n",
       "      <td>118.95</td>\n",
       "      <td>116.34</td>\n",
       "      <td>117.67</td>\n",
       "      <td>3.30e+07</td>\n",
       "    </tr>\n",
       "    <tr>\n",
       "      <th>std</th>\n",
       "      <td>31.92</td>\n",
       "      <td>32.10</td>\n",
       "      <td>31.69</td>\n",
       "      <td>31.88</td>\n",
       "      <td>1.45e+07</td>\n",
       "    </tr>\n",
       "    <tr>\n",
       "      <th>min</th>\n",
       "      <td>52.82</td>\n",
       "      <td>53.35</td>\n",
       "      <td>50.44</td>\n",
       "      <td>52.71</td>\n",
       "      <td>9.31e+06</td>\n",
       "    </tr>\n",
       "    <tr>\n",
       "      <th>25%</th>\n",
       "      <td>92.03</td>\n",
       "      <td>93.02</td>\n",
       "      <td>90.62</td>\n",
       "      <td>91.62</td>\n",
       "      <td>2.34e+07</td>\n",
       "    </tr>\n",
       "    <tr>\n",
       "      <th>50%</th>\n",
       "      <td>118.75</td>\n",
       "      <td>120.11</td>\n",
       "      <td>117.69</td>\n",
       "      <td>118.81</td>\n",
       "      <td>2.92e+07</td>\n",
       "    </tr>\n",
       "    <tr>\n",
       "      <th>75%</th>\n",
       "      <td>139.59</td>\n",
       "      <td>141.48</td>\n",
       "      <td>138.68</td>\n",
       "      <td>140.06</td>\n",
       "      <td>3.76e+07</td>\n",
       "    </tr>\n",
       "    <tr>\n",
       "      <th>max</th>\n",
       "      <td>190.31</td>\n",
       "      <td>191.75</td>\n",
       "      <td>189.03</td>\n",
       "      <td>191.18</td>\n",
       "      <td>1.23e+08</td>\n",
       "    </tr>\n",
       "  </tbody>\n",
       "</table>\n",
       "</div>"
      ],
      "text/plain": [
       "          Open     High      Low    Close    Volume\n",
       "count  1256.00  1256.00  1256.00  1256.00  1.26e+03\n",
       "mean    117.61   118.95   116.34   117.67  3.30e+07\n",
       "std      31.92    32.10    31.69    31.88  1.45e+07\n",
       "min      52.82    53.35    50.44    52.71  9.31e+06\n",
       "25%      92.03    93.02    90.62    91.62  2.34e+07\n",
       "50%     118.75   120.11   117.69   118.81  2.92e+07\n",
       "75%     139.59   141.48   138.68   140.06  3.76e+07\n",
       "max     190.31   191.75   189.03   191.18  1.23e+08"
      ]
     },
     "execution_count": 14,
     "metadata": {},
     "output_type": "execute_result"
    }
   ],
   "source": [
    "google.describe()"
   ]
  },
  {
   "cell_type": "markdown",
   "metadata": {
    "id": "iEXHrwHwheyo"
   },
   "source": [
    "__Dodatkowo:__\n",
    "Poniższe ustawienie stłumi także notację wykładniczą (patrz kolumna _Volume_)."
   ]
  },
  {
   "cell_type": "code",
   "execution_count": 15,
   "metadata": {
    "id": "qdosioVRhGfC"
   },
   "outputs": [
    {
     "data": {
      "text/html": [
       "<div>\n",
       "<style scoped>\n",
       "    .dataframe tbody tr th:only-of-type {\n",
       "        vertical-align: middle;\n",
       "    }\n",
       "\n",
       "    .dataframe tbody tr th {\n",
       "        vertical-align: top;\n",
       "    }\n",
       "\n",
       "    .dataframe thead th {\n",
       "        text-align: right;\n",
       "    }\n",
       "</style>\n",
       "<table border=\"1\" class=\"dataframe\">\n",
       "  <thead>\n",
       "    <tr style=\"text-align: right;\">\n",
       "      <th></th>\n",
       "      <th>Open</th>\n",
       "      <th>High</th>\n",
       "      <th>Low</th>\n",
       "      <th>Close</th>\n",
       "      <th>Volume</th>\n",
       "    </tr>\n",
       "  </thead>\n",
       "  <tbody>\n",
       "    <tr>\n",
       "      <th>count</th>\n",
       "      <td>1256.00</td>\n",
       "      <td>1256.00</td>\n",
       "      <td>1256.00</td>\n",
       "      <td>1256.00</td>\n",
       "      <td>1256.00</td>\n",
       "    </tr>\n",
       "    <tr>\n",
       "      <th>mean</th>\n",
       "      <td>117.61</td>\n",
       "      <td>118.95</td>\n",
       "      <td>116.34</td>\n",
       "      <td>117.67</td>\n",
       "      <td>33023250.88</td>\n",
       "    </tr>\n",
       "    <tr>\n",
       "      <th>std</th>\n",
       "      <td>31.92</td>\n",
       "      <td>32.10</td>\n",
       "      <td>31.69</td>\n",
       "      <td>31.88</td>\n",
       "      <td>14542112.17</td>\n",
       "    </tr>\n",
       "    <tr>\n",
       "      <th>min</th>\n",
       "      <td>52.82</td>\n",
       "      <td>53.35</td>\n",
       "      <td>50.44</td>\n",
       "      <td>52.71</td>\n",
       "      <td>9312760.00</td>\n",
       "    </tr>\n",
       "    <tr>\n",
       "      <th>25%</th>\n",
       "      <td>92.03</td>\n",
       "      <td>93.02</td>\n",
       "      <td>90.62</td>\n",
       "      <td>91.62</td>\n",
       "      <td>23436294.25</td>\n",
       "    </tr>\n",
       "    <tr>\n",
       "      <th>50%</th>\n",
       "      <td>118.75</td>\n",
       "      <td>120.11</td>\n",
       "      <td>117.69</td>\n",
       "      <td>118.81</td>\n",
       "      <td>29212054.50</td>\n",
       "    </tr>\n",
       "    <tr>\n",
       "      <th>75%</th>\n",
       "      <td>139.59</td>\n",
       "      <td>141.48</td>\n",
       "      <td>138.68</td>\n",
       "      <td>140.06</td>\n",
       "      <td>37576087.25</td>\n",
       "    </tr>\n",
       "    <tr>\n",
       "      <th>max</th>\n",
       "      <td>190.31</td>\n",
       "      <td>191.75</td>\n",
       "      <td>189.03</td>\n",
       "      <td>191.18</td>\n",
       "      <td>123199220.00</td>\n",
       "    </tr>\n",
       "  </tbody>\n",
       "</table>\n",
       "</div>"
      ],
      "text/plain": [
       "         Open    High     Low   Close       Volume\n",
       "count 1256.00 1256.00 1256.00 1256.00      1256.00\n",
       "mean   117.61  118.95  116.34  117.67  33023250.88\n",
       "std     31.92   32.10   31.69   31.88  14542112.17\n",
       "min     52.82   53.35   50.44   52.71   9312760.00\n",
       "25%     92.03   93.02   90.62   91.62  23436294.25\n",
       "50%    118.75  120.11  117.69  118.81  29212054.50\n",
       "75%    139.59  141.48  138.68  140.06  37576087.25\n",
       "max    190.31  191.75  189.03  191.18 123199220.00"
      ]
     },
     "execution_count": 15,
     "metadata": {},
     "output_type": "execute_result"
    }
   ],
   "source": [
    "pd.options.display.float_format = '{:.2f}'.format\n",
    "google.describe()"
   ]
  },
  {
   "cell_type": "markdown",
   "metadata": {
    "id": "p12duQuPlWSU"
   },
   "source": [
    "Zbuduj wykres ceny zamknięcia (_Close_) dla obiektu _google_."
   ]
  },
  {
   "cell_type": "code",
   "execution_count": 18,
   "metadata": {
    "id": "tmpm-uiAlKgv"
   },
   "outputs": [
    {
     "data": {
      "image/png": "[encoded data removed]",
      "text/plain": [
       "<Figure size 640x480 with 1 Axes>"
      ]
     },
     "metadata": {},
     "output_type": "display_data"
    }
   ],
   "source": [
    "google['Close'].plot();"
   ]
  },
  {
   "cell_type": "markdown",
   "metadata": {
    "id": "XQLYT2m11wVG"
   },
   "source": [
    "### <a name='3'></a> Ćwiczenie 123\n",
    "Zamień indeks _Date_ na kolumnę. Przypisz trwale zmiany do zniennej _google_."
   ]
  },
  {
   "cell_type": "code",
   "execution_count": null,
   "metadata": {},
   "outputs": [],
   "source": [
    "# metoda 1\n",
    "google.reset_index(inplace=True)"
   ]
  },
  {
   "cell_type": "code",
   "execution_count": 20,
   "metadata": {
    "id": "Ac1OnxjOh3fa"
   },
   "outputs": [
    {
     "data": {
      "text/html": [
       "<div>\n",
       "<style scoped>\n",
       "    .dataframe tbody tr th:only-of-type {\n",
       "        vertical-align: middle;\n",
       "    }\n",
       "\n",
       "    .dataframe tbody tr th {\n",
       "        vertical-align: top;\n",
       "    }\n",
       "\n",
       "    .dataframe thead th {\n",
       "        text-align: right;\n",
       "    }\n",
       "</style>\n",
       "<table border=\"1\" class=\"dataframe\">\n",
       "  <thead>\n",
       "    <tr style=\"text-align: right;\">\n",
       "      <th></th>\n",
       "      <th>Date</th>\n",
       "      <th>Open</th>\n",
       "      <th>High</th>\n",
       "      <th>Low</th>\n",
       "      <th>Close</th>\n",
       "      <th>Volume</th>\n",
       "    </tr>\n",
       "  </thead>\n",
       "  <tbody>\n",
       "    <tr>\n",
       "      <th>0</th>\n",
       "      <td>2024-12-09</td>\n",
       "      <td>173.96</td>\n",
       "      <td>176.26</td>\n",
       "      <td>173.65</td>\n",
       "      <td>175.37</td>\n",
       "      <td>25389631</td>\n",
       "    </tr>\n",
       "    <tr>\n",
       "      <th>1</th>\n",
       "      <td>2024-12-06</td>\n",
       "      <td>172.03</td>\n",
       "      <td>175.08</td>\n",
       "      <td>171.86</td>\n",
       "      <td>174.71</td>\n",
       "      <td>21462393</td>\n",
       "    </tr>\n",
       "    <tr>\n",
       "      <th>2</th>\n",
       "      <td>2024-12-05</td>\n",
       "      <td>175.36</td>\n",
       "      <td>176.06</td>\n",
       "      <td>172.33</td>\n",
       "      <td>172.64</td>\n",
       "      <td>21356243</td>\n",
       "    </tr>\n",
       "    <tr>\n",
       "      <th>3</th>\n",
       "      <td>2024-12-04</td>\n",
       "      <td>171.15</td>\n",
       "      <td>174.91</td>\n",
       "      <td>171.06</td>\n",
       "      <td>174.37</td>\n",
       "      <td>31615137</td>\n",
       "    </tr>\n",
       "    <tr>\n",
       "      <th>4</th>\n",
       "      <td>2024-12-03</td>\n",
       "      <td>171.49</td>\n",
       "      <td>172.68</td>\n",
       "      <td>170.85</td>\n",
       "      <td>171.34</td>\n",
       "      <td>22248705</td>\n",
       "    </tr>\n",
       "    <tr>\n",
       "      <th>...</th>\n",
       "      <td>...</td>\n",
       "      <td>...</td>\n",
       "      <td>...</td>\n",
       "      <td>...</td>\n",
       "      <td>...</td>\n",
       "      <td>...</td>\n",
       "    </tr>\n",
       "    <tr>\n",
       "      <th>1251</th>\n",
       "      <td>2019-12-18</td>\n",
       "      <td>67.85</td>\n",
       "      <td>67.97</td>\n",
       "      <td>67.52</td>\n",
       "      <td>67.60</td>\n",
       "      <td>23334660</td>\n",
       "    </tr>\n",
       "    <tr>\n",
       "      <th>1252</th>\n",
       "      <td>2019-12-17</td>\n",
       "      <td>68.12</td>\n",
       "      <td>68.22</td>\n",
       "      <td>67.54</td>\n",
       "      <td>67.74</td>\n",
       "      <td>32970980</td>\n",
       "    </tr>\n",
       "    <tr>\n",
       "      <th>1253</th>\n",
       "      <td>2019-12-16</td>\n",
       "      <td>67.75</td>\n",
       "      <td>68.18</td>\n",
       "      <td>67.53</td>\n",
       "      <td>68.03</td>\n",
       "      <td>28129140</td>\n",
       "    </tr>\n",
       "    <tr>\n",
       "      <th>1254</th>\n",
       "      <td>2019-12-13</td>\n",
       "      <td>67.39</td>\n",
       "      <td>67.57</td>\n",
       "      <td>67.08</td>\n",
       "      <td>67.34</td>\n",
       "      <td>33173680</td>\n",
       "    </tr>\n",
       "    <tr>\n",
       "      <th>1255</th>\n",
       "      <td>2019-12-12</td>\n",
       "      <td>67.16</td>\n",
       "      <td>67.73</td>\n",
       "      <td>66.91</td>\n",
       "      <td>67.42</td>\n",
       "      <td>29129320</td>\n",
       "    </tr>\n",
       "  </tbody>\n",
       "</table>\n",
       "<p>1256 rows × 6 columns</p>\n",
       "</div>"
      ],
      "text/plain": [
       "           Date   Open   High    Low  Close    Volume\n",
       "0    2024-12-09 173.96 176.26 173.65 175.37  25389631\n",
       "1    2024-12-06 172.03 175.08 171.86 174.71  21462393\n",
       "2    2024-12-05 175.36 176.06 172.33 172.64  21356243\n",
       "3    2024-12-04 171.15 174.91 171.06 174.37  31615137\n",
       "4    2024-12-03 171.49 172.68 170.85 171.34  22248705\n",
       "...         ...    ...    ...    ...    ...       ...\n",
       "1251 2019-12-18  67.85  67.97  67.52  67.60  23334660\n",
       "1252 2019-12-17  68.12  68.22  67.54  67.74  32970980\n",
       "1253 2019-12-16  67.75  68.18  67.53  68.03  28129140\n",
       "1254 2019-12-13  67.39  67.57  67.08  67.34  33173680\n",
       "1255 2019-12-12  67.16  67.73  66.91  67.42  29129320\n",
       "\n",
       "[1256 rows x 6 columns]"
      ]
     },
     "execution_count": 20,
     "metadata": {},
     "output_type": "execute_result"
    }
   ],
   "source": [
    "# medota 2\n",
    "google = google.reset_index()\n",
    "google"
   ]
  },
  {
   "cell_type": "markdown",
   "metadata": {
    "id": "SRfQiXpGiXBc"
   },
   "source": [
    "Przypisz dwie nowe kolumny do obiektu _google_ dodając kolumnę z aktualnym numerem miesiąca o nazwie _'Month'_ oraz z rokiem o nazwie _'Year'_."
   ]
  },
  {
   "cell_type": "code",
   "execution_count": null,
   "metadata": {
    "id": "S32izk-BiL_q"
   },
   "outputs": [],
   "source": [
    "# tutaj wpisz rozwiązanie"
   ]
  },
  {
   "cell_type": "markdown",
   "metadata": {
    "id": "4xTKSUzg10MK"
   },
   "source": [
    "### <a name='4'></a> Ćwiczenie 124\n",
    "Policz średnią cenę zamknięcia (_Close_) dla poszczególnego roku (pogrupuj dane po roku - kolumna _Year_ i następnie policz wartość średnią)."
   ]
  },
  {
   "cell_type": "code",
   "execution_count": null,
   "metadata": {
    "id": "wSFs7z0Qi3Y7"
   },
   "outputs": [],
   "source": [
    "# tutaj wpisz rozwiązanie"
   ]
  },
  {
   "cell_type": "markdown",
   "metadata": {
    "id": "DSqQjdS4j-wl"
   },
   "source": [
    "Otrzymane wartości przedstaw na wykresie wykorzystując metodę _plot()_."
   ]
  },
  {
   "cell_type": "code",
   "execution_count": null,
   "metadata": {
    "id": "0nBtvC2tjaTK"
   },
   "outputs": [],
   "source": [
    "# tutaj wpisz rozwiązanie"
   ]
  },
  {
   "cell_type": "markdown",
   "metadata": {
    "id": "RduPz9PDkR2-"
   },
   "source": [
    "Policz średnią cenę zamknięcia (_Close_) dla miesiąca (pogrupuj dane po miesiącu - kolumna _Month_ i następnie policz wartość średnią)."
   ]
  },
  {
   "cell_type": "code",
   "execution_count": null,
   "metadata": {
    "id": "4Vd83xT_kIsg"
   },
   "outputs": [],
   "source": [
    "# tutaj wpisz rozwiązanie"
   ]
  },
  {
   "cell_type": "markdown",
   "metadata": {
    "id": "ytITHhjjkaoO"
   },
   "source": [
    "Otrzymane wartości przedstaw na wykresie wykorzystując metodę _plot()_.\n",
    "Zauważ, które miesiące mogą wskazywać na słabsze okresy na giełdzie."
   ]
  },
  {
   "cell_type": "code",
   "execution_count": null,
   "metadata": {
    "id": "ob02yPQRkK3E"
   },
   "outputs": [],
   "source": [
    "# tutaj wpisz rozwiązanie"
   ]
  },
  {
   "cell_type": "markdown",
   "metadata": {
    "id": "o3HKIKlP15Ro"
   },
   "source": [
    "### <a name='5'></a> Ćwiczenie 125\n",
    "Pogrupuj dane z obiektu _google_ na poziomie roku i miesiąca. Następnie policz wartość średnią."
   ]
  },
  {
   "cell_type": "code",
   "execution_count": null,
   "metadata": {
    "id": "DptCcOtNkokd"
   },
   "outputs": [],
   "source": [
    "# tutaj wpisz rozwiązanie"
   ]
  },
  {
   "cell_type": "markdown",
   "metadata": {
    "id": "PunXd_Ey16so"
   },
   "source": [
    "### <a name='6'></a> Ćwiczenie 126\n",
    "Znajdź indeks dla którego kolumna _Close_ przyjmuje wartość największą."
   ]
  },
  {
   "cell_type": "code",
   "execution_count": null,
   "metadata": {
    "id": "PIUT3b7Rm7v1"
   },
   "outputs": [],
   "source": [
    "# tutaj wpisz rozwiązanie"
   ]
  },
  {
   "cell_type": "markdown",
   "metadata": {
    "id": "WETiC6NEnPm0"
   },
   "source": [
    "Wytnij wiersz dla tego indeksu z obiektu _google_ jako obiekt DataFrame. Odczytaj datę."
   ]
  },
  {
   "cell_type": "code",
   "execution_count": null,
   "metadata": {
    "id": "XccuGttMnL_d"
   },
   "outputs": [],
   "source": [
    "# tutaj wpisz rozwiązanie"
   ]
  },
  {
   "cell_type": "markdown",
   "metadata": {
    "id": "hOhqDRz618Tx"
   },
   "source": [
    "### <a name='7'></a> Ćwiczenie 127\n",
    "Z obiektu _google_ wytnij kolumny _Date_, _Open_, _Close_, _Volume_.\n",
    "Nie zmieniaj pierwotnego obiektu _google_!\n"
   ]
  },
  {
   "cell_type": "code",
   "execution_count": null,
   "metadata": {
    "id": "P17Vtv4imw28"
   },
   "outputs": [],
   "source": [
    "# tutaj wpisz rozwiązanie"
   ]
  },
  {
   "cell_type": "markdown",
   "metadata": {
    "id": "TXUd_4631-gw"
   },
   "source": [
    "### <a name='8'></a> Ćwiczenie 128\n",
    "Ustaw z powrotem indeks dla kolumny _Date_. Wyświetl obiekt _google_."
   ]
  },
  {
   "cell_type": "code",
   "execution_count": null,
   "metadata": {
    "id": "E4zwlRNFoMMz"
   },
   "outputs": [],
   "source": [
    "# tutaj wpisz rozwiązanie"
   ]
  },
  {
   "cell_type": "markdown",
   "metadata": {
    "id": "tgI6xEn-2AQo"
   },
   "source": [
    "### <a name='9'></a> Ćwiczenie 129\n",
    "Usuń na stałe kolumny _Year_ i _Month_ z obiektu _google_. Wyświetl obiekt _google_."
   ]
  },
  {
   "cell_type": "code",
   "execution_count": null,
   "metadata": {
    "id": "Qpy5zTecoY1T"
   },
   "outputs": [],
   "source": [
    "# tutaj wpisz rozwiązanie"
   ]
  },
  {
   "cell_type": "markdown",
   "metadata": {
    "id": "wxhpf-uq2B1I"
   },
   "source": [
    "### <a name='10'></a> Ćwiczenie 130\n",
    "Przypisz polskie nazwy kolumn (bez polskich znaków):\n",
    "* Open -> Otwarcie\n",
    "* High -> Najwyzszy\n",
    "* Low -> Najnizszy\n",
    "* Close -> Zamkniecie\n",
    "* Volume -> Wolumen\n",
    "\n",
    "do obiektu _google_. Wyświetl obiekt _google_."
   ]
  },
  {
   "cell_type": "code",
   "execution_count": null,
   "metadata": {
    "id": "YFc0KW6URsuc"
   },
   "outputs": [],
   "source": [
    "# tutaj wpisz rozwiązanie"
   ]
  }
 ],
 "metadata": {
  "colab": {
   "provenance": []
  },
  "kernelspec": {
   "display_name": "Python (myenv_3_11)",
   "language": "python",
   "name": "myenv_3_10"
  },
  "language_info": {
   "codemirror_mode": {
    "name": "ipython",
    "version": 3
   },
   "file_extension": ".py",
   "mimetype": "text/x-python",
   "name": "python",
   "nbconvert_exporter": "python",
   "pygments_lexer": "ipython3",
   "version": "3.11.1"
  }
 },
 "nbformat": 4,
 "nbformat_minor": 4
}
