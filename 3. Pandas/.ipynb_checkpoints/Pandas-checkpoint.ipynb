{
 "cells": [
  {
   "cell_type": "markdown",
   "id": "77ad732e",
   "metadata": {},
   "source": [
    "### 3.Pandas - kluczowy pakiet do danych tabelarycznych\n",
    "- Wczytywanie danych tabelarycznych (CSV, TSV, XLS)\n",
    "- Operacje na kolumnach i wierszach\n",
    "- Filtrowanie i procesowanie danych\n",
    "- Odczytywanie danych statystycznych\n",
    "- Modyfikacja danych z użyciem funkcji pythonowych\n",
    "- Agregacja, podobieństwa do SQL\n",
    "- Pandas Profiling - raporty"
   ]
  },
  {
   "cell_type": "markdown",
   "id": "55eda14b",
   "metadata": {},
   "source": [
    "Pandas to popularna biblioteka programistyczna w języku Python, która jest używana do manipulacji i analizy danych. Jest to potężne narzędzie, które ułatwia wczytywanie, przekształcanie, eksplorację i analizę danych w formie tabelarycznej, takich jak arkusze kalkulacyjne lub bazy danych.\n",
    "\n",
    "##### Główne cechy i funkcje biblioteki Pandas:\n",
    "\n",
    "1. Struktury danych: Pandas wprowadza dwie główne struktury danych: Series i DataFrame.\n",
    "\n",
    "- Series: To jednowymiarowa tablica danych, podobna do kolumny w arkuszu kalkulacyjnym lub kolumny w bazie danych. Series można traktować jako uporządkowany zestaw danych z indeksem.\n",
    "\n",
    "- DataFrame: To dwuwymiarowa struktura danych, która przypomina tabelę lub arkusz kalkulacyjny. DataFrame składa się z kolumn i wierszy, a każda kolumna może zawierać różne typy danych.\n",
    "\n",
    "2. Wczytywanie i zapisywanie danych: Pandas umożliwia wczytywanie danych z różnych źródeł, takich jak pliki CSV, Excel, SQL, JSON i wiele innych. Możesz również zapisywać dane do tych formatów.\n",
    "\n",
    "3. Indeksowanie i selekcja danych: Pandas oferuje różnorodne mechanizmy indeksowania i selekcji danych, co pozwala na dostęp do konkretnych kolumn, wierszy lub komórek danych w bardzo elastyczny sposób.\n",
    "\n",
    "4. Operacje na danych: Biblioteka umożliwia wykonywanie różnych operacji na danych, takich jak filtrowanie, sortowanie, grupowanie, łączenie i wiele innych. Możesz także przeprowadzać operacje matematyczne na danych w sposób efektywny.\n",
    "\n",
    "5. Obsługa brakujących danych: Pandas oferuje narzędzia do radzenia sobie z danymi brakującymi, takie jak usuwanie lub uzupełnianie brakujących wartości.\n",
    "\n",
    "6. Analiza i eksploracja danych: Biblioteka ułatwia eksplorację danych poprzez obliczanie statystyk opisowych, generowanie wykresów i wizualizacji danych.\n",
    "\n",
    "7. Obsługa szeregów czasowych: Pandas posiada wsparcie dla operacji na szeregach czasowych, co jest przydatne w analizie danych związanych z czasem.\n",
    "\n",
    "8. Integracja z innymi narzędziami: Pandas można łatwo łączyć z innymi bibliotekami do analizy danych i uczenia maszynowego, takimi jak NumPy, SciPy, Matplotlib, scikit-learn i wiele innych.\n",
    "\n",
    "9. Wsparcie społeczności: Pandas posiada aktywną społeczność użytkowników i deweloperów, co oznacza, że istnieje wiele dostępnych źródeł, tutoriali i materiałów do nauki.\n",
    "\n"
   ]
  },
  {
   "cell_type": "markdown",
   "id": "a1a42cd3",
   "metadata": {},
   "source": [
    "##### Strona internetowa\n",
    "- https://pandas.pydata.org/\n",
    "\n",
    "##### Dokumentacja\n",
    "- https://pandas.pydata.org/pandas-docs/stable/\n",
    "\n",
    "##### Polecana strona\n",
    "- https://www.dataschool.io/easier-data-analysis-with-pandas/"
   ]
  },
  {
   "cell_type": "code",
   "execution_count": 1,
   "id": "5e7e0239-4086-488e-94ed-e560eb326d59",
   "metadata": {},
   "outputs": [
    {
     "name": "stdout",
     "output_type": "stream",
     "text": [
      "Requirement already satisfied: pandas in c:\\users\\tomas\\appdata\\local\\programs\\anaconda3\\envs\\env_conda_3_12_7\\lib\\site-packages (2.2.3)\n",
      "Requirement already satisfied: numpy>=1.26.0 in c:\\users\\tomas\\appdata\\local\\programs\\anaconda3\\envs\\env_conda_3_12_7\\lib\\site-packages (from pandas) (2.2.0)\n",
      "Requirement already satisfied: python-dateutil>=2.8.2 in c:\\users\\tomas\\appdata\\local\\programs\\anaconda3\\envs\\env_conda_3_12_7\\lib\\site-packages (from pandas) (2.9.0.post0)\n",
      "Requirement already satisfied: pytz>=2020.1 in c:\\users\\tomas\\appdata\\local\\programs\\anaconda3\\envs\\env_conda_3_12_7\\lib\\site-packages (from pandas) (2024.1)\n",
      "Requirement already satisfied: tzdata>=2022.7 in c:\\users\\tomas\\appdata\\local\\programs\\anaconda3\\envs\\env_conda_3_12_7\\lib\\site-packages (from pandas) (2024.2)\n",
      "Requirement already satisfied: six>=1.5 in c:\\users\\tomas\\appdata\\local\\programs\\anaconda3\\envs\\env_conda_3_12_7\\lib\\site-packages (from python-dateutil>=2.8.2->pandas) (1.16.0)\n",
      "Note: you may need to restart the kernel to use updated packages.\n"
     ]
    }
   ],
   "source": [
    "%pip install pandas"
   ]
  },
  {
   "cell_type": "code",
   "execution_count": 2,
   "id": "d451c076",
   "metadata": {},
   "outputs": [
    {
     "data": {
      "text/plain": [
       "'2.2.3'"
      ]
     },
     "execution_count": 2,
     "metadata": {},
     "output_type": "execute_result"
    }
   ],
   "source": [
    "# pip install pandas\n",
    "\n",
    "import pandas as pd\n",
    "pd.__version__"
   ]
  },
  {
   "cell_type": "markdown",
   "id": "4d8b459c-ba67-47af-9896-59363ff17427",
   "metadata": {},
   "source": [
    "### `pd.Series()` - Tablica jednowymiarowa zawierająca dane oraz ich indeksy\n",
    "Series jest jednowymiarową tablicą z etykietowanym indeksem, która może przechowywać dowolny typ danych – liczby, tekst, wartości logiczne, daty itp. Jest to fundament, na którym buduje się bardziej złożone struktury danych w Pandas."
   ]
  },
  {
   "cell_type": "code",
   "execution_count": 3,
   "id": "e6b37a46-c8ea-4fd9-ac95-407e3fb3dab6",
   "metadata": {},
   "outputs": [
    {
     "data": {
      "text/plain": [
       "0    1\n",
       "1    2\n",
       "2    3\n",
       "dtype: int64"
      ]
     },
     "execution_count": 3,
     "metadata": {},
     "output_type": "execute_result"
    }
   ],
   "source": [
    "s = pd.Series(data=[1, 2, 3])\n",
    "s"
   ]
  },
  {
   "cell_type": "code",
   "execution_count": 4,
   "id": "7ffad8bb-f508-42cd-a2cd-adf2886f5b86",
   "metadata": {},
   "outputs": [
    {
     "data": {
      "text/plain": [
       "a    1\n",
       "b    2\n",
       "c    3\n",
       "Name: test, dtype: int64"
      ]
     },
     "execution_count": 4,
     "metadata": {},
     "output_type": "execute_result"
    }
   ],
   "source": [
    "s = pd.Series(data=[1, 2, 3], index=['a', 'b', 'c'], name='test')\n",
    "s"
   ]
  },
  {
   "cell_type": "code",
   "execution_count": null,
   "id": "b977f351-51a2-449a-91aa-6540ee2986db",
   "metadata": {},
   "outputs": [],
   "source": [
    "#%pip install numpy"
   ]
  },
  {
   "cell_type": "code",
   "execution_count": 12,
   "id": "952b74b5-85c4-4c86-9862-84527e108316",
   "metadata": {},
   "outputs": [
    {
     "data": {
      "text/plain": [
       "a    1.0\n",
       "b    NaN\n",
       "c    3.0\n",
       "dtype: float64"
      ]
     },
     "execution_count": 12,
     "metadata": {},
     "output_type": "execute_result"
    }
   ],
   "source": [
    "import numpy as np\n",
    "\n",
    "s = pd.Series(data=[1, np.nan, 3], index=['a', 'b', 'c'])\n",
    "s"
   ]
  },
  {
   "cell_type": "code",
   "execution_count": 14,
   "id": "ddc8ba12-220b-49c3-929e-9e193708afea",
   "metadata": {},
   "outputs": [
    {
     "data": {
      "text/plain": [
       "2024-12-10     1\n",
       "2024-12-11     2\n",
       "2024-12-12     3\n",
       "2024-12-13     4\n",
       "2024-12-14     5\n",
       "2024-12-15     6\n",
       "2024-12-16     7\n",
       "2024-12-17     8\n",
       "2024-12-18     9\n",
       "2024-12-19    10\n",
       "Freq: D, dtype: int64"
      ]
     },
     "execution_count": 14,
     "metadata": {},
     "output_type": "execute_result"
    }
   ],
   "source": [
    "s = pd.Series(data=np.arange(1, 11), index=pd.date_range(start='20241210', periods=10))\n",
    "s"
   ]
  },
  {
   "cell_type": "code",
   "execution_count": 8,
   "id": "47181950-21a1-4e51-9dfc-14afea4dd7dd",
   "metadata": {},
   "outputs": [
    {
     "data": {
      "text/plain": [
       "dtype('int64')"
      ]
     },
     "execution_count": 8,
     "metadata": {},
     "output_type": "execute_result"
    }
   ],
   "source": [
    "s.dtypes"
   ]
  },
  {
   "cell_type": "markdown",
   "id": "a7be3fe2-3bf0-4276-86f6-20960b88cf67",
   "metadata": {},
   "source": [
    "Atrybut z indeksami jest obiektem typu `pd.Index`:"
   ]
  },
  {
   "cell_type": "code",
   "execution_count": 15,
   "id": "f14d8314-f161-4cbe-8d26-8ed65f1b55e6",
   "metadata": {},
   "outputs": [
    {
     "data": {
      "text/plain": [
       "DatetimeIndex(['2024-12-10', '2024-12-11', '2024-12-12', '2024-12-13',\n",
       "               '2024-12-14', '2024-12-15', '2024-12-16', '2024-12-17',\n",
       "               '2024-12-18', '2024-12-19'],\n",
       "              dtype='datetime64[ns]', freq='D')"
      ]
     },
     "execution_count": 15,
     "metadata": {},
     "output_type": "execute_result"
    }
   ],
   "source": [
    "s.index # często będziemy się posługiwać tą metodą"
   ]
  },
  {
   "cell_type": "code",
   "execution_count": null,
   "id": "ce44b4bf-c155-477f-a5c1-efd8c6efa296",
   "metadata": {},
   "outputs": [],
   "source": []
  },
  {
   "cell_type": "code",
   "execution_count": 18,
   "id": "bbb12e52-f1f4-4927-b2fd-d258360e40e7",
   "metadata": {},
   "outputs": [
    {
     "data": {
      "text/plain": [
       "array([ 1,  2,  3,  4,  5,  6,  7,  8,  9, 10])"
      ]
     },
     "execution_count": 18,
     "metadata": {},
     "output_type": "execute_result"
    }
   ],
   "source": [
    "s.values # często będziemy się posługiwać tą metodą"
   ]
  },
  {
   "cell_type": "markdown",
   "id": "e4c6f5b2-3f42-41c1-8855-afa18dfadc9b",
   "metadata": {},
   "source": [
    "## Series vs tablica NumPy\n",
    "\n",
    "Series uogólnia jednowymiarową tablicę NumPy:\n",
    "* tablica NumPy posiada wewnętrzną indeksację w stylu Pythona (*implicit index*);\n",
    "* Series posiada wewnętrzną indeksację w stylu Pythona plus indeksację za pomocą etykiet."
   ]
  },
  {
   "cell_type": "code",
   "execution_count": 20,
   "id": "9b525be6-8a76-4cfa-b90e-d9c333323144",
   "metadata": {},
   "outputs": [
    {
     "data": {
      "text/plain": [
       "a     3.00\n",
       "b     1.00\n",
       "c     2.71\n",
       "d   -10.00\n",
       "dtype: float64"
      ]
     },
     "execution_count": 20,
     "metadata": {},
     "output_type": "execute_result"
    }
   ],
   "source": [
    "s = pd.Series([3, 1, 2.71, -10], index=['a', 'b', 'c', 'd'])\n",
    "s"
   ]
  },
  {
   "cell_type": "code",
   "execution_count": 22,
   "id": "50e8c29c-33a5-44da-a697-1183b5eea733",
   "metadata": {},
   "outputs": [
    {
     "data": {
      "text/plain": [
       "np.float64(2.71)"
      ]
     },
     "execution_count": 22,
     "metadata": {},
     "output_type": "execute_result"
    }
   ],
   "source": [
    "s['c']"
   ]
  },
  {
   "cell_type": "markdown",
   "id": "0948be29-9b46-43d8-8af2-58e7397c34b6",
   "metadata": {},
   "source": [
    "Indeks etykiet może:\n",
    "* nie zachowywać kolejności,\n",
    "* posiadać luki,\n",
    "* posiadać powtórzenia."
   ]
  },
  {
   "cell_type": "code",
   "execution_count": 23,
   "id": "06699ae3-dadd-4c5f-8bd7-2d725ae42325",
   "metadata": {},
   "outputs": [
    {
     "data": {
      "text/plain": [
       "0    python\n",
       "1       sas\n",
       "2         r\n",
       "Name: jezyki, dtype: object"
      ]
     },
     "execution_count": 23,
     "metadata": {},
     "output_type": "execute_result"
    }
   ],
   "source": [
    "s = pd.Series(data=['python', 'sas', 'r'], name='jezyki')\n",
    "s"
   ]
  },
  {
   "cell_type": "code",
   "execution_count": 25,
   "id": "183cbfd0-bc46-4f6c-82ac-a1f9363cf344",
   "metadata": {},
   "outputs": [
    {
     "data": {
      "text/plain": [
       "a     3.00\n",
       "a     1.00\n",
       "c     2.71\n",
       "d   -10.00\n",
       "dtype: float64"
      ]
     },
     "execution_count": 25,
     "metadata": {},
     "output_type": "execute_result"
    }
   ],
   "source": [
    "s = pd.Series([3, 1, 2.71, -10], index=['a', 'a', 'c', 'd'])\n",
    "s"
   ]
  },
  {
   "cell_type": "code",
   "execution_count": 28,
   "id": "6dbf25b7-40a7-4122-90fe-4855bd99a262",
   "metadata": {},
   "outputs": [
    {
     "data": {
      "text/plain": [
       "a    3.0\n",
       "a    1.0\n",
       "dtype: float64"
      ]
     },
     "execution_count": 28,
     "metadata": {},
     "output_type": "execute_result"
    }
   ],
   "source": [
    "s['a']"
   ]
  },
  {
   "cell_type": "markdown",
   "id": "e2749b6d-5dc7-4c03-8739-471f7a32c6d1",
   "metadata": {},
   "source": [
    "## Series jako rodzaj słownika\n",
    "\n",
    "Klucze słownika przechodzą na etykiety podczas przekształcania słownika na obiekt Series:"
   ]
  },
  {
   "cell_type": "code",
   "execution_count": 29,
   "id": "d5cb4394-6c9a-4fa7-b40c-245f815be6a7",
   "metadata": {},
   "outputs": [
    {
     "data": {
      "text/plain": [
       "Polska     38501\n",
       "Czechy     10221\n",
       "Szwecja     9045\n",
       "Niemcy     82370\n",
       "Litwa       3565\n",
       "dtype: int64"
      ]
     },
     "execution_count": 29,
     "metadata": {},
     "output_type": "execute_result"
    }
   ],
   "source": [
    "ludność_dict = {'Polska': 38501,\n",
    "                'Czechy': 10221,\n",
    "                'Szwecja': 9045,\n",
    "                'Niemcy': 82370,\n",
    "                'Litwa': 3565}\n",
    "\n",
    "ludność = pd.Series(ludność_dict)\n",
    "ludność"
   ]
  },
  {
   "cell_type": "markdown",
   "id": "fba95e73-7ad7-496a-926d-ab5bd7d43c80",
   "metadata": {},
   "source": [
    "Indeks etykiet w obiekcie Series ma niektóre cechy kluczy słownika, np. dostęp do elementu:"
   ]
  },
  {
   "cell_type": "code",
   "execution_count": 33,
   "id": "0f8b48d3-3cf0-46da-b060-5b502bbbdad7",
   "metadata": {},
   "outputs": [
    {
     "data": {
      "text/plain": [
       "np.int64(38501)"
      ]
     },
     "execution_count": 33,
     "metadata": {},
     "output_type": "execute_result"
    }
   ],
   "source": [
    "ludność['Polska']"
   ]
  },
  {
   "cell_type": "code",
   "execution_count": 35,
   "id": "2c2d7aa3-64be-43fd-974e-17911d6a299e",
   "metadata": {},
   "outputs": [
    {
     "data": {
      "text/plain": [
       "np.int64(38501)"
      ]
     },
     "execution_count": 35,
     "metadata": {},
     "output_type": "execute_result"
    }
   ],
   "source": [
    "ludność.Polska"
   ]
  },
  {
   "cell_type": "markdown",
   "id": "34618929-290e-4f72-a70f-56d439c4418b",
   "metadata": {},
   "source": [
    "## Selekcja elementów z obiektu Series\n",
    "\n",
    "Obiekt Series ma równocześnie cechy słownika i jednowymiarowej tablicy. \n",
    "\n",
    "Niektóre wzorce dostępu do elementów naśladują te ze słownika, inne te z tablicy jednowymiarowej."
   ]
  },
  {
   "cell_type": "code",
   "execution_count": 36,
   "id": "b0069b72-0759-4c48-ba02-648ce4c7d7b5",
   "metadata": {},
   "outputs": [
    {
     "data": {
      "text/plain": [
       "np.int64(10221)"
      ]
     },
     "execution_count": 36,
     "metadata": {},
     "output_type": "execute_result"
    }
   ],
   "source": [
    "ludność['Czechy']"
   ]
  },
  {
   "cell_type": "code",
   "execution_count": 37,
   "id": "caf9f959-f7fc-49af-9771-fa69a0e0b681",
   "metadata": {},
   "outputs": [
    {
     "data": {
      "text/plain": [
       "True"
      ]
     },
     "execution_count": 37,
     "metadata": {},
     "output_type": "execute_result"
    }
   ],
   "source": [
    "'Polska' in ludność"
   ]
  },
  {
   "cell_type": "code",
   "execution_count": 38,
   "id": "8c55f22d-6ec5-4ce7-91fb-a6314677efcb",
   "metadata": {},
   "outputs": [
    {
     "data": {
      "text/plain": [
       "Index(['Polska', 'Czechy', 'Szwecja', 'Niemcy', 'Litwa'], dtype='object')"
      ]
     },
     "execution_count": 38,
     "metadata": {},
     "output_type": "execute_result"
    }
   ],
   "source": [
    "ludność.keys()"
   ]
  },
  {
   "cell_type": "code",
   "execution_count": 39,
   "id": "f2e28141-4194-45aa-8a30-ea5673a17a50",
   "metadata": {},
   "outputs": [
    {
     "data": {
      "text/plain": [
       "[('Polska', 38501),\n",
       " ('Czechy', 10221),\n",
       " ('Szwecja', 9045),\n",
       " ('Niemcy', 82370),\n",
       " ('Litwa', 3565)]"
      ]
     },
     "execution_count": 39,
     "metadata": {},
     "output_type": "execute_result"
    }
   ],
   "source": [
    "list(ludność.items())"
   ]
  },
  {
   "cell_type": "markdown",
   "id": "2469c36b-ca61-46a5-8da9-a99c3da3e7b2",
   "metadata": {},
   "source": [
    "Modyfikacja w miejscu:"
   ]
  },
  {
   "cell_type": "code",
   "execution_count": 41,
   "id": "c37b86ff-7a9b-4600-88d3-4d29a11d76d6",
   "metadata": {},
   "outputs": [
    {
     "data": {
      "text/plain": [
       "Polska     38501\n",
       "Czechy     10221\n",
       "Szwecja     9045\n",
       "Niemcy     82370\n",
       "Litwa       3565\n",
       "Grecja     10723\n",
       "dtype: int64"
      ]
     },
     "execution_count": 41,
     "metadata": {},
     "output_type": "execute_result"
    }
   ],
   "source": [
    "ludność['Grecja'] = 10723\n",
    "ludność"
   ]
  },
  {
   "cell_type": "code",
   "execution_count": 48,
   "id": "b80e9db8-8e8b-4a2a-9382-1604aa9566ca",
   "metadata": {},
   "outputs": [
    {
     "data": {
      "text/plain": [
       "Polska     38501\n",
       "Czechy     10221\n",
       "Szwecja     9045\n",
       "Niemcy     82370\n",
       "Litwa       3565\n",
       "Grecja     10723\n",
       "dtype: int64"
      ]
     },
     "execution_count": 48,
     "metadata": {},
     "output_type": "execute_result"
    }
   ],
   "source": [
    "ludność"
   ]
  },
  {
   "cell_type": "code",
   "execution_count": 46,
   "id": "29e65b62-0755-4bff-93e3-86e6cc60a2b7",
   "metadata": {},
   "outputs": [
    {
     "data": {
      "text/plain": [
       "[('Polska', 38501),\n",
       " ('Czechy', 10221),\n",
       " ('Szwecja', 9045),\n",
       " ('Niemcy', 82370),\n",
       " ('Litwa', 3565),\n",
       " ('Grecja', 10723)]"
      ]
     },
     "execution_count": 46,
     "metadata": {},
     "output_type": "execute_result"
    }
   ],
   "source": [
    "list(ludność.items())"
   ]
  },
  {
   "cell_type": "code",
   "execution_count": 44,
   "id": "b0c68eb4-1167-48a0-86e1-367e09a7b888",
   "metadata": {},
   "outputs": [
    {
     "data": {
      "text/plain": [
       "np.int64(10723)"
      ]
     },
     "execution_count": 44,
     "metadata": {},
     "output_type": "execute_result"
    }
   ],
   "source": [
    "ludność['Grecja']"
   ]
  },
  {
   "cell_type": "markdown",
   "id": "fad54fc8-ece7-48d7-9b16-804ca655595f",
   "metadata": {},
   "source": [
    "Series jako tablica jednowymiarowa pozwala na dostęp do wartości poprzez:\n",
    "* wycinki,\n",
    "* maskowanie,\n",
    "* wymyślne indeksowanie."
   ]
  },
  {
   "cell_type": "code",
   "execution_count": 45,
   "id": "971caddb-3202-4856-b9e3-00b22bd1ead6",
   "metadata": {},
   "outputs": [
    {
     "data": {
      "text/plain": [
       "Czechy     10221\n",
       "Szwecja     9045\n",
       "Niemcy     82370\n",
       "dtype: int64"
      ]
     },
     "execution_count": 45,
     "metadata": {},
     "output_type": "execute_result"
    }
   ],
   "source": [
    "# Wycinek indeksów z poziomu etykiet\n",
    "ludność['Czechy':'Niemcy'] # Prawy kraniec zaliczony!"
   ]
  },
  {
   "cell_type": "code",
   "execution_count": null,
   "id": "07130346-92b0-4f07-8227-daa2e0395519",
   "metadata": {},
   "outputs": [],
   "source": []
  },
  {
   "cell_type": "code",
   "execution_count": null,
   "id": "8f0180d4-01f2-41c7-8d0f-b0addb07e866",
   "metadata": {},
   "outputs": [],
   "source": []
  }
 ],
 "metadata": {
  "kernelspec": {
   "display_name": "env_conda_3_12_7",
   "language": "python",
   "name": "env_conda_3_12_7"
  },
  "language_info": {
   "codemirror_mode": {
    "name": "ipython",
    "version": 3
   },
   "file_extension": ".py",
   "mimetype": "text/x-python",
   "name": "python",
   "nbconvert_exporter": "python",
   "pygments_lexer": "ipython3",
   "version": "3.12.7"
  }
 },
 "nbformat": 4,
 "nbformat_minor": 5
}
