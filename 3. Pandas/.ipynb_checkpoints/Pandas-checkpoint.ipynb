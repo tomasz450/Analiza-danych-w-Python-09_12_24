{
 "cells": [
  {
   "cell_type": "markdown",
   "id": "77ad732e",
   "metadata": {},
   "source": [
    "### 3.Pandas - kluczowy pakiet do danych tabelarycznych\n",
    "- Wczytywanie danych tabelarycznych (CSV, TSV, XLS)\n",
    "- Operacje na kolumnach i wierszach\n",
    "- Filtrowanie i procesowanie danych\n",
    "- Odczytywanie danych statystycznych\n",
    "- Modyfikacja danych z użyciem funkcji pythonowych\n",
    "- Agregacja, podobieństwa do SQL\n",
    "- Pandas Profiling - raporty"
   ]
  },
  {
   "cell_type": "markdown",
   "id": "55eda14b",
   "metadata": {},
   "source": [
    "Pandas to popularna biblioteka programistyczna w języku Python, która jest używana do manipulacji i analizy danych. Jest to potężne narzędzie, które ułatwia wczytywanie, przekształcanie, eksplorację i analizę danych w formie tabelarycznej, takich jak arkusze kalkulacyjne lub bazy danych.\n",
    "\n",
    "##### Główne cechy i funkcje biblioteki Pandas:\n",
    "\n",
    "1. Struktury danych: Pandas wprowadza dwie główne struktury danych: Series i DataFrame.\n",
    "\n",
    "- Series: To jednowymiarowa tablica danych, podobna do kolumny w arkuszu kalkulacyjnym lub kolumny w bazie danych. Series można traktować jako uporządkowany zestaw danych z indeksem.\n",
    "\n",
    "- DataFrame: To dwuwymiarowa struktura danych, która przypomina tabelę lub arkusz kalkulacyjny. DataFrame składa się z kolumn i wierszy, a każda kolumna może zawierać różne typy danych.\n",
    "\n",
    "2. Wczytywanie i zapisywanie danych: Pandas umożliwia wczytywanie danych z różnych źródeł, takich jak pliki CSV, Excel, SQL, JSON i wiele innych. Możesz również zapisywać dane do tych formatów.\n",
    "\n",
    "3. Indeksowanie i selekcja danych: Pandas oferuje różnorodne mechanizmy indeksowania i selekcji danych, co pozwala na dostęp do konkretnych kolumn, wierszy lub komórek danych w bardzo elastyczny sposób.\n",
    "\n",
    "4. Operacje na danych: Biblioteka umożliwia wykonywanie różnych operacji na danych, takich jak filtrowanie, sortowanie, grupowanie, łączenie i wiele innych. Możesz także przeprowadzać operacje matematyczne na danych w sposób efektywny.\n",
    "\n",
    "5. Obsługa brakujących danych: Pandas oferuje narzędzia do radzenia sobie z danymi brakującymi, takie jak usuwanie lub uzupełnianie brakujących wartości.\n",
    "\n",
    "6. Analiza i eksploracja danych: Biblioteka ułatwia eksplorację danych poprzez obliczanie statystyk opisowych, generowanie wykresów i wizualizacji danych.\n",
    "\n",
    "7. Obsługa szeregów czasowych: Pandas posiada wsparcie dla operacji na szeregach czasowych, co jest przydatne w analizie danych związanych z czasem.\n",
    "\n",
    "8. Integracja z innymi narzędziami: Pandas można łatwo łączyć z innymi bibliotekami do analizy danych i uczenia maszynowego, takimi jak NumPy, SciPy, Matplotlib, scikit-learn i wiele innych.\n",
    "\n",
    "9. Wsparcie społeczności: Pandas posiada aktywną społeczność użytkowników i deweloperów, co oznacza, że istnieje wiele dostępnych źródeł, tutoriali i materiałów do nauki.\n",
    "\n"
   ]
  },
  {
   "cell_type": "markdown",
   "id": "a1a42cd3",
   "metadata": {},
   "source": [
    "##### Strona internetowa\n",
    "- https://pandas.pydata.org/\n",
    "\n",
    "##### Dokumentacja\n",
    "- https://pandas.pydata.org/pandas-docs/stable/\n",
    "\n",
    "##### Polecana strona\n",
    "- https://www.dataschool.io/easier-data-analysis-with-pandas/"
   ]
  },
  {
   "cell_type": "code",
   "execution_count": 1,
   "id": "5e7e0239-4086-488e-94ed-e560eb326d59",
   "metadata": {},
   "outputs": [
    {
     "name": "stdout",
     "output_type": "stream",
     "text": [
      "Requirement already satisfied: pandas in c:\\users\\tomas\\appdata\\local\\programs\\anaconda3\\envs\\env_conda_3_12_7\\lib\\site-packages (2.2.3)\n",
      "Requirement already satisfied: numpy>=1.26.0 in c:\\users\\tomas\\appdata\\local\\programs\\anaconda3\\envs\\env_conda_3_12_7\\lib\\site-packages (from pandas) (2.2.0)\n",
      "Requirement already satisfied: python-dateutil>=2.8.2 in c:\\users\\tomas\\appdata\\local\\programs\\anaconda3\\envs\\env_conda_3_12_7\\lib\\site-packages (from pandas) (2.9.0.post0)\n",
      "Requirement already satisfied: pytz>=2020.1 in c:\\users\\tomas\\appdata\\local\\programs\\anaconda3\\envs\\env_conda_3_12_7\\lib\\site-packages (from pandas) (2024.1)\n",
      "Requirement already satisfied: tzdata>=2022.7 in c:\\users\\tomas\\appdata\\local\\programs\\anaconda3\\envs\\env_conda_3_12_7\\lib\\site-packages (from pandas) (2024.2)\n",
      "Requirement already satisfied: six>=1.5 in c:\\users\\tomas\\appdata\\local\\programs\\anaconda3\\envs\\env_conda_3_12_7\\lib\\site-packages (from python-dateutil>=2.8.2->pandas) (1.16.0)\n",
      "Note: you may need to restart the kernel to use updated packages.\n"
     ]
    }
   ],
   "source": [
    "%pip install pandas"
   ]
  },
  {
   "cell_type": "code",
   "execution_count": 2,
   "id": "d451c076",
   "metadata": {},
   "outputs": [
    {
     "data": {
      "text/plain": [
       "'2.2.3'"
      ]
     },
     "execution_count": 2,
     "metadata": {},
     "output_type": "execute_result"
    }
   ],
   "source": [
    "# pip install pandas\n",
    "\n",
    "import pandas as pd\n",
    "pd.__version__"
   ]
  },
  {
   "cell_type": "markdown",
   "id": "4d8b459c-ba67-47af-9896-59363ff17427",
   "metadata": {},
   "source": [
    "### `pd.Series()` - Tablica jednowymiarowa zawierająca dane oraz ich indeksy\n",
    "Series jest jednowymiarową tablicą z etykietowanym indeksem, która może przechowywać dowolny typ danych – liczby, tekst, wartości logiczne, daty itp. Jest to fundament, na którym buduje się bardziej złożone struktury danych w Pandas."
   ]
  },
  {
   "cell_type": "code",
   "execution_count": 3,
   "id": "e6b37a46-c8ea-4fd9-ac95-407e3fb3dab6",
   "metadata": {},
   "outputs": [
    {
     "data": {
      "text/plain": [
       "0    1\n",
       "1    2\n",
       "2    3\n",
       "dtype: int64"
      ]
     },
     "execution_count": 3,
     "metadata": {},
     "output_type": "execute_result"
    }
   ],
   "source": [
    "s = pd.Series(data=[1, 2, 3])\n",
    "s"
   ]
  },
  {
   "cell_type": "code",
   "execution_count": 4,
   "id": "7ffad8bb-f508-42cd-a2cd-adf2886f5b86",
   "metadata": {},
   "outputs": [
    {
     "data": {
      "text/plain": [
       "a    1\n",
       "b    2\n",
       "c    3\n",
       "Name: test, dtype: int64"
      ]
     },
     "execution_count": 4,
     "metadata": {},
     "output_type": "execute_result"
    }
   ],
   "source": [
    "s = pd.Series(data=[1, 2, 3], index=['a', 'b', 'c'], name='test')\n",
    "s"
   ]
  },
  {
   "cell_type": "code",
   "execution_count": null,
   "id": "b977f351-51a2-449a-91aa-6540ee2986db",
   "metadata": {},
   "outputs": [],
   "source": [
    "#%pip install numpy"
   ]
  },
  {
   "cell_type": "code",
   "execution_count": 5,
   "id": "952b74b5-85c4-4c86-9862-84527e108316",
   "metadata": {},
   "outputs": [
    {
     "data": {
      "text/plain": [
       "a    1.0\n",
       "b    NaN\n",
       "c    3.0\n",
       "Name: test, dtype: float64"
      ]
     },
     "execution_count": 5,
     "metadata": {},
     "output_type": "execute_result"
    }
   ],
   "source": [
    "import numpy as np\n",
    "\n",
    "s = pd.Series(data=[1, np.nan, 3], index=['a', 'b', 'c'], name='test')\n",
    "s"
   ]
  }
 ],
 "metadata": {
  "kernelspec": {
   "display_name": "env_conda_3_12_7",
   "language": "python",
   "name": "env_conda_3_12_7"
  },
  "language_info": {
   "codemirror_mode": {
    "name": "ipython",
    "version": 3
   },
   "file_extension": ".py",
   "mimetype": "text/x-python",
   "name": "python",
   "nbconvert_exporter": "python",
   "pygments_lexer": "ipython3",
   "version": "3.12.7"
  }
 },
 "nbformat": 4,
 "nbformat_minor": 5
}
